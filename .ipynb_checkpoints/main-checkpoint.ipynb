{
 "cells": [
  {
   "cell_type": "code",
   "execution_count": 1,
   "id": "a6164808-2b20-4d30-8f2a-3922335e7519",
   "metadata": {
    "tags": []
   },
   "outputs": [
    {
     "name": "stderr",
     "output_type": "stream",
     "text": [
      "/Users/andrew/anaconda3/lib/python3.11/site-packages/merlin/dtypes/mappings/triton.py:53: UserWarning: Triton dtype mappings did not load successfully due to an error: No module named 'tritonclient'\n",
      "  warn(f\"Triton dtype mappings did not load successfully due to an error: {exc.msg}\")\n"
     ]
    },
    {
     "name": "stdout",
     "output_type": "stream",
     "text": [
      "WARNING:tensorflow:Please fix your imports. Module tensorflow.python.training.tracking.data_structures has been moved to tensorflow.python.trackable.data_structures. The old module will be deleted in version 2.11.\n"
     ]
    }
   ],
   "source": [
    "#This is a starting point\n",
    "#uncomment below to install merlin library\n",
    "#!pip install merlin, nvtabular, merlin.models\n",
    "#I had to downgrade keras to 12.2.0 there maybe issues regarding tensorflow in the future\n",
    "#run lines below if you have also have an error ab not finding a keras package\n",
    "\n",
    "#!pip uninstall keras\n",
    "#!pip install keras==2.12.0\n",
    "\n",
    "\n",
    "#These are the same imports from\n",
    "#https://github.com/NVIDIA-Merlin/models/blob/main/examples/02-Merlin-Models-and-NVTabular-integration.ipynb\n",
    "import os\n",
    "import pandas as pd\n",
    "import numpy as np\n",
    "import nvtabular as nvt\n",
    "import matplotlib.pyplot as plt\n",
    "import seaborn as sns\n",
    "import keras\n",
    "import polars as pl\n",
    "\n",
    "from sklearn.model_selection import train_test_split\n",
    "\n",
    "from merlin.models.utils.example_utils import workflow_fit_transform\n",
    "import merlin.io\n",
    "import tensorflow as tf\n",
    "\n",
    "import merlin.models.tf as mm\n",
    "from merlin.io.dataset import Dataset\n",
    "from nvtabular.ops import *\n",
    "from merlin.core.utils import download_file\n",
    "from merlin.schema.tags import Tags"
   ]
  },
  {
   "cell_type": "markdown",
   "id": "fed8d8ae-f403-4689-89fc-076f17da0266",
   "metadata": {},
   "source": [
    "### To-do"
   ]
  },
  {
   "cell_type": "markdown",
   "id": "769d4f8b-6d21-415a-bff4-df59e11ac481",
   "metadata": {},
   "source": [
    "1. Clean data << Prices on user_interactions are not what they should be... probably is more\n",
    "2. EDA\n",
    "3. Transform timestamps\n",
    "4. Find out why certain things are crashing the model\n",
    "5. Learn about models and optimizers"
   ]
  },
  {
   "cell_type": "markdown",
   "id": "a340cdef-e86d-43fe-ac78-a6ff62a25aed",
   "metadata": {},
   "source": [
    "# Load and split"
   ]
  },
  {
   "cell_type": "code",
   "execution_count": 333,
   "id": "032fb1a0-26b4-42c1-a348-b103f9d80e5e",
   "metadata": {},
   "outputs": [],
   "source": [
    "df = pd.read_csv('/Users/andrew/Desktop/projects/recsys_data/2023-10-05 9_23pm (2).csv').dropna()\n",
    "#  ^ This needs point to your local .csv too big for github\n",
    "\n",
    "#accidentally added an extra CLICKSTREAM_EVENTS_TOTAL column\n",
    "df['TARGET'] = 0\n",
    "\n",
    "#Different values for different event_names\n",
    "\n",
    "df.loc[df['EVENT_NAME'] == 'order', 'TARGET'] = 5\n",
    "df.loc[df['EVENT_NAME'] == 'product_viewed', 'TARGET'] = 1\n",
    "\n",
    "full_df = df\n",
    "\n",
    "df = df.sample(40000)"
   ]
  },
  {
   "cell_type": "code",
   "execution_count": 334,
   "id": "9b0c08d7-bc83-43c2-b826-6b84a5261ccb",
   "metadata": {
    "tags": []
   },
   "outputs": [
    {
     "data": {
      "text/plain": [
       "Index(['USER_ID', 'COUNTRY', 'DERIVED_GENDER_BY_NAME',\n",
       "       'CLICKSTREAM_EVENTS_TOTAL', 'FIRST_PURCHASE_AT', 'FIRST_VISIT_AT',\n",
       "       'LATEST_VISIT_AT', 'LATEST_PURCHASE_AT', 'DAYS_SINCE_FIRST_VISIT',\n",
       "       'DAYS_SINCE_FIRST_PURCHASE', 'DAYS_SINCE_LAST_VISIT',\n",
       "       'DAYS_SINCE_LAST_PURCHASE', 'RECENT_VISIT', 'UNIQUE_PURCHASE_COUNT',\n",
       "       'MULTIPLE_BUYER', 'EVENT_NAME', 'EVENT_TIMESTAMP', 'ITEM_ID',\n",
       "       'PRICE_INFORMATION', 'DAYS_SINCE_INTERACTION', 'AVG_REVIEW_SCORE',\n",
       "       'STYLE', 'TAXONOMY_STYLE', 'COLOR_NAME', 'PRODUCT_CLASS',\n",
       "       'PRODUCT_SUBCLASS', 'TEAM', 'FRANCHISE', 'PRODUCT_GROUP', 'TARGET'],\n",
       "      dtype='object')"
      ]
     },
     "execution_count": 334,
     "metadata": {},
     "output_type": "execute_result"
    }
   ],
   "source": [
    "df.columns"
   ]
  },
  {
   "cell_type": "code",
   "execution_count": 309,
   "id": "893eeb30-40a7-4791-83f6-4a1936fe4a21",
   "metadata": {
    "tags": []
   },
   "outputs": [],
   "source": [
    "negative_sample = df[['USER_ID', 'ITEM_ID', 'TARGET']]\n",
    "\n",
    "user_df = df[['USER_ID', 'ITEM_ID', 'COUNTRY', 'DERIVED_GENDER_BY_NAME', 'CLICKSTREAM_EVENTS_TOTAL', 'FIRST_PURCHASE_AT', 'FIRST_VISIT_AT',\n",
    "              'LATEST_VISIT_AT', 'LATEST_PURCHASE_AT', 'DAYS_SINCE_FIRST_VISIT', 'DAYS_SINCE_FIRST_PURCHASE', 'DAYS_SINCE_LAST_VISIT',\n",
    "              'DAYS_SINCE_LAST_PURCHASE', 'RECENT_VISIT']]\n",
    "item_df = df[['ITEM_ID', 'USER_ID', 'PRICE_INFORMATION', 'AVG_REVIEW_SCORE',\n",
    "              'STYLE', 'TAXONOMY_STYLE', 'COLOR_NAME', 'PRODUCT_CLASS',\n",
    "              'PRODUCT_SUBCLASS', 'TEAM', 'FRANCHISE', 'PRODUCT_GROUP']] #Took away timestamps and days since interaction"
   ]
  },
  {
   "cell_type": "code",
   "execution_count": 335,
   "id": "a6f0b4d3-d6d8-440b-98a7-89e9fc1c1383",
   "metadata": {
    "tags": []
   },
   "outputs": [],
   "source": [
    "sections = df.shape[0]//10000\n",
    "negative_data = []\n",
    "item_map = full_df['ITEM_ID'].unique()\n",
    "rng = np.random.default_rng()\n",
    "zero_multiplier = 3\n",
    "\n",
    "for chunk in np.array_split(df, sections):\n",
    "    user_id_counts = pd.value_counts(chunk.USER_ID)\n",
    "    item_ids = []\n",
    "    for user_id, count in user_id_counts.items():\n",
    "        item_ids.append(np.random.randint(low = 0, high = item_map.shape[0], size = count*zero_multiplier))\n",
    "    item_ids = np.concatenate(item_ids)\n",
    "    negative_data.append(pd.DataFrame({'USER_ID': np.repeat(user_id_counts.index, repeats = user_id_counts.values*zero_multiplier),\n",
    "                                       'ITEM_ID': item_map[item_ids],\n",
    "                                       'TARGET': 0}))\n",
    "negative_data.append(negative_sample)\n",
    "sample_data = pd.concat(negative_data)\n",
    "sample_data = sample_data.reset_index(drop = True)"
   ]
  },
  {
   "cell_type": "code",
   "execution_count": 336,
   "id": "9b706ec8-8100-4955-9e80-53cf449b0de3",
   "metadata": {
    "tags": []
   },
   "outputs": [],
   "source": [
    "#it was a battle to merge user info and item info with negatively sampled df can't promise its 100% correct"
   ]
  },
  {
   "cell_type": "code",
   "execution_count": 337,
   "id": "84da7081-ba01-4825-84a4-4dc1a5046ea1",
   "metadata": {
    "tags": []
   },
   "outputs": [],
   "source": [
    "df_subset = sample_data.merge(user_df, on = ['USER_ID', 'ITEM_ID'], how = 'outer').sort_values(['USER_ID', 'TARGET'], ascending=False).drop_duplicates(subset = ['USER_ID', 'ITEM_ID']).fillna(method='bfill')"
   ]
  },
  {
   "cell_type": "code",
   "execution_count": 338,
   "id": "6a576753-86db-4117-af30-8c893825ab37",
   "metadata": {
    "tags": []
   },
   "outputs": [],
   "source": [
    "df_subset = df_subset.merge(item_df, on = ['USER_ID', 'ITEM_ID'], how = 'outer').sort_values(['ITEM_ID', 'TARGET'], ascending=False).drop_duplicates(subset = ['USER_ID', 'ITEM_ID']).fillna(method='bfill')"
   ]
  },
  {
   "cell_type": "code",
   "execution_count": 339,
   "id": "e7437ef1-617b-4196-a0c2-cfd919420656",
   "metadata": {
    "tags": []
   },
   "outputs": [],
   "source": [
    "df = df_subset"
   ]
  },
  {
   "cell_type": "code",
   "execution_count": 340,
   "id": "23b013f6-8acc-41d4-9fa9-193ec7f1048a",
   "metadata": {
    "tags": []
   },
   "outputs": [
    {
     "data": {
      "text/plain": [
       "Index(['USER_ID', 'ITEM_ID', 'TARGET', 'COUNTRY', 'DERIVED_GENDER_BY_NAME',\n",
       "       'CLICKSTREAM_EVENTS_TOTAL', 'FIRST_PURCHASE_AT', 'FIRST_VISIT_AT',\n",
       "       'LATEST_VISIT_AT', 'LATEST_PURCHASE_AT', 'DAYS_SINCE_FIRST_VISIT',\n",
       "       'DAYS_SINCE_FIRST_PURCHASE', 'DAYS_SINCE_LAST_VISIT',\n",
       "       'DAYS_SINCE_LAST_PURCHASE', 'RECENT_VISIT', 'PRICE_INFORMATION',\n",
       "       'AVG_REVIEW_SCORE', 'STYLE', 'TAXONOMY_STYLE', 'COLOR_NAME',\n",
       "       'PRODUCT_CLASS', 'PRODUCT_SUBCLASS', 'TEAM', 'FRANCHISE',\n",
       "       'PRODUCT_GROUP'],\n",
       "      dtype='object')"
      ]
     },
     "execution_count": 340,
     "metadata": {},
     "output_type": "execute_result"
    }
   ],
   "source": [
    "df.columns"
   ]
  },
  {
   "cell_type": "code",
   "execution_count": 341,
   "id": "6dd79ec9-f741-4e0d-a46e-123e36c4f68c",
   "metadata": {
    "tags": []
   },
   "outputs": [],
   "source": [
    "#num rows\n",
    "data_size = df.shape[0]\n",
    "\n",
    "train_split_ratio = int(.33 * data_size)\n",
    "\n",
    "train = df[:-train_split_ratio].to_parquet(\"train.parquet\")\n",
    "valid = df[-train_split_ratio:].to_parquet(\"valid.parquet\")"
   ]
  },
  {
   "cell_type": "code",
   "execution_count": 342,
   "id": "d0ab6b8f-52dc-4246-b9f0-62751d2016ef",
   "metadata": {
    "tags": []
   },
   "outputs": [
    {
     "data": {
      "text/plain": [
       "0.2104375"
      ]
     },
     "execution_count": 342,
     "metadata": {},
     "output_type": "execute_result"
    }
   ],
   "source": [
    "len(sample_data[sample_data['TARGET'] > 0])/len(sample_data)"
   ]
  },
  {
   "cell_type": "markdown",
   "id": "7b424279-225c-4eef-b583-0427bc954c57",
   "metadata": {},
   "source": [
    "# EDA"
   ]
  },
  {
   "cell_type": "code",
   "execution_count": null,
   "id": "770badc5-5a3d-4282-a455-fef1eff25209",
   "metadata": {
    "tags": []
   },
   "outputs": [],
   "source": []
  },
  {
   "cell_type": "code",
   "execution_count": null,
   "id": "74fc862f-90f9-4db2-858b-bc4e93925ab2",
   "metadata": {},
   "outputs": [],
   "source": []
  },
  {
   "cell_type": "markdown",
   "id": "da5efa1f-91e7-4c32-a882-6bbe6fe26555",
   "metadata": {},
   "source": [
    "# NVTabular"
   ]
  },
  {
   "cell_type": "code",
   "execution_count": 343,
   "id": "5f247a55-cbdd-4cce-8b47-7e939e0984e9",
   "metadata": {},
   "outputs": [],
   "source": [
    "#This is how to iniate a dataset using NVtabular an NVIDIA \n",
    "#optimized ETL/feature engineering(i think?) library\n",
    "#data = nvt.io.dataset.Dataset('data/reviews.csv')"
   ]
  },
  {
   "cell_type": "code",
   "execution_count": 344,
   "id": "7d3c6c8f-282a-489f-8e5c-51411edc1435",
   "metadata": {
    "tags": []
   },
   "outputs": [],
   "source": [
    "categorical_user_features = ['COUNTRY']\n",
    "categorical_item_features = ['STYLE', 'TAXONOMY_STYLE', 'COLOR_NAME', 'PRODUCT_CLASS', 'PRODUCT_SUBCLASS', 'TEAM', 'FRANCHISE', 'PRODUCT_GROUP']"
   ]
  },
  {
   "cell_type": "code",
   "execution_count": 345,
   "id": "f941f6d0-41be-4177-aac5-a884aa7bb630",
   "metadata": {
    "tags": []
   },
   "outputs": [],
   "source": [
    "#Features needed to Transform still: FIRST_PURCHASE_AT, FIRST_VISIT_AT, LATEST_VISIT_AT\n",
    "# LATEST_PURCHASE_AT, EVENT_TIMESTAMP"
   ]
  },
  {
   "cell_type": "code",
   "execution_count": 346,
   "id": "c397eb73-c1bc-4e1b-838c-d72a85c2adb1",
   "metadata": {
    "tags": []
   },
   "outputs": [],
   "source": [
    "#DON'T FORGET TARGET ENCODING CATEGORICAL VALUES"
   ]
  },
  {
   "cell_type": "code",
   "execution_count": 347,
   "id": "74895def-f932-4e9c-b1f8-0d78da2b7571",
   "metadata": {
    "tags": []
   },
   "outputs": [],
   "source": [
    "user_id = [\"USER_ID\"] >> Categorify(dtype = \"int32\", out_path='categories') >> TagAsUserID()\n",
    "item_id = [\"ITEM_ID\"] >> Categorify(dtype = \"int32\", out_path='categories') >> TagAsItemID()\n",
    "\n",
    "target = (\n",
    "    #Turn categorical into continuous\n",
    "    nvt.ColumnSelector([\"TARGET\"])\n",
    "    #>> LambdaOp(lambda col: (col > 0).astype(\"int32\")) CHANGES ALL WEIGHTS TO 1 \n",
    "    >> AddTags([\"binary_classification\", \"target\"])\n",
    "    >> Rename(name=\"INTERACTION_BINARY\")\n",
    ")\n",
    "\n",
    "item_features = categorical_item_features >> Categorify(dtype = \"int32\") >> TagAsItemFeatures()\n",
    "user_features = categorical_user_features >> Categorify(dtype = \"int32\") >> TagAsUserFeatures()"
   ]
  },
  {
   "cell_type": "code",
   "execution_count": 348,
   "id": "9d3d475a-df44-4291-bbd7-1f534e8d5c34",
   "metadata": {
    "tags": []
   },
   "outputs": [],
   "source": [
    "#Make this more succinct\n",
    "CLICKSTREAM_EVENTS_TOTAL = (\n",
    "    nvt.ColumnSelector(['CLICKSTREAM_EVENTS_TOTAL'])\n",
    "    >>FillMissing(1)\n",
    "    >>LogOp()\n",
    "    >>Normalize()\n",
    "    >>LambdaOp(lambda col: col.astype(\"float32\"))\n",
    "    >>TagAsUserFeatures()\n",
    ")\n",
    "\n",
    "#has the price changed over time?\n",
    "PRICE_INFORMATION = (\n",
    "    ['PRICE_INFORMATION']\n",
    "    >>FillMissing(1)\n",
    "    >>LogOp()\n",
    "    >>Normalize()\n",
    "    >>LambdaOp(lambda col: col.astype(\"float32\"))\n",
    "    >>TagAsItemFeatures()\n",
    ")\n",
    "\n",
    "AVG_REVIEW_SCORE = (\n",
    "    ['AVG_REVIEW_SCORE']\n",
    "    >>Normalize()\n",
    "    >>LambdaOp(lambda col: col**2)\n",
    "    >>TagAsItemFeatures()\n",
    ")\n",
    "\n",
    "INTERACTION_TIMESTAMP = (\n",
    "    nvt.ColumnSelector(['DAYS_SINCE_INTERACTION'])\n",
    "    #>>Normalize()\n",
    "    >>TagAsUserFeatures()\n",
    ")\n",
    "\n",
    "DAYS_SINCE_LAST_VISIT = (\n",
    "    nvt.ColumnSelector(['DAYS_SINCE_LAST_VISIT'])\n",
    "    >>TagAsUserFeatures()\n",
    ")\n"
   ]
  },
  {
   "cell_type": "code",
   "execution_count": 349,
   "id": "690179d7-afc5-4e32-998b-0ce599c38c9b",
   "metadata": {
    "tags": []
   },
   "outputs": [],
   "source": [
    "categorical_features = (categorical_item_features) #Just a place holder... redo with better categories\n",
    "user_cat_features = (user_features)\n",
    "label = nvt.ColumnSelector(['TARGET'])\n",
    "te_features = categorical_features >> TargetEncoding(label)\n",
    "user_feats = user_cat_features >> TargetEncoding(label)\n",
    "te_features_norm = te_features >> Normalize() >> LambdaOp(lambda col: col.astype('float32')) >> TagAsItemFeatures()\n",
    "user_cat_features_norm = user_feats >> Normalize() >> LambdaOp(lambda col: col.astype('float32')) >> TagAsItemFeatures()"
   ]
  },
  {
   "cell_type": "code",
   "execution_count": 359,
   "id": "19e65950-c396-4a0c-be31-65adaaa63418",
   "metadata": {
    "tags": []
   },
   "outputs": [
    {
     "name": "stderr",
     "output_type": "stream",
     "text": [
      "/Users/andrew/anaconda3/lib/python3.11/site-packages/merlin/io/dataset.py:267: UserWarning: Initializing an NVTabular Dataset in CPU mode.This is an experimental feature with extremely limited support!\n",
      "  warnings.warn(\n",
      "/Users/andrew/anaconda3/lib/python3.11/site-packages/merlin/io/dataset.py:267: UserWarning: Initializing an NVTabular Dataset in CPU mode.This is an experimental feature with extremely limited support!\n",
      "  warnings.warn(\n",
      "/Users/andrew/anaconda3/lib/python3.11/site-packages/merlin/io/dataset.py:267: UserWarning: Initializing an NVTabular Dataset in CPU mode.This is an experimental feature with extremely limited support!\n",
      "  warnings.warn(\n",
      "/Users/andrew/anaconda3/lib/python3.11/site-packages/merlin/io/dataset.py:267: UserWarning: Initializing an NVTabular Dataset in CPU mode.This is an experimental feature with extremely limited support!\n",
      "  warnings.warn(\n",
      "/Users/andrew/anaconda3/lib/python3.11/site-packages/merlin/io/dataset.py:267: UserWarning: Initializing an NVTabular Dataset in CPU mode.This is an experimental feature with extremely limited support!\n",
      "  warnings.warn(\n"
     ]
    }
   ],
   "source": [
    "output = (\n",
    "    user_id + \n",
    "    item_id +\n",
    "    target +\n",
    "    CLICKSTREAM_EVENTS_TOTAL + \n",
    "    te_features +\n",
    "    user_feats +\n",
    "    # INTERACTION_TIMESTAMP +\n",
    "    # DAYS_SINCE_LAST_VISIT + \n",
    "    #PRICE_INFORMATION << THIS CAUSES MODEL TO CRASH AND BURN\n",
    "    AVG_REVIEW_SCORE\n",
    ")\n",
    "\n",
    "workflow_fit_transform(output, 'train.parquet', 'valid.parquet', 'integration') #< What is integration"
   ]
  },
  {
   "cell_type": "code",
   "execution_count": 360,
   "id": "5261238e-74f6-42ab-b059-62ff5cd24f25",
   "metadata": {
    "tags": []
   },
   "outputs": [
    {
     "name": "stderr",
     "output_type": "stream",
     "text": [
      "/Users/andrew/anaconda3/lib/python3.11/site-packages/merlin/io/dataset.py:267: UserWarning: Initializing an NVTabular Dataset in CPU mode.This is an experimental feature with extremely limited support!\n",
      "  warnings.warn(\n",
      "/Users/andrew/anaconda3/lib/python3.11/site-packages/merlin/io/dataset.py:267: UserWarning: Initializing an NVTabular Dataset in CPU mode.This is an experimental feature with extremely limited support!\n",
      "  warnings.warn(\n"
     ]
    }
   ],
   "source": [
    "train = merlin.io.Dataset(\n",
    "    os.path.join(\"integration\", \"train\"), engine=\"parquet\"\n",
    ")\n",
    "valid = merlin.io.Dataset(\n",
    "    os.path.join(\"integration\", \"valid\"), engine=\"parquet\"\n",
    ")"
   ]
  },
  {
   "cell_type": "code",
   "execution_count": 361,
   "id": "c8bf22a2-9d99-4286-9ebf-5b37180417cc",
   "metadata": {
    "tags": []
   },
   "outputs": [
    {
     "data": {
      "text/html": [
       "<div>\n",
       "<style scoped>\n",
       "    .dataframe tbody tr th:only-of-type {\n",
       "        vertical-align: middle;\n",
       "    }\n",
       "\n",
       "    .dataframe tbody tr th {\n",
       "        vertical-align: top;\n",
       "    }\n",
       "\n",
       "    .dataframe thead th {\n",
       "        text-align: right;\n",
       "    }\n",
       "</style>\n",
       "<table border=\"1\" class=\"dataframe\">\n",
       "  <thead>\n",
       "    <tr style=\"text-align: right;\">\n",
       "      <th></th>\n",
       "      <th>USER_ID</th>\n",
       "      <th>ITEM_ID</th>\n",
       "      <th>INTERACTION_BINARY</th>\n",
       "      <th>CLICKSTREAM_EVENTS_TOTAL</th>\n",
       "      <th>TE_STYLE_TARGET</th>\n",
       "      <th>TE_TAXONOMY_STYLE_TARGET</th>\n",
       "      <th>TE_COLOR_NAME_TARGET</th>\n",
       "      <th>TE_PRODUCT_CLASS_TARGET</th>\n",
       "      <th>TE_PRODUCT_SUBCLASS_TARGET</th>\n",
       "      <th>TE_TEAM_TARGET</th>\n",
       "      <th>TE_FRANCHISE_TARGET</th>\n",
       "      <th>TE_PRODUCT_GROUP_TARGET</th>\n",
       "      <th>TE_COUNTRY_TARGET</th>\n",
       "      <th>AVG_REVIEW_SCORE</th>\n",
       "    </tr>\n",
       "  </thead>\n",
       "  <tbody>\n",
       "    <tr>\n",
       "      <th>0</th>\n",
       "      <td>7761</td>\n",
       "      <td>376</td>\n",
       "      <td>0</td>\n",
       "      <td>-0.675550</td>\n",
       "      <td>0.223233</td>\n",
       "      <td>0.251474</td>\n",
       "      <td>0.323072</td>\n",
       "      <td>0.289873</td>\n",
       "      <td>0.257528</td>\n",
       "      <td>0.223233</td>\n",
       "      <td>0.229159</td>\n",
       "      <td>0.276355</td>\n",
       "      <td>0.210828</td>\n",
       "      <td>0.105128</td>\n",
       "    </tr>\n",
       "    <tr>\n",
       "      <th>1</th>\n",
       "      <td>6674</td>\n",
       "      <td>376</td>\n",
       "      <td>0</td>\n",
       "      <td>-1.283509</td>\n",
       "      <td>0.233775</td>\n",
       "      <td>0.256558</td>\n",
       "      <td>0.321449</td>\n",
       "      <td>0.290438</td>\n",
       "      <td>0.260098</td>\n",
       "      <td>0.233775</td>\n",
       "      <td>0.231518</td>\n",
       "      <td>0.275741</td>\n",
       "      <td>0.211617</td>\n",
       "      <td>0.105128</td>\n",
       "    </tr>\n",
       "    <tr>\n",
       "      <th>2</th>\n",
       "      <td>25123</td>\n",
       "      <td>376</td>\n",
       "      <td>0</td>\n",
       "      <td>-1.057070</td>\n",
       "      <td>0.223233</td>\n",
       "      <td>0.251474</td>\n",
       "      <td>0.323072</td>\n",
       "      <td>0.289873</td>\n",
       "      <td>0.257528</td>\n",
       "      <td>0.223233</td>\n",
       "      <td>0.229159</td>\n",
       "      <td>0.276355</td>\n",
       "      <td>0.210828</td>\n",
       "      <td>0.105128</td>\n",
       "    </tr>\n",
       "    <tr>\n",
       "      <th>3</th>\n",
       "      <td>421</td>\n",
       "      <td>376</td>\n",
       "      <td>0</td>\n",
       "      <td>-0.487951</td>\n",
       "      <td>0.223233</td>\n",
       "      <td>0.251474</td>\n",
       "      <td>0.323072</td>\n",
       "      <td>0.289873</td>\n",
       "      <td>0.257528</td>\n",
       "      <td>0.223233</td>\n",
       "      <td>0.229159</td>\n",
       "      <td>0.276355</td>\n",
       "      <td>0.210828</td>\n",
       "      <td>0.105128</td>\n",
       "    </tr>\n",
       "    <tr>\n",
       "      <th>4</th>\n",
       "      <td>10559</td>\n",
       "      <td>376</td>\n",
       "      <td>0</td>\n",
       "      <td>0.418979</td>\n",
       "      <td>0.233775</td>\n",
       "      <td>0.256558</td>\n",
       "      <td>0.321449</td>\n",
       "      <td>0.290438</td>\n",
       "      <td>0.260098</td>\n",
       "      <td>0.233775</td>\n",
       "      <td>0.231518</td>\n",
       "      <td>0.275741</td>\n",
       "      <td>0.211617</td>\n",
       "      <td>0.105128</td>\n",
       "    </tr>\n",
       "  </tbody>\n",
       "</table>\n",
       "</div>"
      ],
      "text/plain": [
       "   USER_ID  ITEM_ID  INTERACTION_BINARY  CLICKSTREAM_EVENTS_TOTAL  \\\n",
       "0     7761      376                   0                 -0.675550   \n",
       "1     6674      376                   0                 -1.283509   \n",
       "2    25123      376                   0                 -1.057070   \n",
       "3      421      376                   0                 -0.487951   \n",
       "4    10559      376                   0                  0.418979   \n",
       "\n",
       "   TE_STYLE_TARGET  TE_TAXONOMY_STYLE_TARGET  TE_COLOR_NAME_TARGET  \\\n",
       "0         0.223233                  0.251474              0.323072   \n",
       "1         0.233775                  0.256558              0.321449   \n",
       "2         0.223233                  0.251474              0.323072   \n",
       "3         0.223233                  0.251474              0.323072   \n",
       "4         0.233775                  0.256558              0.321449   \n",
       "\n",
       "   TE_PRODUCT_CLASS_TARGET  TE_PRODUCT_SUBCLASS_TARGET  TE_TEAM_TARGET  \\\n",
       "0                 0.289873                    0.257528        0.223233   \n",
       "1                 0.290438                    0.260098        0.233775   \n",
       "2                 0.289873                    0.257528        0.223233   \n",
       "3                 0.289873                    0.257528        0.223233   \n",
       "4                 0.290438                    0.260098        0.233775   \n",
       "\n",
       "   TE_FRANCHISE_TARGET  TE_PRODUCT_GROUP_TARGET  TE_COUNTRY_TARGET  \\\n",
       "0             0.229159                 0.276355           0.210828   \n",
       "1             0.231518                 0.275741           0.211617   \n",
       "2             0.229159                 0.276355           0.210828   \n",
       "3             0.229159                 0.276355           0.210828   \n",
       "4             0.231518                 0.275741           0.211617   \n",
       "\n",
       "   AVG_REVIEW_SCORE  \n",
       "0          0.105128  \n",
       "1          0.105128  \n",
       "2          0.105128  \n",
       "3          0.105128  \n",
       "4          0.105128  "
      ]
     },
     "execution_count": 361,
     "metadata": {},
     "output_type": "execute_result"
    }
   ],
   "source": [
    "valid.head()"
   ]
  },
  {
   "cell_type": "markdown",
   "id": "f8bcd359-0fbc-4ac2-b660-23d57e375134",
   "metadata": {},
   "source": [
    "## Model"
   ]
  },
  {
   "cell_type": "code",
   "execution_count": 353,
   "id": "7a04711c-f753-44ee-bb7b-8ec0c677805c",
   "metadata": {
    "tags": []
   },
   "outputs": [],
   "source": [
    "import tensorflow as tf\n",
    "model = mm.benchmark.NCFModel(\n",
    "    train.schema,\n",
    "    embedding_dim=64,\n",
    "    mlp_block=mm.MLPBlock([128, 64]),\n",
    "    prediction_tasks=mm.BinaryOutput(train.schema.select_by_tag(Tags.TARGET).column_names[0]),\n",
    ")"
   ]
  },
  {
   "cell_type": "code",
   "execution_count": 358,
   "id": "1e5abead-b598-451f-bd9f-8d80a61e89e1",
   "metadata": {
    "tags": []
   },
   "outputs": [
    {
     "name": "stdout",
     "output_type": "stream",
     "text": [
      "102/102 [==============================] - 1s 4ms/step - loss: 0.4983 - recall: 0.0000e+00 - precision: 0.0000e+00 - regularization_loss: 0.0000e+00 - loss_batch: 0.4934 - val_loss: 0.5297 - val_recall: 0.0000e+00 - val_precision: 0.0000e+00 - val_regularization_loss: 0.0000e+00 - val_loss_batch: 0.6850\n",
      "50/50 [==============================] - 0s 1ms/step - loss: 0.5297 - recall: 0.0000e+00 - precision: 0.0000e+00 - regularization_loss: 0.0000e+00 - loss_batch: 0.5331\n"
     ]
    }
   ],
   "source": [
    "recall = []\n",
    "precision = []\n",
    "\n",
    "loss=tf.keras.losses.BinaryCrossentropy()\n",
    "model.compile(optimizer=keras.optimizers.Adagrad(learning_rate = .03), loss = loss, run_eagerly=False, metrics=[tf.keras.metrics.Recall(name=\"recall\"), tf.keras.metrics.Precision(name='precision')]);\n",
    "model.fit(train, validation_data=valid, batch_size=1024, epochs = 1); #Less epochs, more accurate valid... less accurate train\n",
    "x = model.evaluate(valid, batch_size = 1024, return_dict = True)\n",
    "recall.append(x['recall'])\n",
    "precision.append(x['precision'])"
   ]
  },
  {
   "cell_type": "code",
   "execution_count": 356,
   "id": "daa805bc-465a-4133-a55d-c0948c75169d",
   "metadata": {
    "tags": []
   },
   "outputs": [],
   "source": [
    "preds = model.predict(train, batch_size = 1024)"
   ]
  },
  {
   "cell_type": "code",
   "execution_count": 357,
   "id": "65abedde-254e-4960-b288-3b3f5d8065d9",
   "metadata": {
    "tags": []
   },
   "outputs": [
    {
     "data": {
      "text/plain": [
       "(array([   70.,  1386., 12229., 32627., 32392., 16285.,  6189.,  1805.,\n",
       "          604.,    76.]),\n",
       " array([0.15022986, 0.16065389, 0.17107791, 0.18150194, 0.19192597,\n",
       "        0.20234999, 0.21277402, 0.22319806, 0.23362209, 0.24404611,\n",
       "        0.25447014]),\n",
       " <BarContainer object of 10 artists>)"
      ]
     },
     "execution_count": 357,
     "metadata": {},
     "output_type": "execute_result"
    },
    {
     "data": {
      "image/png": "[encoded data removed]",
      "text/plain": [
       "<Figure size 640x480 with 1 Axes>"
      ]
     },
     "metadata": {},
     "output_type": "display_data"
    }
   ],
   "source": [
    "plt.hist(preds)"
   ]
  },
  {
   "cell_type": "code",
   "execution_count": 239,
   "id": "90be2dae-3fd6-4672-ba96-48aa37a071e6",
   "metadata": {
    "tags": []
   },
   "outputs": [],
   "source": [
    "# I Have 2 evals to compare when I make changes."
   ]
  },
  {
   "cell_type": "code",
   "execution_count": 252,
   "id": "df036392-40b6-4929-8bda-7262dd42ff72",
   "metadata": {
    "tags": []
   },
   "outputs": [
    {
     "name": "stdout",
     "output_type": "stream",
     "text": [
      "138/138 [==============================] - 0s 1ms/step - loss: 0.4750 - recall: 0.0000e+00 - precision: 0.0000e+00 - regularization_loss: 0.0000e+00 - loss_batch: 0.4683\n"
     ]
    },
    {
     "data": {
      "text/plain": [
       "{'loss': 0.47495314478874207,\n",
       " 'recall': 0.0,\n",
       " 'precision': 0.0,\n",
       " 'regularization_loss': 0.0,\n",
       " 'loss_batch': 0.008091789670288563}"
      ]
     },
     "execution_count": 252,
     "metadata": {},
     "output_type": "execute_result"
    }
   ],
   "source": [
    "model.evaluate(valid, batch_size = 1024, return_dict = True)"
   ]
  },
  {
   "cell_type": "code",
   "execution_count": 31,
   "id": "b261d9e5-55bf-43ac-bdd1-ee9c1d9d5283",
   "metadata": {
    "tags": []
   },
   "outputs": [
    {
     "name": "stdout",
     "output_type": "stream",
     "text": [
      "405/405 [==============================] - 6s 15ms/step - loss: 0.1239 - recall: 0.9964 - precision: 0.8423 - regularization_loss: 0.0000e+00 - loss_batch: 0.1239\n"
     ]
    },
    {
     "data": {
      "text/plain": [
       "{'loss': 0.12388665974140167,\n",
       " 'recall': 0.9963948130607605,\n",
       " 'precision': 0.8422735929489136,\n",
       " 'regularization_loss': 0.0,\n",
       " 'loss_batch': 0.12724202871322632}"
      ]
     },
     "execution_count": 31,
     "metadata": {},
     "output_type": "execute_result"
    }
   ],
   "source": [
    "model.evaluate(valid, batch_size = 1024, return_dict = True)"
   ]
  },
  {
   "cell_type": "markdown",
   "id": "1e5a4afd-1d11-4390-809f-107476ec31e7",
   "metadata": {},
   "source": [
    "# Model"
   ]
  },
  {
   "cell_type": "code",
   "execution_count": 255,
   "id": "d79976dd-8cb2-4a09-adcc-33f36e19a9d8",
   "metadata": {},
   "outputs": [
    {
     "name": "stdout",
     "output_type": "stream",
     "text": [
      "279/279 [==============================] - 2s 5ms/step - loss: 0.1855 - precision: 0.4787 - recall: 0.2527 - binary_accuracy: 0.9237 - auc: 0.9080 - regularization_loss: 0.0000e+00 - loss_batch: 0.1843\n",
      "138/138 [==============================] - 0s 1ms/step - loss: nan - precision: 0.0000e+00 - recall: 0.0000e+00 - binary_accuracy: 0.9254 - auc: 0.7134 - regularization_loss: 0.0000e+00 - loss_batch: nan    \n"
     ]
    }
   ],
   "source": [
    "model_fb = mm.DLRMModel(\n",
    "    train.schema,\n",
    "    embedding_dim = 64,\n",
    "    top_block = mm.MLPBlock([128, 64, 32]),\n",
    "    bottom_block = mm.MLPBlock([128, 64]),\n",
    ")\n",
    "\n",
    "recall = []\n",
    "precision = []\n",
    "\n",
    "\n",
    "model_fb.compile(optimizer = keras.optimizers.Adam(learning_rate = .0325), loss = loss)\n",
    "model_fb.fit(train, batch_size = 1024, epochs = 1) #Less epochs, more accurate valid... less accurate train\n",
    "model_fb.evaluate(valid, batch_size = 1024, return_dict = True)\n",
    "preds_2 = model_fb.predict(valid, batch_size = 1024)"
   ]
  },
  {
   "cell_type": "code",
   "execution_count": 256,
   "id": "b489641c-51b4-4a33-8717-f7e09dcbc7df",
   "metadata": {
    "tags": []
   },
   "outputs": [
    {
     "data": {
      "text/plain": [
       "(array([ 1297., 30596., 26133., 16563., 12088., 20844.,  9995., 13537.,\n",
       "         8948.,   312.]),\n",
       " array([1.48545150e-04, 4.77875732e-02, 9.54265967e-02, 1.43065616e-01,\n",
       "        1.90704644e-01, 2.38343671e-01, 2.85982698e-01, 3.33621740e-01,\n",
       "        3.81260753e-01, 4.28899795e-01, 4.76538807e-01]),\n",
       " <BarContainer object of 10 artists>)"
      ]
     },
     "execution_count": 256,
     "metadata": {},
     "output_type": "execute_result"
    },
    {
     "data": {
      "image/png": "[encoded data removed]",
      "text/plain": [
       "<Figure size 640x480 with 1 Axes>"
      ]
     },
     "metadata": {},
     "output_type": "display_data"
    }
   ],
   "source": [
    "plt.hist(preds_2)"
   ]
  },
  {
   "cell_type": "code",
   "execution_count": 243,
   "id": "d96dea76-8815-4983-aaf4-fd0489754d6e",
   "metadata": {},
   "outputs": [
    {
     "name": "stdout",
     "output_type": "stream",
     "text": [
      "138/138 [==============================] - 0s 1ms/step - loss: nan - precision: 0.0000e+00 - recall: 0.0000e+00 - binary_accuracy: 0.9254 - auc: 0.7170 - regularization_loss: 0.0000e+00 - loss_batch: nan   \n"
     ]
    },
    {
     "data": {
      "text/plain": [
       "{'loss': nan,\n",
       " 'precision': 0.0,\n",
       " 'recall': 0.0,\n",
       " 'binary_accuracy': 0.9254040718078613,\n",
       " 'auc': 0.7170469760894775,\n",
       " 'regularization_loss': 0.0,\n",
       " 'loss_batch': nan}"
      ]
     },
     "execution_count": 243,
     "metadata": {},
     "output_type": "execute_result"
    }
   ],
   "source": [
    "model_fb.evaluate(valid, batch_size = 1024, return_dict = True)"
   ]
  },
  {
   "cell_type": "code",
   "execution_count": null,
   "id": "16f8575f-382e-4eb7-8d6f-27db5d376964",
   "metadata": {},
   "outputs": [],
   "source": []
  }
 ],
 "metadata": {
  "kernelspec": {
   "display_name": "Python 3 (ipykernel)",
   "language": "python",
   "name": "python3"
  },
  "language_info": {
   "codemirror_mode": {
    "name": "ipython",
    "version": 3
   },
   "file_extension": ".py",
   "mimetype": "text/x-python",
   "name": "python",
   "nbconvert_exporter": "python",
   "pygments_lexer": "ipython3",
   "version": "3.11.4"
  }
 },
 "nbformat": 4,
 "nbformat_minor": 5
}
