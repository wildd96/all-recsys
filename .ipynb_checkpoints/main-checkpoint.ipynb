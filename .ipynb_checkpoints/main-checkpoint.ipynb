{
 "cells": [
  {
   "cell_type": "code",
   "execution_count": 60,
   "id": "a6164808-2b20-4d30-8f2a-3922335e7519",
   "metadata": {
    "tags": []
   },
   "outputs": [],
   "source": [
    "#This is a starting point\n",
    "#uncomment below to install merlin library\n",
    "#!pip install merlin, nvtabular, merlin.models\n",
    "#I had to downgrade keras to 12.2.0 there maybe issues regarding tensorflow in the future\n",
    "#run lines below if you have also have an error ab not finding a keras package\n",
    "\n",
    "#!pip uninstall keras\n",
    "#!pip install keras==2.12.0\n",
    "\n",
    "\n",
    "#These are the same imports from\n",
    "#https://github.com/NVIDIA-Merlin/models/blob/main/examples/02-Merlin-Models-and-NVTabular-integration.ipynb\n",
    "import os\n",
    "import pandas as pd\n",
    "import numpy as np\n",
    "import nvtabular as nvt\n",
    "import matplotlib.pyplot as plt\n",
    "import seaborn as sns\n",
    "import keras\n",
    "import polars as pl\n",
    "\n",
    "from sklearn.model_selection import train_test_split\n",
    "\n",
    "from merlin.models.utils.example_utils import workflow_fit_transform\n",
    "import merlin.io\n",
    "import tensorflow as tf\n",
    "\n",
    "import merlin.models.tf as mm\n",
    "from merlin.io.dataset import Dataset\n",
    "from nvtabular.ops import *\n",
    "from merlin.core.utils import download_file\n",
    "from merlin.schema.tags import Tags"
   ]
  },
  {
   "cell_type": "markdown",
   "id": "fed8d8ae-f403-4689-89fc-076f17da0266",
   "metadata": {},
   "source": [
    "### To-do"
   ]
  },
  {
   "cell_type": "markdown",
   "id": "769d4f8b-6d21-415a-bff4-df59e11ac481",
   "metadata": {},
   "source": [
    "1. Clean data << Prices on user_interactions are not what they should be... probably is more\n",
    "2. EDA\n",
    "3. Transform timestamps\n",
    "4. Find out why certain things are crashing the model\n",
    "5. Learn about models and optimizers"
   ]
  },
  {
   "cell_type": "markdown",
   "id": "a340cdef-e86d-43fe-ac78-a6ff62a25aed",
   "metadata": {},
   "source": [
    "# Load and split"
   ]
  },
  {
   "cell_type": "code",
   "execution_count": 151,
   "id": "032fb1a0-26b4-42c1-a348-b103f9d80e5e",
   "metadata": {},
   "outputs": [],
   "source": [
    "df = pd.read_csv('/Users/andrew/Desktop/projects/recsys_data/2023-10-05 9_23pm (2).csv').dropna()\n",
    "#  ^ This needs point to your local .csv too big for github\n",
    "\n",
    "#accidentally added an extra CLICKSTREAM_EVENTS_TOTAL column\n",
    "df['TARGET'] = 0\n",
    "\n",
    "#Different values for different event_names\n",
    "\n",
    "df.loc[df['EVENT_NAME'] == 'order', 'TARGET'] = 2\n",
    "df.loc[df['EVENT_NAME'] == 'product_viewed', 'TARGET'] = 1\n",
    "\n",
    "full_df = df\n",
    "\n",
    "df = df.sample(40000)"
   ]
  },
  {
   "cell_type": "code",
   "execution_count": 152,
   "id": "9b0c08d7-bc83-43c2-b826-6b84a5261ccb",
   "metadata": {
    "tags": []
   },
   "outputs": [
    {
     "data": {
      "text/plain": [
       "Index(['USER_ID', 'COUNTRY', 'DERIVED_GENDER_BY_NAME',\n",
       "       'CLICKSTREAM_EVENTS_TOTAL', 'FIRST_PURCHASE_AT', 'FIRST_VISIT_AT',\n",
       "       'LATEST_VISIT_AT', 'LATEST_PURCHASE_AT', 'DAYS_SINCE_FIRST_VISIT',\n",
       "       'DAYS_SINCE_FIRST_PURCHASE', 'DAYS_SINCE_LAST_VISIT',\n",
       "       'DAYS_SINCE_LAST_PURCHASE', 'RECENT_VISIT', 'UNIQUE_PURCHASE_COUNT',\n",
       "       'MULTIPLE_BUYER', 'EVENT_NAME', 'EVENT_TIMESTAMP', 'ITEM_ID',\n",
       "       'PRICE_INFORMATION', 'DAYS_SINCE_INTERACTION', 'AVG_REVIEW_SCORE',\n",
       "       'STYLE', 'TAXONOMY_STYLE', 'COLOR_NAME', 'PRODUCT_CLASS',\n",
       "       'PRODUCT_SUBCLASS', 'TEAM', 'FRANCHISE', 'PRODUCT_GROUP', 'TARGET'],\n",
       "      dtype='object')"
      ]
     },
     "execution_count": 152,
     "metadata": {},
     "output_type": "execute_result"
    }
   ],
   "source": [
    "df.columns"
   ]
  },
  {
   "cell_type": "code",
   "execution_count": 153,
   "id": "893eeb30-40a7-4791-83f6-4a1936fe4a21",
   "metadata": {
    "tags": []
   },
   "outputs": [],
   "source": [
    "negative_sample = df[['USER_ID', 'ITEM_ID', 'TARGET']]\n",
    "\n",
    "user_df = df[['USER_ID', 'ITEM_ID', 'COUNTRY', 'DERIVED_GENDER_BY_NAME', 'CLICKSTREAM_EVENTS_TOTAL', 'FIRST_PURCHASE_AT', 'FIRST_VISIT_AT',\n",
    "              'LATEST_VISIT_AT', 'LATEST_PURCHASE_AT', 'DAYS_SINCE_FIRST_VISIT', 'DAYS_SINCE_FIRST_PURCHASE', 'DAYS_SINCE_LAST_VISIT',\n",
    "              'DAYS_SINCE_LAST_PURCHASE', 'RECENT_VISIT']]\n",
    "item_df = df[['ITEM_ID', 'USER_ID', 'PRICE_INFORMATION', 'AVG_REVIEW_SCORE',\n",
    "              'STYLE', 'TAXONOMY_STYLE', 'COLOR_NAME', 'PRODUCT_CLASS',\n",
    "              'PRODUCT_SUBCLASS', 'TEAM', 'FRANCHISE', 'PRODUCT_GROUP']] #Took away timestamps and days since interaction"
   ]
  },
  {
   "cell_type": "code",
   "execution_count": 154,
   "id": "a6f0b4d3-d6d8-440b-98a7-89e9fc1c1383",
   "metadata": {
    "tags": []
   },
   "outputs": [],
   "source": [
    "sections = df.shape[0]//10000\n",
    "negative_data = []\n",
    "item_map = full_df['ITEM_ID'].unique()\n",
    "rng = np.random.default_rng()\n",
    "zero_multiplier = 3\n",
    "\n",
    "for chunk in np.array_split(df, sections):\n",
    "    user_id_counts = pd.value_counts(chunk.USER_ID)\n",
    "    item_ids = []\n",
    "    for user_id, count in user_id_counts.items():\n",
    "        item_ids.append(np.random.randint(low = 0, high = item_map.shape[0], size = count*zero_multiplier))\n",
    "    item_ids = np.concatenate(item_ids)\n",
    "    negative_data.append(pd.DataFrame({'USER_ID': np.repeat(user_id_counts.index, repeats = user_id_counts.values*zero_multiplier),\n",
    "                                       'ITEM_ID': item_map[item_ids],\n",
    "                                       'TARGET': 0}))\n",
    "negative_data.append(negative_sample)\n",
    "sample_data = pd.concat(negative_data)\n",
    "sample_data = sample_data.reset_index(drop = True)"
   ]
  },
  {
   "cell_type": "code",
   "execution_count": 155,
   "id": "9b706ec8-8100-4955-9e80-53cf449b0de3",
   "metadata": {
    "tags": []
   },
   "outputs": [],
   "source": [
    "#it was a battle to merge user info and item info with negatively sampled df can't promise its 100% correct"
   ]
  },
  {
   "cell_type": "code",
   "execution_count": 156,
   "id": "84da7081-ba01-4825-84a4-4dc1a5046ea1",
   "metadata": {
    "tags": []
   },
   "outputs": [],
   "source": [
    "df_subset = sample_data.merge(user_df, on = ['USER_ID', 'ITEM_ID'], how = 'outer').sort_values(['USER_ID', 'TARGET'], ascending=False).drop_duplicates(subset = ['USER_ID', 'ITEM_ID']).fillna(method='bfill')"
   ]
  },
  {
   "cell_type": "code",
   "execution_count": 157,
   "id": "6a576753-86db-4117-af30-8c893825ab37",
   "metadata": {
    "tags": []
   },
   "outputs": [],
   "source": [
    "df_subset = df_subset.merge(item_df, on = ['USER_ID', 'ITEM_ID'], how = 'outer').sort_values(['ITEM_ID', 'TARGET'], ascending=False).drop_duplicates(subset = ['USER_ID', 'ITEM_ID']).fillna(method='bfill')"
   ]
  },
  {
   "cell_type": "code",
   "execution_count": 158,
   "id": "e7437ef1-617b-4196-a0c2-cfd919420656",
   "metadata": {
    "tags": []
   },
   "outputs": [],
   "source": [
    "df = df_subset"
   ]
  },
  {
   "cell_type": "code",
   "execution_count": 159,
   "id": "23b013f6-8acc-41d4-9fa9-193ec7f1048a",
   "metadata": {
    "tags": []
   },
   "outputs": [
    {
     "data": {
      "text/plain": [
       "Index(['USER_ID', 'ITEM_ID', 'TARGET', 'COUNTRY', 'DERIVED_GENDER_BY_NAME',\n",
       "       'CLICKSTREAM_EVENTS_TOTAL', 'FIRST_PURCHASE_AT', 'FIRST_VISIT_AT',\n",
       "       'LATEST_VISIT_AT', 'LATEST_PURCHASE_AT', 'DAYS_SINCE_FIRST_VISIT',\n",
       "       'DAYS_SINCE_FIRST_PURCHASE', 'DAYS_SINCE_LAST_VISIT',\n",
       "       'DAYS_SINCE_LAST_PURCHASE', 'RECENT_VISIT', 'PRICE_INFORMATION',\n",
       "       'AVG_REVIEW_SCORE', 'STYLE', 'TAXONOMY_STYLE', 'COLOR_NAME',\n",
       "       'PRODUCT_CLASS', 'PRODUCT_SUBCLASS', 'TEAM', 'FRANCHISE',\n",
       "       'PRODUCT_GROUP'],\n",
       "      dtype='object')"
      ]
     },
     "execution_count": 159,
     "metadata": {},
     "output_type": "execute_result"
    }
   ],
   "source": [
    "df.columns"
   ]
  },
  {
   "cell_type": "code",
   "execution_count": 160,
   "id": "6dd79ec9-f741-4e0d-a46e-123e36c4f68c",
   "metadata": {
    "tags": []
   },
   "outputs": [],
   "source": [
    "#num rows\n",
    "data_size = df.shape[0]\n",
    "\n",
    "train_split_ratio = int(.33 * data_size)\n",
    "\n",
    "train = df[:-train_split_ratio].to_parquet(\"train.parquet\")\n",
    "valid = df[-train_split_ratio:].to_parquet(\"valid.parquet\")"
   ]
  },
  {
   "cell_type": "code",
   "execution_count": 161,
   "id": "d0ab6b8f-52dc-4246-b9f0-62751d2016ef",
   "metadata": {
    "tags": []
   },
   "outputs": [
    {
     "data": {
      "text/plain": [
       "0.21076875"
      ]
     },
     "execution_count": 161,
     "metadata": {},
     "output_type": "execute_result"
    }
   ],
   "source": [
    "len(sample_data[sample_data['TARGET'] > 0])/len(sample_data)"
   ]
  },
  {
   "cell_type": "markdown",
   "id": "7b424279-225c-4eef-b583-0427bc954c57",
   "metadata": {},
   "source": [
    "# EDA"
   ]
  },
  {
   "cell_type": "code",
   "execution_count": null,
   "id": "770badc5-5a3d-4282-a455-fef1eff25209",
   "metadata": {
    "tags": []
   },
   "outputs": [],
   "source": []
  },
  {
   "cell_type": "code",
   "execution_count": null,
   "id": "74fc862f-90f9-4db2-858b-bc4e93925ab2",
   "metadata": {},
   "outputs": [],
   "source": []
  },
  {
   "cell_type": "markdown",
   "id": "da5efa1f-91e7-4c32-a882-6bbe6fe26555",
   "metadata": {},
   "source": [
    "# NVTabular"
   ]
  },
  {
   "cell_type": "code",
   "execution_count": 162,
   "id": "5f247a55-cbdd-4cce-8b47-7e939e0984e9",
   "metadata": {},
   "outputs": [],
   "source": [
    "#This is how to iniate a dataset using NVtabular an NVIDIA \n",
    "#optimized ETL/feature engineering(i think?) library\n",
    "#data = nvt.io.dataset.Dataset('data/reviews.csv')"
   ]
  },
  {
   "cell_type": "code",
   "execution_count": 163,
   "id": "7d3c6c8f-282a-489f-8e5c-51411edc1435",
   "metadata": {
    "tags": []
   },
   "outputs": [],
   "source": [
    "categorical_user_features = ['COUNTRY']\n",
    "categorical_item_features = ['STYLE', 'TAXONOMY_STYLE', 'COLOR_NAME', 'PRODUCT_CLASS', 'PRODUCT_SUBCLASS', 'TEAM', 'FRANCHISE', 'PRODUCT_GROUP']"
   ]
  },
  {
   "cell_type": "code",
   "execution_count": 164,
   "id": "f941f6d0-41be-4177-aac5-a884aa7bb630",
   "metadata": {
    "tags": []
   },
   "outputs": [],
   "source": [
    "#Features needed to Transform still: FIRST_PURCHASE_AT, FIRST_VISIT_AT, LATEST_VISIT_AT\n",
    "# LATEST_PURCHASE_AT, EVENT_TIMESTAMP"
   ]
  },
  {
   "cell_type": "code",
   "execution_count": 165,
   "id": "c397eb73-c1bc-4e1b-838c-d72a85c2adb1",
   "metadata": {
    "tags": []
   },
   "outputs": [],
   "source": [
    "#DON'T FORGET TARGET ENCODING CATEGORICAL VALUES"
   ]
  },
  {
   "cell_type": "code",
   "execution_count": 166,
   "id": "74895def-f932-4e9c-b1f8-0d78da2b7571",
   "metadata": {
    "tags": []
   },
   "outputs": [],
   "source": [
    "user_id = [\"USER_ID\"] >> Categorify(dtype = \"int32\", out_path='categories') >> TagAsUserID()\n",
    "item_id = [\"ITEM_ID\"] >> Categorify(dtype = \"int32\", out_path='categories') >> TagAsItemID()\n",
    "\n",
    "target = (\n",
    "    #Turn categorical into continuous\n",
    "    nvt.ColumnSelector([\"TARGET\"])\n",
    "    #>> LambdaOp(lambda col: (col > 0).astype(\"int32\")) CHANGES ALL WEIGHTS TO 1 \n",
    "    >> AddTags([\"binary_classification\", \"target\"])\n",
    "    >> Rename(name=\"INTERACTION_BINARY\")\n",
    ")\n",
    "\n",
    "item_features = categorical_item_features >> Categorify(dtype = \"int32\") >> TagAsItemFeatures()\n",
    "user_features = categorical_user_features >> Categorify(dtype = \"int32\") >> TagAsUserFeatures()"
   ]
  },
  {
   "cell_type": "code",
   "execution_count": 167,
   "id": "9d3d475a-df44-4291-bbd7-1f534e8d5c34",
   "metadata": {
    "tags": []
   },
   "outputs": [],
   "source": [
    "#Make this more succinct\n",
    "CLICKSTREAM_EVENTS_TOTAL = (\n",
    "    nvt.ColumnSelector(['CLICKSTREAM_EVENTS_TOTAL'])\n",
    "    >>FillMissing(1)\n",
    "    >>LogOp()\n",
    "    >>Normalize()\n",
    "    >>LambdaOp(lambda col: col.astype(\"float32\"))\n",
    "    >>TagAsUserFeatures()\n",
    ")\n",
    "\n",
    "#has the price changed over time?\n",
    "PRICE_INFORMATION = (\n",
    "    ['PRICE_INFORMATION']\n",
    "    >>FillMissing(1)\n",
    "    >>LogOp()\n",
    "    >>Normalize()\n",
    "    >>LambdaOp(lambda col: col.astype(\"float32\"))\n",
    "    >>TagAsItemFeatures()\n",
    ")\n",
    "\n",
    "AVG_REVIEW_SCORE = (\n",
    "    ['AVG_REVIEW_SCORE']\n",
    "    >>Normalize()\n",
    "    >>LambdaOp(lambda col: col**2)\n",
    "    >>TagAsItemFeatures()\n",
    ")\n",
    "\n",
    "INTERACTION_TIMESTAMP = (\n",
    "    nvt.ColumnSelector(['DAYS_SINCE_INTERACTION'])\n",
    "    #>>Normalize()\n",
    "    >>TagAsUserFeatures()\n",
    ")\n",
    "\n",
    "DAYS_SINCE_LAST_VISIT = (\n",
    "    nvt.ColumnSelector(['DAYS_SINCE_LAST_VISIT'])\n",
    "    >>TagAsUserFeatures()\n",
    ")\n"
   ]
  },
  {
   "cell_type": "code",
   "execution_count": 168,
   "id": "690179d7-afc5-4e32-998b-0ce599c38c9b",
   "metadata": {
    "tags": []
   },
   "outputs": [],
   "source": [
    "categorical_features = (categorical_item_features) #Just a place holder... redo with better categories\n",
    "user_cat_features = (user_features)\n",
    "label = nvt.ColumnSelector(['TARGET'])\n",
    "te_features = categorical_features >> TargetEncoding(label)\n",
    "user_feats = user_cat_features >> TargetEncoding(label)\n",
    "te_features_norm = te_features >> Normalize() >> LambdaOp(lambda col: col.astype('float32')) >> TagAsItemFeatures()\n",
    "user_cat_features_norm = user_feats >> Normalize() >> LambdaOp(lambda col: col.astype('float32')) >> TagAsItemFeatures()"
   ]
  },
  {
   "cell_type": "code",
   "execution_count": 169,
   "id": "19e65950-c396-4a0c-be31-65adaaa63418",
   "metadata": {
    "tags": []
   },
   "outputs": [
    {
     "name": "stderr",
     "output_type": "stream",
     "text": [
      "/Users/andrew/anaconda3/lib/python3.11/site-packages/merlin/io/dataset.py:267: UserWarning: Initializing an NVTabular Dataset in CPU mode.This is an experimental feature with extremely limited support!\n",
      "  warnings.warn(\n",
      "/Users/andrew/anaconda3/lib/python3.11/site-packages/merlin/io/dataset.py:267: UserWarning: Initializing an NVTabular Dataset in CPU mode.This is an experimental feature with extremely limited support!\n",
      "  warnings.warn(\n",
      "/Users/andrew/anaconda3/lib/python3.11/site-packages/pandas/core/arraylike.py:402: RuntimeWarning: invalid value encountered in log\n",
      "  result = getattr(ufunc, method)(*inputs, **kwargs)\n",
      "/Users/andrew/anaconda3/lib/python3.11/site-packages/merlin/io/dataset.py:267: UserWarning: Initializing an NVTabular Dataset in CPU mode.This is an experimental feature with extremely limited support!\n",
      "  warnings.warn(\n",
      "/Users/andrew/anaconda3/lib/python3.11/site-packages/pandas/core/arraylike.py:402: RuntimeWarning: invalid value encountered in log\n",
      "  result = getattr(ufunc, method)(*inputs, **kwargs)\n",
      "/Users/andrew/anaconda3/lib/python3.11/site-packages/merlin/io/dataset.py:267: UserWarning: Initializing an NVTabular Dataset in CPU mode.This is an experimental feature with extremely limited support!\n",
      "  warnings.warn(\n",
      "/Users/andrew/anaconda3/lib/python3.11/site-packages/pandas/core/arraylike.py:402: RuntimeWarning: invalid value encountered in log\n",
      "  result = getattr(ufunc, method)(*inputs, **kwargs)\n",
      "/Users/andrew/anaconda3/lib/python3.11/site-packages/merlin/io/dataset.py:267: UserWarning: Initializing an NVTabular Dataset in CPU mode.This is an experimental feature with extremely limited support!\n",
      "  warnings.warn(\n",
      "/Users/andrew/anaconda3/lib/python3.11/site-packages/pandas/core/arraylike.py:402: RuntimeWarning: invalid value encountered in log\n",
      "  result = getattr(ufunc, method)(*inputs, **kwargs)\n"
     ]
    }
   ],
   "source": [
    "output = (\n",
    "    user_id + \n",
    "    item_id +\n",
    "    target +\n",
    "    CLICKSTREAM_EVENTS_TOTAL + \n",
    "    te_features +\n",
    "    user_feats +\n",
    "    # INTERACTION_TIMESTAMP +\n",
    "    DAYS_SINCE_LAST_VISIT + \n",
    "    PRICE_INFORMATION + #<< THIS CAUSES MODEL TO CRASH AND BURN\n",
    "    AVG_REVIEW_SCORE\n",
    ")\n",
    "\n",
    "workflow_fit_transform(output, 'train.parquet', 'valid.parquet', 'integration') #< What is integration"
   ]
  },
  {
   "cell_type": "code",
   "execution_count": 170,
   "id": "5261238e-74f6-42ab-b059-62ff5cd24f25",
   "metadata": {
    "tags": []
   },
   "outputs": [
    {
     "name": "stderr",
     "output_type": "stream",
     "text": [
      "/Users/andrew/anaconda3/lib/python3.11/site-packages/merlin/io/dataset.py:267: UserWarning: Initializing an NVTabular Dataset in CPU mode.This is an experimental feature with extremely limited support!\n",
      "  warnings.warn(\n",
      "/Users/andrew/anaconda3/lib/python3.11/site-packages/merlin/io/dataset.py:267: UserWarning: Initializing an NVTabular Dataset in CPU mode.This is an experimental feature with extremely limited support!\n",
      "  warnings.warn(\n"
     ]
    }
   ],
   "source": [
    "train = merlin.io.Dataset(\n",
    "    os.path.join(\"integration\", \"train\"), engine=\"parquet\"\n",
    ")\n",
    "valid = merlin.io.Dataset(\n",
    "    os.path.join(\"integration\", \"valid\"), engine=\"parquet\"\n",
    ")"
   ]
  },
  {
   "cell_type": "code",
   "execution_count": 171,
   "id": "0041b930-fb81-4c43-8f59-6c7a62d14cfd",
   "metadata": {
    "tags": []
   },
   "outputs": [
    {
     "data": {
      "text/plain": [
       "<Axes: >"
      ]
     },
     "execution_count": 171,
     "metadata": {},
     "output_type": "execute_result"
    },
    {
     "data": {
      "image/png": "[encoded data removed]",
      "text/plain": [
       "<Figure size 640x480 with 2 Axes>"
      ]
     },
     "metadata": {},
     "output_type": "display_data"
    }
   ],
   "source": [
    "data = pl.read_parquet('integration/train/part_0.parquet').to_pandas().corr()\n",
    "sns.heatmap(data)"
   ]
  },
  {
   "cell_type": "code",
   "execution_count": 173,
   "id": "be49acc6-8b7d-4a94-8b3f-6dbc5e53b118",
   "metadata": {
    "tags": []
   },
   "outputs": [
    {
     "data": {
      "text/html": [
       "<div>\n",
       "<style scoped>\n",
       "    .dataframe tbody tr th:only-of-type {\n",
       "        vertical-align: middle;\n",
       "    }\n",
       "\n",
       "    .dataframe tbody tr th {\n",
       "        vertical-align: top;\n",
       "    }\n",
       "\n",
       "    .dataframe thead th {\n",
       "        text-align: right;\n",
       "    }\n",
       "</style>\n",
       "<table border=\"1\" class=\"dataframe\">\n",
       "  <thead>\n",
       "    <tr style=\"text-align: right;\">\n",
       "      <th></th>\n",
       "      <th>USER_ID</th>\n",
       "      <th>ITEM_ID</th>\n",
       "      <th>INTERACTION_BINARY</th>\n",
       "      <th>CLICKSTREAM_EVENTS_TOTAL</th>\n",
       "      <th>TE_STYLE_TARGET</th>\n",
       "      <th>TE_TAXONOMY_STYLE_TARGET</th>\n",
       "      <th>TE_COLOR_NAME_TARGET</th>\n",
       "      <th>TE_PRODUCT_CLASS_TARGET</th>\n",
       "      <th>TE_PRODUCT_SUBCLASS_TARGET</th>\n",
       "      <th>TE_TEAM_TARGET</th>\n",
       "      <th>TE_FRANCHISE_TARGET</th>\n",
       "      <th>TE_PRODUCT_GROUP_TARGET</th>\n",
       "      <th>TE_COUNTRY_TARGET</th>\n",
       "      <th>DAYS_SINCE_LAST_VISIT</th>\n",
       "      <th>PRICE_INFORMATION</th>\n",
       "      <th>AVG_REVIEW_SCORE</th>\n",
       "    </tr>\n",
       "  </thead>\n",
       "  <tbody>\n",
       "    <tr>\n",
       "      <th>USER_ID</th>\n",
       "      <td>1.000000</td>\n",
       "      <td>-0.007403</td>\n",
       "      <td>-0.004403</td>\n",
       "      <td>-0.205356</td>\n",
       "      <td>0.014845</td>\n",
       "      <td>0.013869</td>\n",
       "      <td>0.019533</td>\n",
       "      <td>0.008447</td>\n",
       "      <td>0.014500</td>\n",
       "      <td>-0.007296</td>\n",
       "      <td>0.009698</td>\n",
       "      <td>0.008316</td>\n",
       "      <td>0.011019</td>\n",
       "      <td>0.063918</td>\n",
       "      <td>0.004339</td>\n",
       "      <td>-0.007545</td>\n",
       "    </tr>\n",
       "    <tr>\n",
       "      <th>ITEM_ID</th>\n",
       "      <td>-0.007403</td>\n",
       "      <td>1.000000</td>\n",
       "      <td>-0.511381</td>\n",
       "      <td>-0.023452</td>\n",
       "      <td>-0.448183</td>\n",
       "      <td>-0.454481</td>\n",
       "      <td>-0.583398</td>\n",
       "      <td>-0.303772</td>\n",
       "      <td>-0.363183</td>\n",
       "      <td>-0.111552</td>\n",
       "      <td>-0.422005</td>\n",
       "      <td>-0.288414</td>\n",
       "      <td>0.001831</td>\n",
       "      <td>0.021770</td>\n",
       "      <td>-0.120481</td>\n",
       "      <td>0.111661</td>\n",
       "    </tr>\n",
       "    <tr>\n",
       "      <th>INTERACTION_BINARY</th>\n",
       "      <td>-0.004403</td>\n",
       "      <td>-0.511381</td>\n",
       "      <td>1.000000</td>\n",
       "      <td>0.071868</td>\n",
       "      <td>0.405661</td>\n",
       "      <td>0.407068</td>\n",
       "      <td>0.512040</td>\n",
       "      <td>0.278594</td>\n",
       "      <td>0.325091</td>\n",
       "      <td>0.085907</td>\n",
       "      <td>0.383570</td>\n",
       "      <td>0.261809</td>\n",
       "      <td>0.003168</td>\n",
       "      <td>-0.031463</td>\n",
       "      <td>0.131428</td>\n",
       "      <td>-0.117282</td>\n",
       "    </tr>\n",
       "    <tr>\n",
       "      <th>CLICKSTREAM_EVENTS_TOTAL</th>\n",
       "      <td>-0.205356</td>\n",
       "      <td>-0.023452</td>\n",
       "      <td>0.071868</td>\n",
       "      <td>1.000000</td>\n",
       "      <td>0.008996</td>\n",
       "      <td>0.008867</td>\n",
       "      <td>0.020991</td>\n",
       "      <td>0.011670</td>\n",
       "      <td>0.011901</td>\n",
       "      <td>0.011054</td>\n",
       "      <td>0.004611</td>\n",
       "      <td>0.010214</td>\n",
       "      <td>0.005460</td>\n",
       "      <td>-0.526233</td>\n",
       "      <td>0.003733</td>\n",
       "      <td>0.004235</td>\n",
       "    </tr>\n",
       "    <tr>\n",
       "      <th>TE_STYLE_TARGET</th>\n",
       "      <td>0.014845</td>\n",
       "      <td>-0.448183</td>\n",
       "      <td>0.405661</td>\n",
       "      <td>0.008996</td>\n",
       "      <td>1.000000</td>\n",
       "      <td>0.992996</td>\n",
       "      <td>0.698986</td>\n",
       "      <td>0.682745</td>\n",
       "      <td>0.820932</td>\n",
       "      <td>0.211843</td>\n",
       "      <td>0.946305</td>\n",
       "      <td>0.642234</td>\n",
       "      <td>0.000939</td>\n",
       "      <td>-0.038369</td>\n",
       "      <td>0.388786</td>\n",
       "      <td>-0.276940</td>\n",
       "    </tr>\n",
       "    <tr>\n",
       "      <th>TE_TAXONOMY_STYLE_TARGET</th>\n",
       "      <td>0.013869</td>\n",
       "      <td>-0.454481</td>\n",
       "      <td>0.407068</td>\n",
       "      <td>0.008867</td>\n",
       "      <td>0.992996</td>\n",
       "      <td>1.000000</td>\n",
       "      <td>0.703492</td>\n",
       "      <td>0.680977</td>\n",
       "      <td>0.818538</td>\n",
       "      <td>0.210002</td>\n",
       "      <td>0.943506</td>\n",
       "      <td>0.640628</td>\n",
       "      <td>0.000841</td>\n",
       "      <td>-0.038229</td>\n",
       "      <td>0.385846</td>\n",
       "      <td>-0.280259</td>\n",
       "    </tr>\n",
       "    <tr>\n",
       "      <th>TE_COLOR_NAME_TARGET</th>\n",
       "      <td>0.019533</td>\n",
       "      <td>-0.583398</td>\n",
       "      <td>0.512040</td>\n",
       "      <td>0.020991</td>\n",
       "      <td>0.698986</td>\n",
       "      <td>0.703492</td>\n",
       "      <td>1.000000</td>\n",
       "      <td>0.501178</td>\n",
       "      <td>0.574061</td>\n",
       "      <td>0.193605</td>\n",
       "      <td>0.659744</td>\n",
       "      <td>0.470693</td>\n",
       "      <td>-0.004544</td>\n",
       "      <td>-0.038550</td>\n",
       "      <td>0.272006</td>\n",
       "      <td>-0.235717</td>\n",
       "    </tr>\n",
       "    <tr>\n",
       "      <th>TE_PRODUCT_CLASS_TARGET</th>\n",
       "      <td>0.008447</td>\n",
       "      <td>-0.303772</td>\n",
       "      <td>0.278594</td>\n",
       "      <td>0.011670</td>\n",
       "      <td>0.682745</td>\n",
       "      <td>0.680977</td>\n",
       "      <td>0.501178</td>\n",
       "      <td>1.000000</td>\n",
       "      <td>0.857766</td>\n",
       "      <td>0.516569</td>\n",
       "      <td>0.725891</td>\n",
       "      <td>0.939013</td>\n",
       "      <td>0.000448</td>\n",
       "      <td>-0.010655</td>\n",
       "      <td>0.663035</td>\n",
       "      <td>-0.272734</td>\n",
       "    </tr>\n",
       "    <tr>\n",
       "      <th>TE_PRODUCT_SUBCLASS_TARGET</th>\n",
       "      <td>0.014500</td>\n",
       "      <td>-0.363183</td>\n",
       "      <td>0.325091</td>\n",
       "      <td>0.011901</td>\n",
       "      <td>0.820932</td>\n",
       "      <td>0.818538</td>\n",
       "      <td>0.574061</td>\n",
       "      <td>0.857766</td>\n",
       "      <td>1.000000</td>\n",
       "      <td>0.265047</td>\n",
       "      <td>0.853074</td>\n",
       "      <td>0.797520</td>\n",
       "      <td>0.001497</td>\n",
       "      <td>-0.030125</td>\n",
       "      <td>0.482803</td>\n",
       "      <td>-0.249400</td>\n",
       "    </tr>\n",
       "    <tr>\n",
       "      <th>TE_TEAM_TARGET</th>\n",
       "      <td>-0.007296</td>\n",
       "      <td>-0.111552</td>\n",
       "      <td>0.085907</td>\n",
       "      <td>0.011054</td>\n",
       "      <td>0.211843</td>\n",
       "      <td>0.210002</td>\n",
       "      <td>0.193605</td>\n",
       "      <td>0.516569</td>\n",
       "      <td>0.265047</td>\n",
       "      <td>1.000000</td>\n",
       "      <td>0.226319</td>\n",
       "      <td>0.411147</td>\n",
       "      <td>0.004548</td>\n",
       "      <td>0.007024</td>\n",
       "      <td>0.579097</td>\n",
       "      <td>-0.053069</td>\n",
       "    </tr>\n",
       "    <tr>\n",
       "      <th>TE_FRANCHISE_TARGET</th>\n",
       "      <td>0.009698</td>\n",
       "      <td>-0.422005</td>\n",
       "      <td>0.383570</td>\n",
       "      <td>0.004611</td>\n",
       "      <td>0.946305</td>\n",
       "      <td>0.943506</td>\n",
       "      <td>0.659744</td>\n",
       "      <td>0.725891</td>\n",
       "      <td>0.853074</td>\n",
       "      <td>0.226319</td>\n",
       "      <td>1.000000</td>\n",
       "      <td>0.682304</td>\n",
       "      <td>0.001842</td>\n",
       "      <td>-0.033718</td>\n",
       "      <td>0.417946</td>\n",
       "      <td>-0.271593</td>\n",
       "    </tr>\n",
       "    <tr>\n",
       "      <th>TE_PRODUCT_GROUP_TARGET</th>\n",
       "      <td>0.008316</td>\n",
       "      <td>-0.288414</td>\n",
       "      <td>0.261809</td>\n",
       "      <td>0.010214</td>\n",
       "      <td>0.642234</td>\n",
       "      <td>0.640628</td>\n",
       "      <td>0.470693</td>\n",
       "      <td>0.939013</td>\n",
       "      <td>0.797520</td>\n",
       "      <td>0.411147</td>\n",
       "      <td>0.682304</td>\n",
       "      <td>1.000000</td>\n",
       "      <td>0.000947</td>\n",
       "      <td>-0.008096</td>\n",
       "      <td>0.655975</td>\n",
       "      <td>-0.233713</td>\n",
       "    </tr>\n",
       "    <tr>\n",
       "      <th>TE_COUNTRY_TARGET</th>\n",
       "      <td>0.011019</td>\n",
       "      <td>0.001831</td>\n",
       "      <td>0.003168</td>\n",
       "      <td>0.005460</td>\n",
       "      <td>0.000939</td>\n",
       "      <td>0.000841</td>\n",
       "      <td>-0.004544</td>\n",
       "      <td>0.000448</td>\n",
       "      <td>0.001497</td>\n",
       "      <td>0.004548</td>\n",
       "      <td>0.001842</td>\n",
       "      <td>0.000947</td>\n",
       "      <td>1.000000</td>\n",
       "      <td>-0.005958</td>\n",
       "      <td>0.000027</td>\n",
       "      <td>0.000398</td>\n",
       "    </tr>\n",
       "    <tr>\n",
       "      <th>DAYS_SINCE_LAST_VISIT</th>\n",
       "      <td>0.063918</td>\n",
       "      <td>0.021770</td>\n",
       "      <td>-0.031463</td>\n",
       "      <td>-0.526233</td>\n",
       "      <td>-0.038369</td>\n",
       "      <td>-0.038229</td>\n",
       "      <td>-0.038550</td>\n",
       "      <td>-0.010655</td>\n",
       "      <td>-0.030125</td>\n",
       "      <td>0.007024</td>\n",
       "      <td>-0.033718</td>\n",
       "      <td>-0.008096</td>\n",
       "      <td>-0.005958</td>\n",
       "      <td>1.000000</td>\n",
       "      <td>0.000950</td>\n",
       "      <td>0.004476</td>\n",
       "    </tr>\n",
       "    <tr>\n",
       "      <th>PRICE_INFORMATION</th>\n",
       "      <td>0.004339</td>\n",
       "      <td>-0.120481</td>\n",
       "      <td>0.131428</td>\n",
       "      <td>0.003733</td>\n",
       "      <td>0.388786</td>\n",
       "      <td>0.385846</td>\n",
       "      <td>0.272006</td>\n",
       "      <td>0.663035</td>\n",
       "      <td>0.482803</td>\n",
       "      <td>0.579097</td>\n",
       "      <td>0.417946</td>\n",
       "      <td>0.655975</td>\n",
       "      <td>0.000027</td>\n",
       "      <td>0.000950</td>\n",
       "      <td>1.000000</td>\n",
       "      <td>-0.177455</td>\n",
       "    </tr>\n",
       "    <tr>\n",
       "      <th>AVG_REVIEW_SCORE</th>\n",
       "      <td>-0.007545</td>\n",
       "      <td>0.111661</td>\n",
       "      <td>-0.117282</td>\n",
       "      <td>0.004235</td>\n",
       "      <td>-0.276940</td>\n",
       "      <td>-0.280259</td>\n",
       "      <td>-0.235717</td>\n",
       "      <td>-0.272734</td>\n",
       "      <td>-0.249400</td>\n",
       "      <td>-0.053069</td>\n",
       "      <td>-0.271593</td>\n",
       "      <td>-0.233713</td>\n",
       "      <td>0.000398</td>\n",
       "      <td>0.004476</td>\n",
       "      <td>-0.177455</td>\n",
       "      <td>1.000000</td>\n",
       "    </tr>\n",
       "  </tbody>\n",
       "</table>\n",
       "</div>"
      ],
      "text/plain": [
       "                             USER_ID   ITEM_ID  INTERACTION_BINARY  \\\n",
       "USER_ID                     1.000000 -0.007403           -0.004403   \n",
       "ITEM_ID                    -0.007403  1.000000           -0.511381   \n",
       "INTERACTION_BINARY         -0.004403 -0.511381            1.000000   \n",
       "CLICKSTREAM_EVENTS_TOTAL   -0.205356 -0.023452            0.071868   \n",
       "TE_STYLE_TARGET             0.014845 -0.448183            0.405661   \n",
       "TE_TAXONOMY_STYLE_TARGET    0.013869 -0.454481            0.407068   \n",
       "TE_COLOR_NAME_TARGET        0.019533 -0.583398            0.512040   \n",
       "TE_PRODUCT_CLASS_TARGET     0.008447 -0.303772            0.278594   \n",
       "TE_PRODUCT_SUBCLASS_TARGET  0.014500 -0.363183            0.325091   \n",
       "TE_TEAM_TARGET             -0.007296 -0.111552            0.085907   \n",
       "TE_FRANCHISE_TARGET         0.009698 -0.422005            0.383570   \n",
       "TE_PRODUCT_GROUP_TARGET     0.008316 -0.288414            0.261809   \n",
       "TE_COUNTRY_TARGET           0.011019  0.001831            0.003168   \n",
       "DAYS_SINCE_LAST_VISIT       0.063918  0.021770           -0.031463   \n",
       "PRICE_INFORMATION           0.004339 -0.120481            0.131428   \n",
       "AVG_REVIEW_SCORE           -0.007545  0.111661           -0.117282   \n",
       "\n",
       "                            CLICKSTREAM_EVENTS_TOTAL  TE_STYLE_TARGET  \\\n",
       "USER_ID                                    -0.205356         0.014845   \n",
       "ITEM_ID                                    -0.023452        -0.448183   \n",
       "INTERACTION_BINARY                          0.071868         0.405661   \n",
       "CLICKSTREAM_EVENTS_TOTAL                    1.000000         0.008996   \n",
       "TE_STYLE_TARGET                             0.008996         1.000000   \n",
       "TE_TAXONOMY_STYLE_TARGET                    0.008867         0.992996   \n",
       "TE_COLOR_NAME_TARGET                        0.020991         0.698986   \n",
       "TE_PRODUCT_CLASS_TARGET                     0.011670         0.682745   \n",
       "TE_PRODUCT_SUBCLASS_TARGET                  0.011901         0.820932   \n",
       "TE_TEAM_TARGET                              0.011054         0.211843   \n",
       "TE_FRANCHISE_TARGET                         0.004611         0.946305   \n",
       "TE_PRODUCT_GROUP_TARGET                     0.010214         0.642234   \n",
       "TE_COUNTRY_TARGET                           0.005460         0.000939   \n",
       "DAYS_SINCE_LAST_VISIT                      -0.526233        -0.038369   \n",
       "PRICE_INFORMATION                           0.003733         0.388786   \n",
       "AVG_REVIEW_SCORE                            0.004235        -0.276940   \n",
       "\n",
       "                            TE_TAXONOMY_STYLE_TARGET  TE_COLOR_NAME_TARGET  \\\n",
       "USER_ID                                     0.013869              0.019533   \n",
       "ITEM_ID                                    -0.454481             -0.583398   \n",
       "INTERACTION_BINARY                          0.407068              0.512040   \n",
       "CLICKSTREAM_EVENTS_TOTAL                    0.008867              0.020991   \n",
       "TE_STYLE_TARGET                             0.992996              0.698986   \n",
       "TE_TAXONOMY_STYLE_TARGET                    1.000000              0.703492   \n",
       "TE_COLOR_NAME_TARGET                        0.703492              1.000000   \n",
       "TE_PRODUCT_CLASS_TARGET                     0.680977              0.501178   \n",
       "TE_PRODUCT_SUBCLASS_TARGET                  0.818538              0.574061   \n",
       "TE_TEAM_TARGET                              0.210002              0.193605   \n",
       "TE_FRANCHISE_TARGET                         0.943506              0.659744   \n",
       "TE_PRODUCT_GROUP_TARGET                     0.640628              0.470693   \n",
       "TE_COUNTRY_TARGET                           0.000841             -0.004544   \n",
       "DAYS_SINCE_LAST_VISIT                      -0.038229             -0.038550   \n",
       "PRICE_INFORMATION                           0.385846              0.272006   \n",
       "AVG_REVIEW_SCORE                           -0.280259             -0.235717   \n",
       "\n",
       "                            TE_PRODUCT_CLASS_TARGET  \\\n",
       "USER_ID                                    0.008447   \n",
       "ITEM_ID                                   -0.303772   \n",
       "INTERACTION_BINARY                         0.278594   \n",
       "CLICKSTREAM_EVENTS_TOTAL                   0.011670   \n",
       "TE_STYLE_TARGET                            0.682745   \n",
       "TE_TAXONOMY_STYLE_TARGET                   0.680977   \n",
       "TE_COLOR_NAME_TARGET                       0.501178   \n",
       "TE_PRODUCT_CLASS_TARGET                    1.000000   \n",
       "TE_PRODUCT_SUBCLASS_TARGET                 0.857766   \n",
       "TE_TEAM_TARGET                             0.516569   \n",
       "TE_FRANCHISE_TARGET                        0.725891   \n",
       "TE_PRODUCT_GROUP_TARGET                    0.939013   \n",
       "TE_COUNTRY_TARGET                          0.000448   \n",
       "DAYS_SINCE_LAST_VISIT                     -0.010655   \n",
       "PRICE_INFORMATION                          0.663035   \n",
       "AVG_REVIEW_SCORE                          -0.272734   \n",
       "\n",
       "                            TE_PRODUCT_SUBCLASS_TARGET  TE_TEAM_TARGET  \\\n",
       "USER_ID                                       0.014500       -0.007296   \n",
       "ITEM_ID                                      -0.363183       -0.111552   \n",
       "INTERACTION_BINARY                            0.325091        0.085907   \n",
       "CLICKSTREAM_EVENTS_TOTAL                      0.011901        0.011054   \n",
       "TE_STYLE_TARGET                               0.820932        0.211843   \n",
       "TE_TAXONOMY_STYLE_TARGET                      0.818538        0.210002   \n",
       "TE_COLOR_NAME_TARGET                          0.574061        0.193605   \n",
       "TE_PRODUCT_CLASS_TARGET                       0.857766        0.516569   \n",
       "TE_PRODUCT_SUBCLASS_TARGET                    1.000000        0.265047   \n",
       "TE_TEAM_TARGET                                0.265047        1.000000   \n",
       "TE_FRANCHISE_TARGET                           0.853074        0.226319   \n",
       "TE_PRODUCT_GROUP_TARGET                       0.797520        0.411147   \n",
       "TE_COUNTRY_TARGET                             0.001497        0.004548   \n",
       "DAYS_SINCE_LAST_VISIT                        -0.030125        0.007024   \n",
       "PRICE_INFORMATION                             0.482803        0.579097   \n",
       "AVG_REVIEW_SCORE                             -0.249400       -0.053069   \n",
       "\n",
       "                            TE_FRANCHISE_TARGET  TE_PRODUCT_GROUP_TARGET  \\\n",
       "USER_ID                                0.009698                 0.008316   \n",
       "ITEM_ID                               -0.422005                -0.288414   \n",
       "INTERACTION_BINARY                     0.383570                 0.261809   \n",
       "CLICKSTREAM_EVENTS_TOTAL               0.004611                 0.010214   \n",
       "TE_STYLE_TARGET                        0.946305                 0.642234   \n",
       "TE_TAXONOMY_STYLE_TARGET               0.943506                 0.640628   \n",
       "TE_COLOR_NAME_TARGET                   0.659744                 0.470693   \n",
       "TE_PRODUCT_CLASS_TARGET                0.725891                 0.939013   \n",
       "TE_PRODUCT_SUBCLASS_TARGET             0.853074                 0.797520   \n",
       "TE_TEAM_TARGET                         0.226319                 0.411147   \n",
       "TE_FRANCHISE_TARGET                    1.000000                 0.682304   \n",
       "TE_PRODUCT_GROUP_TARGET                0.682304                 1.000000   \n",
       "TE_COUNTRY_TARGET                      0.001842                 0.000947   \n",
       "DAYS_SINCE_LAST_VISIT                 -0.033718                -0.008096   \n",
       "PRICE_INFORMATION                      0.417946                 0.655975   \n",
       "AVG_REVIEW_SCORE                      -0.271593                -0.233713   \n",
       "\n",
       "                            TE_COUNTRY_TARGET  DAYS_SINCE_LAST_VISIT  \\\n",
       "USER_ID                              0.011019               0.063918   \n",
       "ITEM_ID                              0.001831               0.021770   \n",
       "INTERACTION_BINARY                   0.003168              -0.031463   \n",
       "CLICKSTREAM_EVENTS_TOTAL             0.005460              -0.526233   \n",
       "TE_STYLE_TARGET                      0.000939              -0.038369   \n",
       "TE_TAXONOMY_STYLE_TARGET             0.000841              -0.038229   \n",
       "TE_COLOR_NAME_TARGET                -0.004544              -0.038550   \n",
       "TE_PRODUCT_CLASS_TARGET              0.000448              -0.010655   \n",
       "TE_PRODUCT_SUBCLASS_TARGET           0.001497              -0.030125   \n",
       "TE_TEAM_TARGET                       0.004548               0.007024   \n",
       "TE_FRANCHISE_TARGET                  0.001842              -0.033718   \n",
       "TE_PRODUCT_GROUP_TARGET              0.000947              -0.008096   \n",
       "TE_COUNTRY_TARGET                    1.000000              -0.005958   \n",
       "DAYS_SINCE_LAST_VISIT               -0.005958               1.000000   \n",
       "PRICE_INFORMATION                    0.000027               0.000950   \n",
       "AVG_REVIEW_SCORE                     0.000398               0.004476   \n",
       "\n",
       "                            PRICE_INFORMATION  AVG_REVIEW_SCORE  \n",
       "USER_ID                              0.004339         -0.007545  \n",
       "ITEM_ID                             -0.120481          0.111661  \n",
       "INTERACTION_BINARY                   0.131428         -0.117282  \n",
       "CLICKSTREAM_EVENTS_TOTAL             0.003733          0.004235  \n",
       "TE_STYLE_TARGET                      0.388786         -0.276940  \n",
       "TE_TAXONOMY_STYLE_TARGET             0.385846         -0.280259  \n",
       "TE_COLOR_NAME_TARGET                 0.272006         -0.235717  \n",
       "TE_PRODUCT_CLASS_TARGET              0.663035         -0.272734  \n",
       "TE_PRODUCT_SUBCLASS_TARGET           0.482803         -0.249400  \n",
       "TE_TEAM_TARGET                       0.579097         -0.053069  \n",
       "TE_FRANCHISE_TARGET                  0.417946         -0.271593  \n",
       "TE_PRODUCT_GROUP_TARGET              0.655975         -0.233713  \n",
       "TE_COUNTRY_TARGET                    0.000027          0.000398  \n",
       "DAYS_SINCE_LAST_VISIT                0.000950          0.004476  \n",
       "PRICE_INFORMATION                    1.000000         -0.177455  \n",
       "AVG_REVIEW_SCORE                    -0.177455          1.000000  "
      ]
     },
     "execution_count": 173,
     "metadata": {},
     "output_type": "execute_result"
    }
   ],
   "source": [
    "data"
   ]
  },
  {
   "cell_type": "markdown",
   "id": "f8bcd359-0fbc-4ac2-b660-23d57e375134",
   "metadata": {},
   "source": [
    "## Model"
   ]
  },
  {
   "cell_type": "code",
   "execution_count": 353,
   "id": "7a04711c-f753-44ee-bb7b-8ec0c677805c",
   "metadata": {
    "tags": []
   },
   "outputs": [],
   "source": [
    "import tensorflow as tf\n",
    "model = mm.benchmark.NCFModel(\n",
    "    train.schema,\n",
    "    embedding_dim=64,\n",
    "    mlp_block=mm.MLPBlock([128, 64]),\n",
    "    prediction_tasks=mm.BinaryOutput(train.schema.select_by_tag(Tags.TARGET).column_names[0]),\n",
    ")"
   ]
  },
  {
   "cell_type": "code",
   "execution_count": 358,
   "id": "1e5abead-b598-451f-bd9f-8d80a61e89e1",
   "metadata": {
    "tags": []
   },
   "outputs": [
    {
     "name": "stdout",
     "output_type": "stream",
     "text": [
      "102/102 [==============================] - 1s 4ms/step - loss: 0.4983 - recall: 0.0000e+00 - precision: 0.0000e+00 - regularization_loss: 0.0000e+00 - loss_batch: 0.4934 - val_loss: 0.5297 - val_recall: 0.0000e+00 - val_precision: 0.0000e+00 - val_regularization_loss: 0.0000e+00 - val_loss_batch: 0.6850\n",
      "50/50 [==============================] - 0s 1ms/step - loss: 0.5297 - recall: 0.0000e+00 - precision: 0.0000e+00 - regularization_loss: 0.0000e+00 - loss_batch: 0.5331\n"
     ]
    }
   ],
   "source": [
    "recall = []\n",
    "precision = []\n",
    "\n",
    "loss=tf.keras.losses.BinaryCrossentropy()\n",
    "model.compile(optimizer=keras.optimizers.Adagrad(learning_rate = .03), loss = loss, run_eagerly=False, metrics=[tf.keras.metrics.Recall(name=\"recall\"), tf.keras.metrics.Precision(name='precision')]);\n",
    "model.fit(train, validation_data=valid, batch_size=1024, epochs = 1); #Less epochs, more accurate valid... less accurate train\n",
    "x = model.evaluate(valid, batch_size = 1024, return_dict = True)\n",
    "recall.append(x['recall'])\n",
    "precision.append(x['precision'])"
   ]
  },
  {
   "cell_type": "code",
   "execution_count": 356,
   "id": "daa805bc-465a-4133-a55d-c0948c75169d",
   "metadata": {
    "tags": []
   },
   "outputs": [],
   "source": [
    "preds = model.predict(train, batch_size = 1024)"
   ]
  },
  {
   "cell_type": "code",
   "execution_count": 357,
   "id": "65abedde-254e-4960-b288-3b3f5d8065d9",
   "metadata": {
    "tags": []
   },
   "outputs": [
    {
     "data": {
      "text/plain": [
       "(array([   70.,  1386., 12229., 32627., 32392., 16285.,  6189.,  1805.,\n",
       "          604.,    76.]),\n",
       " array([0.15022986, 0.16065389, 0.17107791, 0.18150194, 0.19192597,\n",
       "        0.20234999, 0.21277402, 0.22319806, 0.23362209, 0.24404611,\n",
       "        0.25447014]),\n",
       " <BarContainer object of 10 artists>)"
      ]
     },
     "execution_count": 357,
     "metadata": {},
     "output_type": "execute_result"
    },
    {
     "data": {
      "image/png": "[encoded data removed]",
      "text/plain": [
       "<Figure size 640x480 with 1 Axes>"
      ]
     },
     "metadata": {},
     "output_type": "display_data"
    }
   ],
   "source": [
    "plt.hist(preds)"
   ]
  },
  {
   "cell_type": "code",
   "execution_count": 239,
   "id": "90be2dae-3fd6-4672-ba96-48aa37a071e6",
   "metadata": {
    "tags": []
   },
   "outputs": [],
   "source": [
    "# I Have 2 evals to compare when I make changes."
   ]
  },
  {
   "cell_type": "code",
   "execution_count": 252,
   "id": "df036392-40b6-4929-8bda-7262dd42ff72",
   "metadata": {
    "tags": []
   },
   "outputs": [
    {
     "name": "stdout",
     "output_type": "stream",
     "text": [
      "138/138 [==============================] - 0s 1ms/step - loss: 0.4750 - recall: 0.0000e+00 - precision: 0.0000e+00 - regularization_loss: 0.0000e+00 - loss_batch: 0.4683\n"
     ]
    },
    {
     "data": {
      "text/plain": [
       "{'loss': 0.47495314478874207,\n",
       " 'recall': 0.0,\n",
       " 'precision': 0.0,\n",
       " 'regularization_loss': 0.0,\n",
       " 'loss_batch': 0.008091789670288563}"
      ]
     },
     "execution_count": 252,
     "metadata": {},
     "output_type": "execute_result"
    }
   ],
   "source": [
    "model.evaluate(valid, batch_size = 1024, return_dict = True)"
   ]
  },
  {
   "cell_type": "code",
   "execution_count": 31,
   "id": "b261d9e5-55bf-43ac-bdd1-ee9c1d9d5283",
   "metadata": {
    "tags": []
   },
   "outputs": [
    {
     "name": "stdout",
     "output_type": "stream",
     "text": [
      "405/405 [==============================] - 6s 15ms/step - loss: 0.1239 - recall: 0.9964 - precision: 0.8423 - regularization_loss: 0.0000e+00 - loss_batch: 0.1239\n"
     ]
    },
    {
     "data": {
      "text/plain": [
       "{'loss': 0.12388665974140167,\n",
       " 'recall': 0.9963948130607605,\n",
       " 'precision': 0.8422735929489136,\n",
       " 'regularization_loss': 0.0,\n",
       " 'loss_batch': 0.12724202871322632}"
      ]
     },
     "execution_count": 31,
     "metadata": {},
     "output_type": "execute_result"
    }
   ],
   "source": [
    "model.evaluate(valid, batch_size = 1024, return_dict = True)"
   ]
  },
  {
   "cell_type": "markdown",
   "id": "1e5a4afd-1d11-4390-809f-107476ec31e7",
   "metadata": {},
   "source": [
    "# Model"
   ]
  },
  {
   "cell_type": "code",
   "execution_count": 255,
   "id": "d79976dd-8cb2-4a09-adcc-33f36e19a9d8",
   "metadata": {},
   "outputs": [
    {
     "name": "stdout",
     "output_type": "stream",
     "text": [
      "279/279 [==============================] - 2s 5ms/step - loss: 0.1855 - precision: 0.4787 - recall: 0.2527 - binary_accuracy: 0.9237 - auc: 0.9080 - regularization_loss: 0.0000e+00 - loss_batch: 0.1843\n",
      "138/138 [==============================] - 0s 1ms/step - loss: nan - precision: 0.0000e+00 - recall: 0.0000e+00 - binary_accuracy: 0.9254 - auc: 0.7134 - regularization_loss: 0.0000e+00 - loss_batch: nan    \n"
     ]
    }
   ],
   "source": [
    "model_fb = mm.DLRMModel(\n",
    "    train.schema,\n",
    "    embedding_dim = 64,\n",
    "    top_block = mm.MLPBlock([128, 64, 32]),\n",
    "    bottom_block = mm.MLPBlock([128, 64]),\n",
    ")\n",
    "\n",
    "recall = []\n",
    "precision = []\n",
    "\n",
    "\n",
    "model_fb.compile(optimizer = keras.optimizers.Adam(learning_rate = .0325), loss = loss)\n",
    "model_fb.fit(train, batch_size = 1024, epochs = 1) #Less epochs, more accurate valid... less accurate train\n",
    "model_fb.evaluate(valid, batch_size = 1024, return_dict = True)\n",
    "preds_2 = model_fb.predict(valid, batch_size = 1024)"
   ]
  },
  {
   "cell_type": "code",
   "execution_count": 256,
   "id": "b489641c-51b4-4a33-8717-f7e09dcbc7df",
   "metadata": {
    "tags": []
   },
   "outputs": [
    {
     "data": {
      "text/plain": [
       "(array([ 1297., 30596., 26133., 16563., 12088., 20844.,  9995., 13537.,\n",
       "         8948.,   312.]),\n",
       " array([1.48545150e-04, 4.77875732e-02, 9.54265967e-02, 1.43065616e-01,\n",
       "        1.90704644e-01, 2.38343671e-01, 2.85982698e-01, 3.33621740e-01,\n",
       "        3.81260753e-01, 4.28899795e-01, 4.76538807e-01]),\n",
       " <BarContainer object of 10 artists>)"
      ]
     },
     "execution_count": 256,
     "metadata": {},
     "output_type": "execute_result"
    },
    {
     "data": {
      "image/png": "[encoded data removed]",
      "text/plain": [
       "<Figure size 640x480 with 1 Axes>"
      ]
     },
     "metadata": {},
     "output_type": "display_data"
    }
   ],
   "source": [
    "plt.hist(preds_2)"
   ]
  },
  {
   "cell_type": "code",
   "execution_count": 243,
   "id": "d96dea76-8815-4983-aaf4-fd0489754d6e",
   "metadata": {},
   "outputs": [
    {
     "name": "stdout",
     "output_type": "stream",
     "text": [
      "138/138 [==============================] - 0s 1ms/step - loss: nan - precision: 0.0000e+00 - recall: 0.0000e+00 - binary_accuracy: 0.9254 - auc: 0.7170 - regularization_loss: 0.0000e+00 - loss_batch: nan   \n"
     ]
    },
    {
     "data": {
      "text/plain": [
       "{'loss': nan,\n",
       " 'precision': 0.0,\n",
       " 'recall': 0.0,\n",
       " 'binary_accuracy': 0.9254040718078613,\n",
       " 'auc': 0.7170469760894775,\n",
       " 'regularization_loss': 0.0,\n",
       " 'loss_batch': nan}"
      ]
     },
     "execution_count": 243,
     "metadata": {},
     "output_type": "execute_result"
    }
   ],
   "source": [
    "model_fb.evaluate(valid, batch_size = 1024, return_dict = True)"
   ]
  },
  {
   "cell_type": "code",
   "execution_count": null,
   "id": "16f8575f-382e-4eb7-8d6f-27db5d376964",
   "metadata": {},
   "outputs": [],
   "source": []
  }
 ],
 "metadata": {
  "kernelspec": {
   "display_name": "Python 3 (ipykernel)",
   "language": "python",
   "name": "python3"
  },
  "language_info": {
   "codemirror_mode": {
    "name": "ipython",
    "version": 3
   },
   "file_extension": ".py",
   "mimetype": "text/x-python",
   "name": "python",
   "nbconvert_exporter": "python",
   "pygments_lexer": "ipython3",
   "version": "3.11.4"
  }
 },
 "nbformat": 4,
 "nbformat_minor": 5
}
