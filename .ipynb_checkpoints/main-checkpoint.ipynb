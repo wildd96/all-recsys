{
 "cells": [
  {
   "cell_type": "code",
   "execution_count": 2,
   "id": "a6164808-2b20-4d30-8f2a-3922335e7519",
   "metadata": {
    "tags": []
   },
   "outputs": [
    {
     "name": "stderr",
     "output_type": "stream",
     "text": [
      "/Users/andrew/anaconda3/lib/python3.11/site-packages/merlin/dtypes/mappings/triton.py:53: UserWarning: Triton dtype mappings did not load successfully due to an error: No module named 'tritonclient'\n",
      "  warn(f\"Triton dtype mappings did not load successfully due to an error: {exc.msg}\")\n"
     ]
    },
    {
     "name": "stdout",
     "output_type": "stream",
     "text": [
      "WARNING:tensorflow:Please fix your imports. Module tensorflow.python.training.tracking.data_structures has been moved to tensorflow.python.trackable.data_structures. The old module will be deleted in version 2.11.\n"
     ]
    }
   ],
   "source": [
    "#This is a starting point\n",
    "#uncomment below to install merlin library\n",
    "#!pip install merlin, nvtabular, merlin.models\n",
    "#I had to downgrade keras to 12.2.0 there maybe issues regarding tensorflow in the future\n",
    "#run lines below if you have also have an error ab not finding a keras package\n",
    "\n",
    "#!pip uninstall keras\n",
    "#!pip install keras==2.12.0\n",
    "\n",
    "\n",
    "#These are the same imports from\n",
    "#https://github.com/NVIDIA-Merlin/models/blob/main/examples/02-Merlin-Models-and-NVTabular-integration.ipynb\n",
    "import os\n",
    "import pandas as pd\n",
    "import numpy as np\n",
    "import nvtabular as nvt\n",
    "import matplotlib.pyplot as plt\n",
    "import seaborn as sns\n",
    "import keras\n",
    "import polars as pl\n",
    "\n",
    "from sklearn.model_selection import train_test_split\n",
    "\n",
    "from merlin.models.utils.example_utils import workflow_fit_transform\n",
    "import merlin.io\n",
    "import tensorflow as tf\n",
    "\n",
    "import merlin.models.tf as mm\n",
    "from merlin.io.dataset import Dataset\n",
    "from nvtabular.ops import *\n",
    "from merlin.core.utils import download_file\n",
    "from merlin.schema.tags import Tags"
   ]
  },
  {
   "cell_type": "markdown",
   "id": "fed8d8ae-f403-4689-89fc-076f17da0266",
   "metadata": {},
   "source": [
    "### To-do"
   ]
  },
  {
   "cell_type": "markdown",
   "id": "769d4f8b-6d21-415a-bff4-df59e11ac481",
   "metadata": {},
   "source": [
    "1. Clean data << Prices on user_interactions are not what they should be... probably is more\n",
    "2. EDA\n",
    "3. Transform timestamps\n",
    "4. Find out why certain things are crashing the model\n",
    "5. Learn about models and optimizers"
   ]
  },
  {
   "cell_type": "markdown",
   "id": "a340cdef-e86d-43fe-ac78-a6ff62a25aed",
   "metadata": {},
   "source": [
    "# Load and split"
   ]
  },
  {
   "cell_type": "code",
   "execution_count": 3,
   "id": "95493f8f-f037-4bc2-b737-3e3cb0c14967",
   "metadata": {
    "tags": []
   },
   "outputs": [],
   "source": [
    "df = pd.read_csv('/Users/andrew/Desktop/projects/recsys_data/2023-10-05 9_23pm (2).csv').dropna()\n",
    "#  ^ This needs point to your local .csv too big for github"
   ]
  },
  {
   "cell_type": "code",
   "execution_count": 4,
   "id": "032fb1a0-26b4-42c1-a348-b103f9d80e5e",
   "metadata": {},
   "outputs": [],
   "source": [
    "#accidentally added an extra CLICKSTREAM_EVENTS_TOTAL column\n",
    "df['TARGET'] = 0\n",
    "\n",
    "#Different values for different event_names\n",
    "\n",
    "df.loc[df['EVENT_NAME'] == 'order', 'TARGET'] = 2\n",
    "df.loc[df['EVENT_NAME'] == 'product_viewed', 'TARGET'] = 1\n",
    "\n",
    "full_df = df\n",
    "\n",
    "df = df.sample(40000)"
   ]
  },
  {
   "cell_type": "code",
   "execution_count": 5,
   "id": "9b0c08d7-bc83-43c2-b826-6b84a5261ccb",
   "metadata": {
    "tags": []
   },
   "outputs": [
    {
     "data": {
      "text/plain": [
       "Index(['USER_ID', 'COUNTRY', 'DERIVED_GENDER_BY_NAME',\n",
       "       'CLICKSTREAM_EVENTS_TOTAL', 'FIRST_PURCHASE_AT', 'FIRST_VISIT_AT',\n",
       "       'LATEST_VISIT_AT', 'LATEST_PURCHASE_AT', 'DAYS_SINCE_FIRST_VISIT',\n",
       "       'DAYS_SINCE_FIRST_PURCHASE', 'DAYS_SINCE_LAST_VISIT',\n",
       "       'DAYS_SINCE_LAST_PURCHASE', 'RECENT_VISIT', 'UNIQUE_PURCHASE_COUNT',\n",
       "       'MULTIPLE_BUYER', 'EVENT_NAME', 'EVENT_TIMESTAMP', 'ITEM_ID',\n",
       "       'PRICE_INFORMATION', 'DAYS_SINCE_INTERACTION', 'AVG_REVIEW_SCORE',\n",
       "       'STYLE', 'TAXONOMY_STYLE', 'COLOR_NAME', 'PRODUCT_CLASS',\n",
       "       'PRODUCT_SUBCLASS', 'TEAM', 'FRANCHISE', 'PRODUCT_GROUP', 'TARGET'],\n",
       "      dtype='object')"
      ]
     },
     "execution_count": 5,
     "metadata": {},
     "output_type": "execute_result"
    }
   ],
   "source": [
    "df.columns"
   ]
  },
  {
   "cell_type": "code",
   "execution_count": 6,
   "id": "893eeb30-40a7-4791-83f6-4a1936fe4a21",
   "metadata": {
    "tags": []
   },
   "outputs": [],
   "source": [
    "negative_sample = df[['USER_ID', 'ITEM_ID', 'TARGET']]\n",
    "\n",
    "user_df = df[['USER_ID', 'COUNTRY', 'DERIVED_GENDER_BY_NAME', 'CLICKSTREAM_EVENTS_TOTAL', 'FIRST_PURCHASE_AT', 'FIRST_VISIT_AT',\n",
    "              'LATEST_VISIT_AT', 'LATEST_PURCHASE_AT', 'DAYS_SINCE_FIRST_VISIT', 'DAYS_SINCE_FIRST_PURCHASE', 'DAYS_SINCE_LAST_VISIT',\n",
    "              'DAYS_SINCE_LAST_PURCHASE', 'RECENT_VISIT']]\n",
    "item_df = df[['ITEM_ID', 'PRICE_INFORMATION', 'AVG_REVIEW_SCORE',\n",
    "              'STYLE', 'TAXONOMY_STYLE', 'COLOR_NAME', 'PRODUCT_CLASS',\n",
    "              'PRODUCT_SUBCLASS', 'TEAM', 'FRANCHISE', 'PRODUCT_GROUP']] #Took away timestamps and days since interaction"
   ]
  },
  {
   "cell_type": "code",
   "execution_count": 7,
   "id": "a6f0b4d3-d6d8-440b-98a7-89e9fc1c1383",
   "metadata": {
    "tags": []
   },
   "outputs": [],
   "source": [
    "sections = df.shape[0]//10000\n",
    "negative_data = []\n",
    "item_map = full_df['ITEM_ID'].unique()\n",
    "rng = np.random.default_rng()\n",
    "zero_multiplier = 1\n",
    "\n",
    "for chunk in np.array_split(df, sections):\n",
    "    user_id_counts = pd.value_counts(chunk.USER_ID)\n",
    "    item_ids = []\n",
    "    for user_id, count in user_id_counts.items():\n",
    "        item_ids.append(np.random.randint(low = 0, high = item_map.shape[0], size = count*zero_multiplier))\n",
    "    item_ids = np.concatenate(item_ids)\n",
    "    negative_data.append(pd.DataFrame({'USER_ID': np.repeat(user_id_counts.index, repeats = user_id_counts.values*zero_multiplier),\n",
    "                                       'ITEM_ID': item_map[item_ids],\n",
    "                                       'TARGET': 0}))\n",
    "negative_data.append(negative_sample)\n",
    "sample_data = pd.concat(negative_data)"
   ]
  },
  {
   "cell_type": "code",
   "execution_count": 8,
   "id": "53a1c0a1-006c-486e-90eb-b93b2d69c541",
   "metadata": {
    "tags": []
   },
   "outputs": [],
   "source": [
    "sample_data = sample_data.merge(user_df, left_on = 'USER_ID', right_on = 'USER_ID')"
   ]
  },
  {
   "cell_type": "code",
   "execution_count": 10,
   "id": "db40e3f0-b110-48c0-900c-302852679390",
   "metadata": {
    "tags": []
   },
   "outputs": [],
   "source": [
    "x = sample_data.sort_values(\"USER_ID\")"
   ]
  },
  {
   "cell_type": "code",
   "execution_count": null,
   "id": "cd015309-ed9e-4fe5-84d3-f1bc26d1364e",
   "metadata": {
    "tags": []
   },
   "outputs": [],
   "source": [
    "x"
   ]
  },
  {
   "cell_type": "code",
   "execution_count": 7,
   "id": "6dd79ec9-f741-4e0d-a46e-123e36c4f68c",
   "metadata": {
    "tags": []
   },
   "outputs": [],
   "source": [
    "#num rows\n",
    "data_size = df.shape[0]\n",
    "\n",
    "train_split_ratio = int(.33 * data_size)\n",
    "\n",
    "train = df[:-train_split_ratio].to_parquet(\"train.parquet\")\n",
    "valid = df[-train_split_ratio:].to_parquet(\"valid.parquet\")"
   ]
  },
  {
   "cell_type": "code",
   "execution_count": 34,
   "id": "d0ab6b8f-52dc-4246-b9f0-62751d2016ef",
   "metadata": {
    "tags": []
   },
   "outputs": [
    {
     "data": {
      "text/plain": [
       "297942      True\n",
       "130453     False\n",
       "710356      True\n",
       "788039     False\n",
       "663271      True\n",
       "           ...  \n",
       "998768      True\n",
       "1134171    False\n",
       "393676      True\n",
       "243790      True\n",
       "376232      True\n",
       "Name: TARGET, Length: 1255300, dtype: bool"
      ]
     },
     "execution_count": 34,
     "metadata": {},
     "output_type": "execute_result"
    }
   ],
   "source": [
    "df['TARGET'] > 0 / len(df['TARGET'])"
   ]
  },
  {
   "cell_type": "markdown",
   "id": "7b424279-225c-4eef-b583-0427bc954c57",
   "metadata": {},
   "source": [
    "# EDA"
   ]
  },
  {
   "cell_type": "code",
   "execution_count": null,
   "id": "770badc5-5a3d-4282-a455-fef1eff25209",
   "metadata": {
    "tags": []
   },
   "outputs": [],
   "source": []
  },
  {
   "cell_type": "code",
   "execution_count": null,
   "id": "74fc862f-90f9-4db2-858b-bc4e93925ab2",
   "metadata": {},
   "outputs": [],
   "source": []
  },
  {
   "cell_type": "markdown",
   "id": "da5efa1f-91e7-4c32-a882-6bbe6fe26555",
   "metadata": {},
   "source": [
    "# NVTabular"
   ]
  },
  {
   "cell_type": "code",
   "execution_count": 8,
   "id": "5f247a55-cbdd-4cce-8b47-7e939e0984e9",
   "metadata": {},
   "outputs": [],
   "source": [
    "#This is how to iniate a dataset using NVtabular an NVIDIA \n",
    "#optimized ETL/feature engineering(i think?) library\n",
    "#data = nvt.io.dataset.Dataset('data/reviews.csv')"
   ]
  },
  {
   "cell_type": "code",
   "execution_count": 9,
   "id": "7d3c6c8f-282a-489f-8e5c-51411edc1435",
   "metadata": {
    "tags": []
   },
   "outputs": [],
   "source": [
    "categorical_user_features = ['COUNTRY']\n",
    "categorical_item_features = ['STYLE', 'TAXONOMY_STYLE', 'COLOR_NAME', 'PRODUCT_CLASS', 'PRODUCT_SUBCLASS', 'TEAM', 'FRANCHISE', 'PRODUCT_GROUP']"
   ]
  },
  {
   "cell_type": "code",
   "execution_count": 10,
   "id": "f941f6d0-41be-4177-aac5-a884aa7bb630",
   "metadata": {
    "tags": []
   },
   "outputs": [],
   "source": [
    "#Features needed to Transform still: FIRST_PURCHASE_AT, FIRST_VISIT_AT, LATEST_VISIT_AT\n",
    "# LATEST_PURCHASE_AT, EVENT_TIMESTAMP"
   ]
  },
  {
   "cell_type": "code",
   "execution_count": 11,
   "id": "c397eb73-c1bc-4e1b-838c-d72a85c2adb1",
   "metadata": {
    "tags": []
   },
   "outputs": [],
   "source": [
    "#DON'T FORGET TARGET ENCODING CATEGORICAL VALUES"
   ]
  },
  {
   "cell_type": "code",
   "execution_count": 12,
   "id": "74895def-f932-4e9c-b1f8-0d78da2b7571",
   "metadata": {
    "tags": []
   },
   "outputs": [],
   "source": [
    "user_id = [\"USER_ID\"] >> Categorify(dtype = \"int32\", out_path='categories') >> TagAsUserID()\n",
    "item_id = [\"ITEM_ID\"] >> Categorify(dtype = \"int32\", out_path='categories') >> TagAsItemID()\n",
    "\n",
    "target = (\n",
    "    #Turn categorical into continuous\n",
    "    nvt.ColumnSelector([\"TARGET\"])\n",
    "    #>> LambdaOp(lambda col: (col > 0).astype(\"int32\")) CHANGES ALL WEIGHTS TO 1 \n",
    "    >> AddTags([\"binary_classification\", \"target\"])\n",
    "    >> Rename(name=\"INTERACTION_BINARY\")\n",
    ")\n",
    "\n",
    "item_features = categorical_item_features >> Categorify(dtype = \"int32\") >> TagAsItemFeatures()\n",
    "user_features = categorical_user_features >> Categorify(dtype = \"int32\") >> TagAsUserFeatures()"
   ]
  },
  {
   "cell_type": "code",
   "execution_count": 13,
   "id": "9d3d475a-df44-4291-bbd7-1f534e8d5c34",
   "metadata": {
    "tags": []
   },
   "outputs": [],
   "source": [
    "#Make this more succinct\n",
    "CLICKSTREAM_EVENTS_TOTAL = (\n",
    "    nvt.ColumnSelector(['CLICKSTREAM_EVENTS_TOTAL'])\n",
    "    >>FillMissing(1)\n",
    "    >>LogOp()\n",
    "    >>Normalize()\n",
    "    >>LambdaOp(lambda col: col.astype(\"float32\"))\n",
    "    >>TagAsUserFeatures()\n",
    ")\n",
    "\n",
    "#has the price changed over time?\n",
    "PRICE_INFORMATION = (\n",
    "    ['PRICE_INFORMATION']\n",
    "    >>FillMissing(1)\n",
    "    >>LogOp()\n",
    "    >>Normalize()\n",
    "    >>LambdaOp(lambda col: col.astype(\"float32\"))\n",
    "    >>TagAsItemFeatures()\n",
    ")\n",
    "\n",
    "AVG_REVIEW_SCORE = (\n",
    "    ['AVG_REVIEW_SCORE']\n",
    "    >>Normalize()\n",
    "    >>LambdaOp(lambda col: col**2)\n",
    "    >>TagAsItemFeatures()\n",
    ")\n",
    "\n",
    "INTERACTION_TIMESTAMP = (\n",
    "    nvt.ColumnSelector(['DAYS_SINCE_INTERACTION'])\n",
    "    #>>Normalize()\n",
    "    >>TagAsUserFeatures()\n",
    ")\n",
    "\n",
    "DAYS_SINCE_LAST_VISIT = (\n",
    "    nvt.ColumnSelector(['DAYS_SINCE_LAST_VISIT'])\n",
    "    >>TagAsUserFeatures()\n",
    ")\n"
   ]
  },
  {
   "cell_type": "code",
   "execution_count": 14,
   "id": "690179d7-afc5-4e32-998b-0ce599c38c9b",
   "metadata": {
    "tags": []
   },
   "outputs": [],
   "source": [
    "categorical_features = (categorical_item_features) #Just a place holder... redo with better categories\n",
    "user_cat_features = (user_features)\n",
    "label = nvt.ColumnSelector(['TARGET'])\n",
    "te_features = categorical_features >> TargetEncoding(label)\n",
    "user_feats = user_cat_features >> TargetEncoding(label)\n",
    "te_features_norm = te_features >> Normalize() >> LambdaOp(lambda col: col.astype('float32')) >> TagAsItemFeatures()\n",
    "user_cat_features_norm = user_feats >> Normalize() >> LambdaOp(lambda col: col.astype('float32')) >> TagAsItemFeatures()"
   ]
  },
  {
   "cell_type": "code",
   "execution_count": 17,
   "id": "19e65950-c396-4a0c-be31-65adaaa63418",
   "metadata": {
    "tags": []
   },
   "outputs": [
    {
     "name": "stderr",
     "output_type": "stream",
     "text": [
      "/Users/andrew/anaconda3/lib/python3.11/site-packages/merlin/io/dataset.py:267: UserWarning: Initializing an NVTabular Dataset in CPU mode.This is an experimental feature with extremely limited support!\n",
      "  warnings.warn(\n",
      "/Users/andrew/anaconda3/lib/python3.11/site-packages/merlin/io/parquet.py:343: UserWarning: Row group memory size (1221542784) (bytes) of parquet file is bigger than requested part_size (1073741824) for the NVTabular dataset.A row group memory size of 128 MB is generally recommended. You can find info on how to set the row group size of parquet files in https://nvidia-merlin.github.io/NVTabular/main/resources/troubleshooting.html#setting-the-row-group-size-for-the-parquet-files\n",
      "  warnings.warn(\n",
      "/Users/andrew/anaconda3/lib/python3.11/site-packages/merlin/io/dataset.py:267: UserWarning: Initializing an NVTabular Dataset in CPU mode.This is an experimental feature with extremely limited support!\n",
      "  warnings.warn(\n",
      "/Users/andrew/anaconda3/lib/python3.11/site-packages/merlin/io/dataset.py:267: UserWarning: Initializing an NVTabular Dataset in CPU mode.This is an experimental feature with extremely limited support!\n",
      "  warnings.warn(\n",
      "/Users/andrew/anaconda3/lib/python3.11/site-packages/merlin/io/dataset.py:267: UserWarning: Initializing an NVTabular Dataset in CPU mode.This is an experimental feature with extremely limited support!\n",
      "  warnings.warn(\n",
      "/Users/andrew/anaconda3/lib/python3.11/site-packages/merlin/io/dataset.py:267: UserWarning: Initializing an NVTabular Dataset in CPU mode.This is an experimental feature with extremely limited support!\n",
      "  warnings.warn(\n"
     ]
    }
   ],
   "source": [
    "output = (\n",
    "    user_id + \n",
    "    item_id +\n",
    "    target +\n",
    "    CLICKSTREAM_EVENTS_TOTAL + \n",
    "    te_features_norm +\n",
    "    user_cat_features_norm +\n",
    "    INTERACTION_TIMESTAMP +\n",
    "    DAYS_SINCE_LAST_VISIT + \n",
    "    #PRICE_INFORMATION << THIS CAUSES MODEL TO CRASH AND BURN\n",
    "    AVG_REVIEW_SCORE\n",
    ")\n",
    "\n",
    "workflow_fit_transform(output, 'train.parquet', 'valid.parquet', 'integration') #< What is integration"
   ]
  },
  {
   "cell_type": "code",
   "execution_count": 18,
   "id": "5261238e-74f6-42ab-b059-62ff5cd24f25",
   "metadata": {
    "tags": []
   },
   "outputs": [
    {
     "name": "stderr",
     "output_type": "stream",
     "text": [
      "/Users/andrew/anaconda3/lib/python3.11/site-packages/merlin/io/dataset.py:267: UserWarning: Initializing an NVTabular Dataset in CPU mode.This is an experimental feature with extremely limited support!\n",
      "  warnings.warn(\n",
      "/Users/andrew/anaconda3/lib/python3.11/site-packages/merlin/io/dataset.py:267: UserWarning: Initializing an NVTabular Dataset in CPU mode.This is an experimental feature with extremely limited support!\n",
      "  warnings.warn(\n"
     ]
    }
   ],
   "source": [
    "train = merlin.io.Dataset(\n",
    "    os.path.join(\"integration\", \"train\"), engine=\"parquet\"\n",
    ")\n",
    "valid = merlin.io.Dataset(\n",
    "    os.path.join(\"integration\", \"valid\"), engine=\"parquet\"\n",
    ")"
   ]
  },
  {
   "cell_type": "code",
   "execution_count": 19,
   "id": "c8bf22a2-9d99-4286-9ebf-5b37180417cc",
   "metadata": {
    "tags": []
   },
   "outputs": [
    {
     "data": {
      "text/html": [
       "<div>\n",
       "<style scoped>\n",
       "    .dataframe tbody tr th:only-of-type {\n",
       "        vertical-align: middle;\n",
       "    }\n",
       "\n",
       "    .dataframe tbody tr th {\n",
       "        vertical-align: top;\n",
       "    }\n",
       "\n",
       "    .dataframe thead th {\n",
       "        text-align: right;\n",
       "    }\n",
       "</style>\n",
       "<table border=\"1\" class=\"dataframe\">\n",
       "  <thead>\n",
       "    <tr style=\"text-align: right;\">\n",
       "      <th></th>\n",
       "      <th>USER_ID</th>\n",
       "      <th>ITEM_ID</th>\n",
       "      <th>INTERACTION_BINARY</th>\n",
       "      <th>CLICKSTREAM_EVENTS_TOTAL</th>\n",
       "      <th>TE_STYLE_TARGET</th>\n",
       "      <th>TE_TAXONOMY_STYLE_TARGET</th>\n",
       "      <th>TE_COLOR_NAME_TARGET</th>\n",
       "      <th>TE_PRODUCT_CLASS_TARGET</th>\n",
       "      <th>TE_PRODUCT_SUBCLASS_TARGET</th>\n",
       "      <th>TE_TEAM_TARGET</th>\n",
       "      <th>TE_FRANCHISE_TARGET</th>\n",
       "      <th>TE_PRODUCT_GROUP_TARGET</th>\n",
       "      <th>TE_COUNTRY_TARGET</th>\n",
       "      <th>DAYS_SINCE_INTERACTION</th>\n",
       "      <th>DAYS_SINCE_LAST_VISIT</th>\n",
       "      <th>AVG_REVIEW_SCORE</th>\n",
       "    </tr>\n",
       "  </thead>\n",
       "  <tbody>\n",
       "    <tr>\n",
       "      <th>0</th>\n",
       "      <td>2069</td>\n",
       "      <td>122</td>\n",
       "      <td>1</td>\n",
       "      <td>1.678920</td>\n",
       "      <td>-1.324404</td>\n",
       "      <td>-1.342199</td>\n",
       "      <td>-0.682520</td>\n",
       "      <td>-0.393555</td>\n",
       "      <td>-0.154394</td>\n",
       "      <td>-0.733034</td>\n",
       "      <td>-1.595277</td>\n",
       "      <td>-0.223436</td>\n",
       "      <td>0.034984</td>\n",
       "      <td>0.079396</td>\n",
       "      <td>21</td>\n",
       "      <td>9.789203</td>\n",
       "    </tr>\n",
       "    <tr>\n",
       "      <th>1</th>\n",
       "      <td>352</td>\n",
       "      <td>16</td>\n",
       "      <td>1</td>\n",
       "      <td>0.719323</td>\n",
       "      <td>-0.277669</td>\n",
       "      <td>-0.284268</td>\n",
       "      <td>-0.479818</td>\n",
       "      <td>-0.402895</td>\n",
       "      <td>-0.934514</td>\n",
       "      <td>-0.753366</td>\n",
       "      <td>-0.339396</td>\n",
       "      <td>-0.222665</td>\n",
       "      <td>-0.040226</td>\n",
       "      <td>0.670323</td>\n",
       "      <td>35</td>\n",
       "      <td>0.887694</td>\n",
       "    </tr>\n",
       "    <tr>\n",
       "      <th>2</th>\n",
       "      <td>36980</td>\n",
       "      <td>3</td>\n",
       "      <td>1</td>\n",
       "      <td>-0.955922</td>\n",
       "      <td>1.460429</td>\n",
       "      <td>1.082944</td>\n",
       "      <td>0.168546</td>\n",
       "      <td>-0.393555</td>\n",
       "      <td>-0.154394</td>\n",
       "      <td>0.223563</td>\n",
       "      <td>0.082857</td>\n",
       "      <td>-0.223436</td>\n",
       "      <td>0.034984</td>\n",
       "      <td>0.201900</td>\n",
       "      <td>136</td>\n",
       "      <td>0.556363</td>\n",
       "    </tr>\n",
       "    <tr>\n",
       "      <th>3</th>\n",
       "      <td>42093</td>\n",
       "      <td>21</td>\n",
       "      <td>1</td>\n",
       "      <td>-0.451851</td>\n",
       "      <td>-0.809410</td>\n",
       "      <td>-0.863513</td>\n",
       "      <td>-0.489251</td>\n",
       "      <td>-0.393555</td>\n",
       "      <td>-0.955509</td>\n",
       "      <td>-0.733034</td>\n",
       "      <td>-0.876494</td>\n",
       "      <td>-1.062638</td>\n",
       "      <td>0.034984</td>\n",
       "      <td>0.230697</td>\n",
       "      <td>37</td>\n",
       "      <td>0.232957</td>\n",
       "    </tr>\n",
       "    <tr>\n",
       "      <th>4</th>\n",
       "      <td>94</td>\n",
       "      <td>105</td>\n",
       "      <td>0</td>\n",
       "      <td>-0.367263</td>\n",
       "      <td>1.466108</td>\n",
       "      <td>1.502505</td>\n",
       "      <td>0.998470</td>\n",
       "      <td>2.153186</td>\n",
       "      <td>2.951925</td>\n",
       "      <td>2.248723</td>\n",
       "      <td>2.868370</td>\n",
       "      <td>2.334788</td>\n",
       "      <td>-0.040226</td>\n",
       "      <td>0.080283</td>\n",
       "      <td>226</td>\n",
       "      <td>0.298541</td>\n",
       "    </tr>\n",
       "  </tbody>\n",
       "</table>\n",
       "</div>"
      ],
      "text/plain": [
       "   USER_ID  ITEM_ID  INTERACTION_BINARY  CLICKSTREAM_EVENTS_TOTAL  \\\n",
       "0     2069      122                   1                  1.678920   \n",
       "1      352       16                   1                  0.719323   \n",
       "2    36980        3                   1                 -0.955922   \n",
       "3    42093       21                   1                 -0.451851   \n",
       "4       94      105                   0                 -0.367263   \n",
       "\n",
       "   TE_STYLE_TARGET  TE_TAXONOMY_STYLE_TARGET  TE_COLOR_NAME_TARGET  \\\n",
       "0        -1.324404                 -1.342199             -0.682520   \n",
       "1        -0.277669                 -0.284268             -0.479818   \n",
       "2         1.460429                  1.082944              0.168546   \n",
       "3        -0.809410                 -0.863513             -0.489251   \n",
       "4         1.466108                  1.502505              0.998470   \n",
       "\n",
       "   TE_PRODUCT_CLASS_TARGET  TE_PRODUCT_SUBCLASS_TARGET  TE_TEAM_TARGET  \\\n",
       "0                -0.393555                   -0.154394       -0.733034   \n",
       "1                -0.402895                   -0.934514       -0.753366   \n",
       "2                -0.393555                   -0.154394        0.223563   \n",
       "3                -0.393555                   -0.955509       -0.733034   \n",
       "4                 2.153186                    2.951925        2.248723   \n",
       "\n",
       "   TE_FRANCHISE_TARGET  TE_PRODUCT_GROUP_TARGET  TE_COUNTRY_TARGET  \\\n",
       "0            -1.595277                -0.223436           0.034984   \n",
       "1            -0.339396                -0.222665          -0.040226   \n",
       "2             0.082857                -0.223436           0.034984   \n",
       "3            -0.876494                -1.062638           0.034984   \n",
       "4             2.868370                 2.334788          -0.040226   \n",
       "\n",
       "   DAYS_SINCE_INTERACTION  DAYS_SINCE_LAST_VISIT  AVG_REVIEW_SCORE  \n",
       "0                0.079396                     21          9.789203  \n",
       "1                0.670323                     35          0.887694  \n",
       "2                0.201900                    136          0.556363  \n",
       "3                0.230697                     37          0.232957  \n",
       "4                0.080283                    226          0.298541  "
      ]
     },
     "execution_count": 19,
     "metadata": {},
     "output_type": "execute_result"
    }
   ],
   "source": [
    "valid.head()"
   ]
  },
  {
   "cell_type": "markdown",
   "id": "f8bcd359-0fbc-4ac2-b660-23d57e375134",
   "metadata": {},
   "source": [
    "## Model"
   ]
  },
  {
   "cell_type": "code",
   "execution_count": 20,
   "id": "7a04711c-f753-44ee-bb7b-8ec0c677805c",
   "metadata": {
    "tags": []
   },
   "outputs": [],
   "source": [
    "import tensorflow as tf\n",
    "model = mm.benchmark.NCFModel(\n",
    "    train.schema,\n",
    "    embedding_dim=64,\n",
    "    mlp_block=mm.MLPBlock([128, 64]),\n",
    "    prediction_tasks=mm.BinaryOutput(train.schema.select_by_tag(Tags.TARGET).column_names[0]),\n",
    ")"
   ]
  },
  {
   "cell_type": "code",
   "execution_count": 21,
   "id": "930c51fe-1b79-4b45-b5a3-fca24de8a0ad",
   "metadata": {
    "tags": []
   },
   "outputs": [],
   "source": [
    "def my_loss_fn(y_true, y_pred):\n",
    "    return tf.math.reduce_mean(tf.square(y_true - y_pred), axis=-1)\n",
    "#CAN I GET SOME TROUBLESHOOTING FOR CUSTOM LOSS TO PENALIZE FN MORE THAN FP"
   ]
  },
  {
   "cell_type": "code",
   "execution_count": 23,
   "id": "1e5abead-b598-451f-bd9f-8d80a61e89e1",
   "metadata": {
    "tags": []
   },
   "outputs": [
    {
     "name": "stdout",
     "output_type": "stream",
     "text": [
      "822/822 [==============================] - 28s 34ms/step - loss: 0.1335 - recall: 1.0000 - precision: 0.8407 - regularization_loss: 0.0000e+00 - loss_batch: 0.1335 - val_loss: 0.1330 - val_recall: 1.0000 - val_precision: 0.8411 - val_regularization_loss: 0.0000e+00 - val_loss_batch: 0.1340\n",
      "405/405 [==============================] - 7s 17ms/step - loss: 0.1330 - recall: 1.0000 - precision: 0.8411 - regularization_loss: 0.0000e+00 - loss_batch: 0.1330\n"
     ]
    }
   ],
   "source": [
    "\n",
    "recall = []\n",
    "precision = []\n",
    "\n",
    "#for i in np.arange(0.001, .04, .005):\n",
    "\n",
    "loss=tf.keras.losses.BinaryFocalCrossentropy(gamma=1.0)\n",
    "model.compile(optimizer=keras.optimizers.Adagrad(learning_rate = .0175), loss = 'mean_squared_error', run_eagerly=True, metrics=[tf.keras.metrics.Recall(name=\"recall\"), tf.keras.metrics.Precision(name='precision')]);\n",
    "model.fit(train, validation_data=valid, batch_size=1024, epochs = 1); #Less epochs, more accurate valid... less accurate train\n",
    "x = model.evaluate(valid, batch_size = 1024, return_dict = True)\n",
    "recall.append(x['recall'])\n",
    "precision.append(x['precision'])"
   ]
  },
  {
   "cell_type": "code",
   "execution_count": 28,
   "id": "daa805bc-465a-4133-a55d-c0948c75169d",
   "metadata": {
    "tags": []
   },
   "outputs": [],
   "source": [
    "preds = model.predict(train, batch_size = 1024)"
   ]
  },
  {
   "cell_type": "code",
   "execution_count": 31,
   "id": "65abedde-254e-4960-b288-3b3f5d8065d9",
   "metadata": {
    "tags": []
   },
   "outputs": [
    {
     "data": {
      "text/plain": [
       "(array([1.51000e+02, 4.47400e+03, 2.80360e+04, 7.17820e+04, 1.63040e+05,\n",
       "        2.68525e+05, 2.10751e+05, 7.74850e+04, 1.58230e+04, 9.84000e+02]),\n",
       " array([0.79621655, 0.80411029, 0.81200403, 0.81989771, 0.82779145,\n",
       "        0.83568519, 0.84357893, 0.85147268, 0.85936636, 0.8672601 ,\n",
       "        0.87515384]),\n",
       " <BarContainer object of 10 artists>)"
      ]
     },
     "execution_count": 31,
     "metadata": {},
     "output_type": "execute_result"
    },
    {
     "data": {
      "image/png": "[encoded data removed]",
      "text/plain": [
       "<Figure size 640x480 with 1 Axes>"
      ]
     },
     "metadata": {},
     "output_type": "display_data"
    }
   ],
   "source": [
    "plt.hist(preds)"
   ]
  },
  {
   "cell_type": "code",
   "execution_count": 49,
   "id": "e9b68e57-3105-4800-a6e7-723854784464",
   "metadata": {
    "tags": []
   },
   "outputs": [
    {
     "data": {
      "image/png": "[encoded data removed]",
      "text/plain": [
       "<Figure size 640x480 with 1 Axes>"
      ]
     },
     "metadata": {},
     "output_type": "display_data"
    }
   ],
   "source": [
    "a_b = list(set(recall) - set(precision))\n",
    "plt.plot(np.arange(0.001, .04, .005), recall)\n",
    "plt.plot(np.arange(0.001, .04, .005), precision)\n",
    "#plt.plot(np.arange(0.001, .04, .005), a_b)\n",
    "plt.show()"
   ]
  },
  {
   "cell_type": "code",
   "execution_count": 26,
   "id": "90be2dae-3fd6-4672-ba96-48aa37a071e6",
   "metadata": {
    "tags": []
   },
   "outputs": [],
   "source": [
    "# I Have 2 evals to compare when I make changes."
   ]
  },
  {
   "cell_type": "code",
   "execution_count": 29,
   "id": "df036392-40b6-4929-8bda-7262dd42ff72",
   "metadata": {
    "tags": []
   },
   "outputs": [
    {
     "name": "stdout",
     "output_type": "stream",
     "text": [
      "405/405 [==============================] - 6s 14ms/step - loss: 0.1263 - recall: 1.0000 - precision: 0.8403 - regularization_loss: 0.0000e+00 - loss_batch: 0.1263\n"
     ]
    },
    {
     "data": {
      "text/plain": [
       "{'loss': 0.12626507878303528,\n",
       " 'recall': 1.0,\n",
       " 'precision': 0.8403400182723999,\n",
       " 'regularization_loss': 0.0,\n",
       " 'loss_batch': 0.12909968197345734}"
      ]
     },
     "execution_count": 29,
     "metadata": {},
     "output_type": "execute_result"
    }
   ],
   "source": [
    "model.evaluate(valid, batch_size = 1024, return_dict = True)"
   ]
  },
  {
   "cell_type": "code",
   "execution_count": 31,
   "id": "b261d9e5-55bf-43ac-bdd1-ee9c1d9d5283",
   "metadata": {
    "tags": []
   },
   "outputs": [
    {
     "name": "stdout",
     "output_type": "stream",
     "text": [
      "405/405 [==============================] - 6s 15ms/step - loss: 0.1239 - recall: 0.9964 - precision: 0.8423 - regularization_loss: 0.0000e+00 - loss_batch: 0.1239\n"
     ]
    },
    {
     "data": {
      "text/plain": [
       "{'loss': 0.12388665974140167,\n",
       " 'recall': 0.9963948130607605,\n",
       " 'precision': 0.8422735929489136,\n",
       " 'regularization_loss': 0.0,\n",
       " 'loss_batch': 0.12724202871322632}"
      ]
     },
     "execution_count": 31,
     "metadata": {},
     "output_type": "execute_result"
    }
   ],
   "source": [
    "model.evaluate(valid, batch_size = 1024, return_dict = True)"
   ]
  },
  {
   "cell_type": "markdown",
   "id": "1e5a4afd-1d11-4390-809f-107476ec31e7",
   "metadata": {},
   "source": [
    "# Model"
   ]
  },
  {
   "cell_type": "code",
   "execution_count": 32,
   "id": "d79976dd-8cb2-4a09-adcc-33f36e19a9d8",
   "metadata": {},
   "outputs": [
    {
     "name": "stdout",
     "output_type": "stream",
     "text": [
      "822/822 [==============================] - 15s 15ms/step - loss: 0.1809 - precision: 0.8721 - recall: 0.9702 - binary_accuracy: 0.8553 - auc: 0.7978 - regularization_loss: 0.0000e+00 - loss_batch: 0.1809\n",
      "405/405 [==============================] - 1s 2ms/step - loss: 0.1579 - precision: 0.8775 - recall: 0.9714 - binary_accuracy: 0.8619 - auc: 0.8522 - regularization_loss: 0.0000e+00 - loss_batch: 0.1579\n"
     ]
    }
   ],
   "source": [
    "model_fb = mm.DLRMModel(\n",
    "    train.schema,\n",
    "    embedding_dim = 64,\n",
    "    top_block = mm.MLPBlock([128, 64, 32]),\n",
    "    bottom_block = mm.MLPBlock([128, 64]),\n",
    ")\n",
    "\n",
    "recall = []\n",
    "precision = []\n",
    "\n",
    "\n",
    "model_fb.compile(optimizer = keras.optimizers.Adam(learning_rate = .0325), loss = loss)\n",
    "model_fb.fit(train, batch_size = 1024, epochs = 1) #Less epochs, more accurate valid... less accurate train\n",
    "model_fb.evaluate(valid, batch_size = 1024, return_dict = True)\n",
    "preds_2 = model_fb.predict(valid, batch_size = 1024)"
   ]
  },
  {
   "cell_type": "code",
   "execution_count": 33,
   "id": "b489641c-51b4-4a33-8717-f7e09dcbc7df",
   "metadata": {
    "tags": []
   },
   "outputs": [
    {
     "data": {
      "text/plain": [
       "(array([   299.,   1081.,   3738.,  11480.,  40035.,  43871.,   9537.,\n",
       "         15599.,  31519., 257090.]),\n",
       " array([0.19558336, 0.26407343, 0.33256352, 0.40105361, 0.4695437 ,\n",
       "        0.53803378, 0.60652387, 0.6750139 , 0.74350399, 0.81199408,\n",
       "        0.88048416]),\n",
       " <BarContainer object of 10 artists>)"
      ]
     },
     "execution_count": 33,
     "metadata": {},
     "output_type": "execute_result"
    },
    {
     "data": {
      "image/png": "[encoded data removed]",
      "text/plain": [
       "<Figure size 640x480 with 1 Axes>"
      ]
     },
     "metadata": {},
     "output_type": "display_data"
    }
   ],
   "source": [
    "plt.hist(preds_2)"
   ]
  },
  {
   "cell_type": "code",
   "execution_count": 43,
   "id": "17c95a55-51de-47e2-96c7-0599ffa11191",
   "metadata": {
    "tags": []
   },
   "outputs": [],
   "source": [
    "a_b = list(set(recall) - set(precision))"
   ]
  },
  {
   "cell_type": "code",
   "execution_count": 44,
   "id": "59dcf0ee-bc04-4021-9763-0709f9327671",
   "metadata": {
    "tags": []
   },
   "outputs": [
    {
     "data": {
      "image/png": "[encoded data removed]",
      "text/plain": [
       "<Figure size 640x480 with 1 Axes>"
      ]
     },
     "metadata": {},
     "output_type": "display_data"
    }
   ],
   "source": [
    "plt.plot(np.arange(0.001, .04, .005), recall)\n",
    "plt.plot(np.arange(0.001, .04, .005), precision)\n",
    "plt.plot(np.arange(0.001, .04, .005), a_b)\n",
    "plt.show()"
   ]
  },
  {
   "cell_type": "code",
   "execution_count": 33,
   "id": "b829f387-23e1-46d1-a463-3e6ebbfadc74",
   "metadata": {
    "tags": []
   },
   "outputs": [
    {
     "name": "stdout",
     "output_type": "stream",
     "text": [
      "405/405 [==============================] - 1s 1ms/step - loss: 0.1505 - precision: 0.8994 - recall: 0.9495 - binary_accuracy: 0.8683 - auc: 0.8764 - regularization_loss: 0.0000e+00 - loss_batch: 0.1506\n"
     ]
    },
    {
     "data": {
      "text/plain": [
       "{'loss': 0.15051497519016266,\n",
       " 'precision': 0.8994086980819702,\n",
       " 'recall': 0.9495245814323425,\n",
       " 'binary_accuracy': 0.8683424592018127,\n",
       " 'auc': 0.8764262795448303,\n",
       " 'regularization_loss': 0.0,\n",
       " 'loss_batch': 0.16047993302345276}"
      ]
     },
     "execution_count": 33,
     "metadata": {},
     "output_type": "execute_result"
    }
   ],
   "source": [
    "model_fb.evaluate(valid, batch_size = 1024, return_dict = True)"
   ]
  },
  {
   "cell_type": "code",
   "execution_count": 343,
   "id": "d96dea76-8815-4983-aaf4-fd0489754d6e",
   "metadata": {},
   "outputs": [
    {
     "name": "stdout",
     "output_type": "stream",
     "text": [
      "405/405 [==============================] - 1s 1ms/step - loss: 0.0932 - precision: 0.8993 - recall: 0.9516 - binary_accuracy: 0.8697 - auc: 0.8636 - regularization_loss: 0.0000e+00 - loss_batch: 0.0932\n"
     ]
    },
    {
     "data": {
      "text/plain": [
       "{'loss': 0.09322012215852737,\n",
       " 'precision': 0.8992798924446106,\n",
       " 'recall': 0.9515860676765442,\n",
       " 'binary_accuracy': 0.8696870803833008,\n",
       " 'auc': 0.8636137843132019,\n",
       " 'regularization_loss': 0.0,\n",
       " 'loss_batch': 0.09437882155179977}"
      ]
     },
     "execution_count": 343,
     "metadata": {},
     "output_type": "execute_result"
    }
   ],
   "source": [
    "model_fb.evaluate(valid, batch_size = 1024, return_dict = True)"
   ]
  },
  {
   "cell_type": "code",
   "execution_count": null,
   "id": "16f8575f-382e-4eb7-8d6f-27db5d376964",
   "metadata": {},
   "outputs": [],
   "source": []
  }
 ],
 "metadata": {
  "kernelspec": {
   "display_name": "Python 3 (ipykernel)",
   "language": "python",
   "name": "python3"
  },
  "language_info": {
   "codemirror_mode": {
    "name": "ipython",
    "version": 3
   },
   "file_extension": ".py",
   "mimetype": "text/x-python",
   "name": "python",
   "nbconvert_exporter": "python",
   "pygments_lexer": "ipython3",
   "version": "3.11.4"
  }
 },
 "nbformat": 4,
 "nbformat_minor": 5
}
