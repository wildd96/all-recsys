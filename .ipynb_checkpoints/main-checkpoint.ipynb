{
 "cells": [
  {
   "cell_type": "code",
   "execution_count": 263,
   "id": "a6164808-2b20-4d30-8f2a-3922335e7519",
   "metadata": {
    "tags": []
   },
   "outputs": [],
   "source": [
    "#This is a starting point\n",
    "#uncomment below to install merlin library\n",
    "#!pip install merlin, nvtabular, merlin.models\n",
    "#I had to downgrade keras to 12.2.0 there maybe issues regarding tensorflow in the future\n",
    "#run lines below if you have also have an error ab not finding a keras package\n",
    "\n",
    "#!pip uninstall keras\n",
    "#!pip install keras==2.12.0\n",
    "\n",
    "\n",
    "#These are the same imports from\n",
    "#https://github.com/NVIDIA-Merlin/models/blob/main/examples/02-Merlin-Models-and-NVTabular-integration.ipynb\n",
    "\n",
    "import os\n",
    "import pandas as pd\n",
    "import numpy as np\n",
    "import nvtabular as nvt\n",
    "import matplotlib.pyplot as plt\n",
    "\n",
    "from sklearn.model_selection import train_test_split\n",
    "\n",
    "from merlin.models.utils.example_utils import workflow_fit_transform\n",
    "import merlin.io\n",
    "import tensorflow as tf\n",
    "\n",
    "import merlin.models.tf as mm\n",
    "from merlin.io.dataset import Dataset\n",
    "from nvtabular.ops import *\n",
    "from merlin.core.utils import download_file\n",
    "from merlin.schema.tags import Tags"
   ]
  },
  {
   "cell_type": "markdown",
   "id": "fed8d8ae-f403-4689-89fc-076f17da0266",
   "metadata": {},
   "source": [
    "### To-do"
   ]
  },
  {
   "cell_type": "markdown",
   "id": "769d4f8b-6d21-415a-bff4-df59e11ac481",
   "metadata": {},
   "source": [
    "1. EDA\n",
    "2. Transform timestamps\n",
    "3. Find out why certain things are crashing the model"
   ]
  },
  {
   "cell_type": "markdown",
   "id": "a340cdef-e86d-43fe-ac78-a6ff62a25aed",
   "metadata": {},
   "source": [
    "# Load and split"
   ]
  },
  {
   "cell_type": "code",
   "execution_count": 103,
   "id": "95493f8f-f037-4bc2-b737-3e3cb0c14967",
   "metadata": {
    "tags": []
   },
   "outputs": [],
   "source": [
    "df = pd.read_csv('/Users/andrew/Desktop/projects/recsys_data/2023-10-05 9_23pm.csv').dropna()\n",
    "df = df.drop(columns = ['CLICKSTREAM_EVENTS_TOTAL.1'])\n",
    "#  ^ This needs point to your local .csv too big for github"
   ]
  },
  {
   "cell_type": "code",
   "execution_count": 104,
   "id": "032fb1a0-26b4-42c1-a348-b103f9d80e5e",
   "metadata": {},
   "outputs": [],
   "source": [
    "#accidentally added an extra CLICKSTREAM_EVENTS_TOTAL column\n",
    "df['TARGET'] = 0\n",
    "df.loc[df['EVENT_NAME'] == 'order', 'TARGET'] = 1"
   ]
  },
  {
   "cell_type": "code",
   "execution_count": 105,
   "id": "96820674-e0a6-457d-a913-483194735589",
   "metadata": {
    "tags": []
   },
   "outputs": [
    {
     "data": {
      "text/plain": [
       "0.03777583047877001"
      ]
     },
     "execution_count": 105,
     "metadata": {},
     "output_type": "execute_result"
    }
   ],
   "source": [
    "df['TARGET'].sum()/len(df['TARGET'])"
   ]
  },
  {
   "cell_type": "code",
   "execution_count": 197,
   "id": "6dd79ec9-f741-4e0d-a46e-123e36c4f68c",
   "metadata": {
    "tags": []
   },
   "outputs": [],
   "source": [
    "#num rows\n",
    "data_size = df.shape[0]\n",
    "\n",
    "train_split_ratio = int(.33 * data_size)\n",
    "\n",
    "df = df.sample(frac = 1)\n",
    "\n",
    "train = df[:-train_split_ratio].to_parquet(\"train.parquet\")\n",
    "valid = df[-train_split_ratio:].to_parquet(\"valid.parquet\")"
   ]
  },
  {
   "cell_type": "markdown",
   "id": "7b424279-225c-4eef-b583-0427bc954c57",
   "metadata": {},
   "source": [
    "# EDA"
   ]
  },
  {
   "cell_type": "code",
   "execution_count": null,
   "id": "770badc5-5a3d-4282-a455-fef1eff25209",
   "metadata": {
    "tags": []
   },
   "outputs": [],
   "source": []
  },
  {
   "cell_type": "code",
   "execution_count": null,
   "id": "74fc862f-90f9-4db2-858b-bc4e93925ab2",
   "metadata": {},
   "outputs": [],
   "source": []
  },
  {
   "cell_type": "markdown",
   "id": "da5efa1f-91e7-4c32-a882-6bbe6fe26555",
   "metadata": {},
   "source": [
    "# NVTabular"
   ]
  },
  {
   "cell_type": "code",
   "execution_count": 198,
   "id": "5f247a55-cbdd-4cce-8b47-7e939e0984e9",
   "metadata": {},
   "outputs": [],
   "source": [
    "#This is how to iniate a dataset using NVtabular an NVIDIA \n",
    "#optimized ETL/feature engineering(i think?) library\n",
    "#data = nvt.io.dataset.Dataset('data/reviews.csv')"
   ]
  },
  {
   "cell_type": "code",
   "execution_count": 199,
   "id": "c65d68b7-27c7-436e-9d49-58c91cc067fe",
   "metadata": {
    "tags": []
   },
   "outputs": [],
   "source": [
    "# df.columns"
   ]
  },
  {
   "cell_type": "code",
   "execution_count": 200,
   "id": "7d3c6c8f-282a-489f-8e5c-51411edc1435",
   "metadata": {
    "tags": []
   },
   "outputs": [],
   "source": [
    "categorical_user_features = ['COUNTRY', 'DERIVED_GENDER_BY_NAME']\n",
    "categorical_item_features = ['STYLE', 'TAXONOMY_STYLE', 'COLOR_NAME', 'PRODUCT_CLASS', 'PRODUCT_SUBCLASS', 'TEAM', 'FRANCHISE', 'PRODUCT_GROUP']"
   ]
  },
  {
   "cell_type": "code",
   "execution_count": 201,
   "id": "f941f6d0-41be-4177-aac5-a884aa7bb630",
   "metadata": {
    "tags": []
   },
   "outputs": [],
   "source": [
    "#Features needed to Transform still: FIRST_PURCHASE_AT, FIRST_VISIT_AT, LATEST_VISIT_AT\n",
    "# LATEST_PURCHASE_AT, EVENT_TIMESTAMP"
   ]
  },
  {
   "cell_type": "code",
   "execution_count": 202,
   "id": "c397eb73-c1bc-4e1b-838c-d72a85c2adb1",
   "metadata": {
    "tags": []
   },
   "outputs": [],
   "source": [
    "#DON'T FORGET TARGET ENCODING CATEGORICAL VALUES"
   ]
  },
  {
   "cell_type": "code",
   "execution_count": 203,
   "id": "74895def-f932-4e9c-b1f8-0d78da2b7571",
   "metadata": {
    "tags": []
   },
   "outputs": [],
   "source": [
    "user_id = [\"USER_ID\"] >> Categorify(dtype = \"int32\", out_path='categories') >> TagAsUserID()\n",
    "item_id = [\"ITEM_ID\"] >> Categorify(dtype = \"int32\", out_path='categories') >> TagAsItemID()\n",
    "target = (\n",
    "    nvt.ColumnSelector([\"TARGET\"])\n",
    "    >> LambdaOp(lambda col: (col > 0).astype(\"int32\"))\n",
    "    >> AddTags([\"binary_classification\", \"target\"])\n",
    "    >> Rename(name=\"INTERACTION_BINARY\")\n",
    ")\n",
    "item_features = categorical_item_features >> Categorify(dtype = \"int32\") >> TagAsItemFeatures()\n",
    "user_features = categorical_user_features >> Categorify(dtype = \"int32\") >> TagAsUserFeatures()"
   ]
  },
  {
   "cell_type": "code",
   "execution_count": 204,
   "id": "9d3d475a-df44-4291-bbd7-1f534e8d5c34",
   "metadata": {
    "tags": []
   },
   "outputs": [],
   "source": [
    "#Make this more succinct\n",
    "CLICKSTREAM_EVENTS_TOTAL = (\n",
    "    nvt.ColumnSelector(['CLICKSTREAM_EVENTS_TOTAL'])\n",
    "    >>FillMissing(1)\n",
    "    >>LogOp()\n",
    "    >>Normalize()\n",
    "    >>LambdaOp(lambda col: col.astype(\"float32\"))\n",
    "    >>TagAsUserFeatures()\n",
    ")\n",
    "\n",
    "#has the price changed over time?\n",
    "PRICE_INFORMATION = (\n",
    "    ['PRICE_INFORMATION']\n",
    "    >>FillMissing(1)\n",
    "    >>LogOp()\n",
    "    >>Normalize()\n",
    "    >>LambdaOp(lambda col: col.astype(\"float32\"))\n",
    "    >>TagAsItemFeatures()\n",
    ")\n",
    "\n",
    "AVG_REVIEW_SCORE = (\n",
    "    ['AVG_REVIEW_SCORE']\n",
    "    >>FillMissing(1)\n",
    "    >>LogOp()\n",
    "    >>Normalize()\n",
    "    >>LambdaOp(lambda col: col.astype(\"float32\"))\n",
    "    >>TagAsItemFeatures()\n",
    ")"
   ]
  },
  {
   "cell_type": "code",
   "execution_count": 205,
   "id": "690179d7-afc5-4e32-998b-0ce599c38c9b",
   "metadata": {
    "tags": []
   },
   "outputs": [],
   "source": [
    "categorical_features = (categorical_item_features) #Just a place holder... redo with better categories\n",
    "label = nvt.ColumnSelector(['TARGET'])\n",
    "te_features = categorical_features >> TargetEncoding(label)\n",
    "te_features_norm = te_features >> Normalize() >> LambdaOp(lambda col: col.astype('float32')) >> TagAsItemFeatures()"
   ]
  },
  {
   "cell_type": "code",
   "execution_count": null,
   "id": "61b9e12c-51c9-454e-b0e9-94d27449f741",
   "metadata": {
    "tags": []
   },
   "outputs": [],
   "source": []
  },
  {
   "cell_type": "code",
   "execution_count": 256,
   "id": "19e65950-c396-4a0c-be31-65adaaa63418",
   "metadata": {
    "tags": []
   },
   "outputs": [
    {
     "name": "stderr",
     "output_type": "stream",
     "text": [
      "/Users/andrew/anaconda3/lib/python3.11/site-packages/merlin/io/dataset.py:267: UserWarning: Initializing an NVTabular Dataset in CPU mode.This is an experimental feature with extremely limited support!\n",
      "  warnings.warn(\n",
      "/Users/andrew/anaconda3/lib/python3.11/site-packages/merlin/io/parquet.py:343: UserWarning: Row group memory size (1167707472) (bytes) of parquet file is bigger than requested part_size (1073741824) for the NVTabular dataset.A row group memory size of 128 MB is generally recommended. You can find info on how to set the row group size of parquet files in https://nvidia-merlin.github.io/NVTabular/main/resources/troubleshooting.html#setting-the-row-group-size-for-the-parquet-files\n",
      "  warnings.warn(\n",
      "/Users/andrew/anaconda3/lib/python3.11/site-packages/merlin/io/dataset.py:267: UserWarning: Initializing an NVTabular Dataset in CPU mode.This is an experimental feature with extremely limited support!\n",
      "  warnings.warn(\n",
      "/Users/andrew/anaconda3/lib/python3.11/site-packages/merlin/io/dataset.py:267: UserWarning: Initializing an NVTabular Dataset in CPU mode.This is an experimental feature with extremely limited support!\n",
      "  warnings.warn(\n",
      "/Users/andrew/anaconda3/lib/python3.11/site-packages/merlin/io/dataset.py:267: UserWarning: Initializing an NVTabular Dataset in CPU mode.This is an experimental feature with extremely limited support!\n",
      "  warnings.warn(\n",
      "/Users/andrew/anaconda3/lib/python3.11/site-packages/merlin/io/dataset.py:267: UserWarning: Initializing an NVTabular Dataset in CPU mode.This is an experimental feature with extremely limited support!\n",
      "  warnings.warn(\n"
     ]
    }
   ],
   "source": [
    "output = (\n",
    "    user_id + \n",
    "    item_id +\n",
    "    target  +\n",
    "    CLICKSTREAM_EVENTS_TOTAL + \n",
    "    te_features_norm +\n",
    "    #PRICE_INFORMATION << THIS CAUSES MODEL TO CRASH AND BURN\n",
    "    AVG_REVIEW_SCORE\n",
    ")\n",
    "\n",
    "workflow_fit_transform(output, 'train.parquet', 'valid.parquet', 'integration')"
   ]
  },
  {
   "cell_type": "code",
   "execution_count": 257,
   "id": "5261238e-74f6-42ab-b059-62ff5cd24f25",
   "metadata": {
    "tags": []
   },
   "outputs": [
    {
     "name": "stdout",
     "output_type": "stream",
     "text": [
      "CPU times: user 87.3 ms, sys: 50.5 ms, total: 138 ms\n",
      "Wall time: 61.2 ms\n"
     ]
    },
    {
     "name": "stderr",
     "output_type": "stream",
     "text": [
      "/Users/andrew/anaconda3/lib/python3.11/site-packages/merlin/io/dataset.py:267: UserWarning: Initializing an NVTabular Dataset in CPU mode.This is an experimental feature with extremely limited support!\n",
      "  warnings.warn(\n",
      "/Users/andrew/anaconda3/lib/python3.11/site-packages/merlin/io/dataset.py:267: UserWarning: Initializing an NVTabular Dataset in CPU mode.This is an experimental feature with extremely limited support!\n",
      "  warnings.warn(\n"
     ]
    }
   ],
   "source": [
    "%%time\n",
    "\n",
    "train = merlin.io.Dataset(\n",
    "    os.path.join(\"integration\", \"train\"), engine=\"parquet\"\n",
    ")\n",
    "valid = merlin.io.Dataset(\n",
    "    os.path.join(\"integration\", \"valid\"), engine=\"parquet\"\n",
    ")"
   ]
  },
  {
   "cell_type": "code",
   "execution_count": 258,
   "id": "c8bf22a2-9d99-4286-9ebf-5b37180417cc",
   "metadata": {
    "tags": []
   },
   "outputs": [
    {
     "data": {
      "text/html": [
       "<div>\n",
       "<style scoped>\n",
       "    .dataframe tbody tr th:only-of-type {\n",
       "        vertical-align: middle;\n",
       "    }\n",
       "\n",
       "    .dataframe tbody tr th {\n",
       "        vertical-align: top;\n",
       "    }\n",
       "\n",
       "    .dataframe thead th {\n",
       "        text-align: right;\n",
       "    }\n",
       "</style>\n",
       "<table border=\"1\" class=\"dataframe\">\n",
       "  <thead>\n",
       "    <tr style=\"text-align: right;\">\n",
       "      <th></th>\n",
       "      <th>USER_ID</th>\n",
       "      <th>ITEM_ID</th>\n",
       "      <th>INTERACTION_BINARY</th>\n",
       "      <th>CLICKSTREAM_EVENTS_TOTAL</th>\n",
       "      <th>TE_STYLE_TARGET</th>\n",
       "      <th>TE_TAXONOMY_STYLE_TARGET</th>\n",
       "      <th>TE_COLOR_NAME_TARGET</th>\n",
       "      <th>TE_PRODUCT_CLASS_TARGET</th>\n",
       "      <th>TE_PRODUCT_SUBCLASS_TARGET</th>\n",
       "      <th>TE_TEAM_TARGET</th>\n",
       "      <th>TE_FRANCHISE_TARGET</th>\n",
       "      <th>TE_PRODUCT_GROUP_TARGET</th>\n",
       "      <th>AVG_REVIEW_SCORE</th>\n",
       "    </tr>\n",
       "  </thead>\n",
       "  <tbody>\n",
       "    <tr>\n",
       "      <th>0</th>\n",
       "      <td>9801</td>\n",
       "      <td>51</td>\n",
       "      <td>0</td>\n",
       "      <td>-0.635926</td>\n",
       "      <td>-0.357729</td>\n",
       "      <td>-0.748966</td>\n",
       "      <td>-0.215679</td>\n",
       "      <td>-0.400456</td>\n",
       "      <td>-0.923852</td>\n",
       "      <td>0.165782</td>\n",
       "      <td>-0.617684</td>\n",
       "      <td>-0.227907</td>\n",
       "      <td>-0.297864</td>\n",
       "    </tr>\n",
       "    <tr>\n",
       "      <th>1</th>\n",
       "      <td>7486</td>\n",
       "      <td>22</td>\n",
       "      <td>0</td>\n",
       "      <td>-0.185528</td>\n",
       "      <td>-0.621657</td>\n",
       "      <td>-0.683124</td>\n",
       "      <td>-0.408972</td>\n",
       "      <td>-0.397886</td>\n",
       "      <td>-0.164314</td>\n",
       "      <td>0.185546</td>\n",
       "      <td>-0.558301</td>\n",
       "      <td>-0.227591</td>\n",
       "      <td>-0.519528</td>\n",
       "    </tr>\n",
       "    <tr>\n",
       "      <th>2</th>\n",
       "      <td>1850</td>\n",
       "      <td>11</td>\n",
       "      <td>0</td>\n",
       "      <td>-0.384228</td>\n",
       "      <td>-0.528826</td>\n",
       "      <td>-0.517335</td>\n",
       "      <td>-0.031354</td>\n",
       "      <td>-0.400456</td>\n",
       "      <td>-0.175107</td>\n",
       "      <td>-0.718407</td>\n",
       "      <td>0.037694</td>\n",
       "      <td>-0.227907</td>\n",
       "      <td>0.493825</td>\n",
       "    </tr>\n",
       "    <tr>\n",
       "      <th>3</th>\n",
       "      <td>4911</td>\n",
       "      <td>4</td>\n",
       "      <td>0</td>\n",
       "      <td>0.467699</td>\n",
       "      <td>-0.264746</td>\n",
       "      <td>-0.271103</td>\n",
       "      <td>0.189090</td>\n",
       "      <td>-0.400456</td>\n",
       "      <td>-0.175107</td>\n",
       "      <td>-0.718407</td>\n",
       "      <td>-0.320800</td>\n",
       "      <td>-0.227907</td>\n",
       "      <td>-0.287359</td>\n",
       "    </tr>\n",
       "    <tr>\n",
       "      <th>4</th>\n",
       "      <td>29683</td>\n",
       "      <td>82</td>\n",
       "      <td>0</td>\n",
       "      <td>-0.994561</td>\n",
       "      <td>1.427320</td>\n",
       "      <td>1.048321</td>\n",
       "      <td>-0.662251</td>\n",
       "      <td>-0.397886</td>\n",
       "      <td>-0.164314</td>\n",
       "      <td>0.185546</td>\n",
       "      <td>0.068732</td>\n",
       "      <td>-0.227591</td>\n",
       "      <td>-0.822374</td>\n",
       "    </tr>\n",
       "  </tbody>\n",
       "</table>\n",
       "</div>"
      ],
      "text/plain": [
       "   USER_ID  ITEM_ID  INTERACTION_BINARY  CLICKSTREAM_EVENTS_TOTAL  \\\n",
       "0     9801       51                   0                 -0.635926   \n",
       "1     7486       22                   0                 -0.185528   \n",
       "2     1850       11                   0                 -0.384228   \n",
       "3     4911        4                   0                  0.467699   \n",
       "4    29683       82                   0                 -0.994561   \n",
       "\n",
       "   TE_STYLE_TARGET  TE_TAXONOMY_STYLE_TARGET  TE_COLOR_NAME_TARGET  \\\n",
       "0        -0.357729                 -0.748966             -0.215679   \n",
       "1        -0.621657                 -0.683124             -0.408972   \n",
       "2        -0.528826                 -0.517335             -0.031354   \n",
       "3        -0.264746                 -0.271103              0.189090   \n",
       "4         1.427320                  1.048321             -0.662251   \n",
       "\n",
       "   TE_PRODUCT_CLASS_TARGET  TE_PRODUCT_SUBCLASS_TARGET  TE_TEAM_TARGET  \\\n",
       "0                -0.400456                   -0.923852        0.165782   \n",
       "1                -0.397886                   -0.164314        0.185546   \n",
       "2                -0.400456                   -0.175107       -0.718407   \n",
       "3                -0.400456                   -0.175107       -0.718407   \n",
       "4                -0.397886                   -0.164314        0.185546   \n",
       "\n",
       "   TE_FRANCHISE_TARGET  TE_PRODUCT_GROUP_TARGET  AVG_REVIEW_SCORE  \n",
       "0            -0.617684                -0.227907         -0.297864  \n",
       "1            -0.558301                -0.227591         -0.519528  \n",
       "2             0.037694                -0.227907          0.493825  \n",
       "3            -0.320800                -0.227907         -0.287359  \n",
       "4             0.068732                -0.227591         -0.822374  "
      ]
     },
     "execution_count": 258,
     "metadata": {},
     "output_type": "execute_result"
    }
   ],
   "source": [
    "valid.head()"
   ]
  },
  {
   "cell_type": "markdown",
   "id": "f8bcd359-0fbc-4ac2-b660-23d57e375134",
   "metadata": {},
   "source": [
    "## Model"
   ]
  },
  {
   "cell_type": "code",
   "execution_count": 259,
   "id": "7a04711c-f753-44ee-bb7b-8ec0c677805c",
   "metadata": {
    "tags": []
   },
   "outputs": [
    {
     "name": "stderr",
     "output_type": "stream",
     "text": [
      "WARNING:absl:At this time, the v2.11+ optimizer `tf.keras.optimizers.Adagrad` runs slowly on M1/M2 Macs, please use the legacy Keras optimizer instead, located at `tf.keras.optimizers.legacy.Adagrad`.\n"
     ]
    },
    {
     "name": "stdout",
     "output_type": "stream",
     "text": [
      "822/822 [==============================] - 18s 21ms/step - loss: 0.1537 - recall: 0.0885 - precision: 0.6833 - regularization_loss: 0.0000e+00 - loss_batch: 0.1536 - val_loss: 0.1349 - val_recall: 0.1275 - val_precision: 0.7666 - val_regularization_loss: 0.0000e+00 - val_loss_batch: 0.1227\n"
     ]
    },
    {
     "data": {
      "text/plain": [
       "<keras.callbacks.History at 0x39a65c790>"
      ]
     },
     "execution_count": 259,
     "metadata": {},
     "output_type": "execute_result"
    }
   ],
   "source": [
    "import tensorflow as tf\n",
    "\n",
    "model = mm.benchmark.NCFModel(\n",
    "    train.schema,\n",
    "    embedding_dim=64,\n",
    "    mlp_block=mm.MLPBlock([128, 64]),\n",
    "    prediction_tasks=mm.BinaryOutput(train.schema.select_by_tag(Tags.TARGET).column_names[0]),\n",
    ")\n",
    "\n",
    "\n",
    "opt = tf.keras.optimizers.Adagrad(learning_rate=0.03) #<< ADAGRAD CAUSES MODEL TO CRASH AND BURN\n",
    "model.compile(optimizer='adam', run_eagerly=False, metrics=[tf.keras.metrics.Recall(name=\"recall\"), tf.keras.metrics.Precision(name='precision')])\n",
    "model.fit(train, validation_data=valid, batch_size=1024)"
   ]
  },
  {
   "cell_type": "code",
   "execution_count": 260,
   "id": "b261d9e5-55bf-43ac-bdd1-ee9c1d9d5283",
   "metadata": {
    "tags": []
   },
   "outputs": [
    {
     "name": "stdout",
     "output_type": "stream",
     "text": [
      "405/405 [==============================] - 0s 1ms/step - loss: 0.1349 - recall: 0.1275 - precision: 0.7666 - regularization_loss: 0.0000e+00 - loss_batch: 0.1349\n"
     ]
    },
    {
     "data": {
      "text/plain": [
       "{'loss': 0.1349460333585739,\n",
       " 'recall': 0.12754903733730316,\n",
       " 'precision': 0.7665886282920837,\n",
       " 'regularization_loss': 0.0,\n",
       " 'loss_batch': 0.12266901880502701}"
      ]
     },
     "execution_count": 260,
     "metadata": {},
     "output_type": "execute_result"
    }
   ],
   "source": [
    "model.evaluate(valid, batch_size = 1024, return_dict = True)"
   ]
  },
  {
   "cell_type": "markdown",
   "id": "1e5a4afd-1d11-4390-809f-107476ec31e7",
   "metadata": {},
   "source": [
    "# Model"
   ]
  },
  {
   "cell_type": "code",
   "execution_count": 261,
   "id": "d79976dd-8cb2-4a09-adcc-33f36e19a9d8",
   "metadata": {},
   "outputs": [
    {
     "name": "stdout",
     "output_type": "stream",
     "text": [
      "Epoch 1/2\n",
      "822/822 [==============================] - 11s 12ms/step - loss: 0.1406 - precision: 0.7069 - recall: 0.1140 - binary_accuracy: 0.9645 - auc: 0.7754 - regularization_loss: 0.0000e+00 - loss_batch: 0.1405\n",
      "Epoch 2/2\n",
      "822/822 [==============================] - 10s 12ms/step - loss: 0.1214 - precision: 0.7584 - recall: 0.1736 - binary_accuracy: 0.9664 - auc: 0.8423 - regularization_loss: 0.0000e+00 - loss_batch: 0.1214\n"
     ]
    },
    {
     "data": {
      "text/plain": [
       "<keras.callbacks.History at 0x3c05859d0>"
      ]
     },
     "execution_count": 261,
     "metadata": {},
     "output_type": "execute_result"
    }
   ],
   "source": [
    "model_fb = mm.DLRMModel(\n",
    "    train.schema,\n",
    "    embedding_dim = 64,\n",
    "    top_block = mm.MLPBlock([128, 64, 32]),\n",
    "    bottom_block = mm.MLPBlock([128, 64]),\n",
    ")\n",
    "\n",
    "model_fb.compile(optimizer = 'adam')\n",
    "model_fb.fit(train, batch_size = 1024, epochs = 2)"
   ]
  },
  {
   "cell_type": "code",
   "execution_count": 262,
   "id": "b829f387-23e1-46d1-a463-3e6ebbfadc74",
   "metadata": {
    "tags": []
   },
   "outputs": [
    {
     "name": "stdout",
     "output_type": "stream",
     "text": [
      "405/405 [==============================] - 1s 1ms/step - loss: 0.1363 - precision: 0.6563 - recall: 0.1523 - binary_accuracy: 0.9655 - auc: 0.7654 - regularization_loss: 0.0000e+00 - loss_batch: 0.1363\n"
     ]
    },
    {
     "data": {
      "text/plain": [
       "{'loss': 0.1362886279821396,\n",
       " 'precision': 0.6563112139701843,\n",
       " 'recall': 0.15229250490665436,\n",
       " 'binary_accuracy': 0.9655255675315857,\n",
       " 'auc': 0.7654460668563843,\n",
       " 'regularization_loss': 0.0,\n",
       " 'loss_batch': 0.1275518387556076}"
      ]
     },
     "execution_count": 262,
     "metadata": {},
     "output_type": "execute_result"
    }
   ],
   "source": [
    "model_fb.evaluate(valid, batch_size = 1024, return_dict = True)"
   ]
  },
  {
   "cell_type": "code",
   "execution_count": null,
   "id": "ab700acc-bee4-43c0-86cb-d234c04448eb",
   "metadata": {},
   "outputs": [],
   "source": []
  }
 ],
 "metadata": {
  "kernelspec": {
   "display_name": "Python 3 (ipykernel)",
   "language": "python",
   "name": "python3"
  },
  "language_info": {
   "codemirror_mode": {
    "name": "ipython",
    "version": 3
   },
   "file_extension": ".py",
   "mimetype": "text/x-python",
   "name": "python",
   "nbconvert_exporter": "python",
   "pygments_lexer": "ipython3",
   "version": "3.11.4"
  }
 },
 "nbformat": 4,
 "nbformat_minor": 5
}
