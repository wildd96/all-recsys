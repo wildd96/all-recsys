{
 "cells": [
  {
   "cell_type": "code",
   "execution_count": 317,
   "id": "a6164808-2b20-4d30-8f2a-3922335e7519",
   "metadata": {
    "tags": []
   },
   "outputs": [],
   "source": [
    "#This is a starting point\n",
    "#uncomment below to install merlin library\n",
    "#!pip install merlin, nvtabular, merlin.models\n",
    "#I had to downgrade keras to 12.2.0 there maybe issues regarding tensorflow in the future\n",
    "#run lines below if you have also have an error ab not finding a keras package\n",
    "\n",
    "#!pip uninstall keras\n",
    "#!pip install keras==2.12.0\n",
    "\n",
    "\n",
    "#These are the same imports from\n",
    "#https://github.com/NVIDIA-Merlin/models/blob/main/examples/02-Merlin-Models-and-NVTabular-integration.ipynb\n",
    "\n",
    "import os\n",
    "import pandas as pd\n",
    "import numpy as np\n",
    "import nvtabular as nvt\n",
    "import matplotlib.pyplot as plt\n",
    "import seaborn as sns\n",
    "import keras\n",
    "\n",
    "from sklearn.model_selection import train_test_split\n",
    "\n",
    "from merlin.models.utils.example_utils import workflow_fit_transform\n",
    "import merlin.io\n",
    "import tensorflow as tf\n",
    "\n",
    "import merlin.models.tf as mm\n",
    "from merlin.io.dataset import Dataset\n",
    "from nvtabular.ops import *\n",
    "from merlin.core.utils import download_file\n",
    "from merlin.schema.tags import Tags"
   ]
  },
  {
   "cell_type": "markdown",
   "id": "fed8d8ae-f403-4689-89fc-076f17da0266",
   "metadata": {},
   "source": [
    "### To-do"
   ]
  },
  {
   "cell_type": "markdown",
   "id": "769d4f8b-6d21-415a-bff4-df59e11ac481",
   "metadata": {},
   "source": [
    "1. Clean data << Prices on user_interactions are not what they should be... probably is more\n",
    "2. EDA\n",
    "3. Transform timestamps\n",
    "4. Find out why certain things are crashing the model\n",
    "5. Learn about models and optimizers"
   ]
  },
  {
   "cell_type": "markdown",
   "id": "a340cdef-e86d-43fe-ac78-a6ff62a25aed",
   "metadata": {},
   "source": [
    "# Load and split"
   ]
  },
  {
   "cell_type": "code",
   "execution_count": 318,
   "id": "95493f8f-f037-4bc2-b737-3e3cb0c14967",
   "metadata": {
    "tags": []
   },
   "outputs": [],
   "source": [
    "df = pd.read_csv('/Users/andrew/Desktop/projects/recsys_data/2023-10-05 9_23pm (2).csv').dropna()\n",
    "#  ^ This needs point to your local .csv too big for github"
   ]
  },
  {
   "cell_type": "code",
   "execution_count": 319,
   "id": "032fb1a0-26b4-42c1-a348-b103f9d80e5e",
   "metadata": {},
   "outputs": [],
   "source": [
    "#accidentally added an extra CLICKSTREAM_EVENTS_TOTAL column\n",
    "df['TARGET'] = 0\n",
    "\n",
    "#Different values for different event_names\n",
    "\n",
    "df.loc[df['EVENT_NAME'] == 'order', 'TARGET'] = 10\n",
    "df.loc[df['EVENT_NAME'] == 'product_viewed', 'TARGET'] = 1"
   ]
  },
  {
   "cell_type": "code",
   "execution_count": 320,
   "id": "96820674-e0a6-457d-a913-483194735589",
   "metadata": {
    "tags": []
   },
   "outputs": [
    {
     "data": {
      "text/plain": [
       "Index(['USER_ID', 'COUNTRY', 'DERIVED_GENDER_BY_NAME',\n",
       "       'CLICKSTREAM_EVENTS_TOTAL', 'FIRST_PURCHASE_AT', 'FIRST_VISIT_AT',\n",
       "       'LATEST_VISIT_AT', 'LATEST_PURCHASE_AT', 'DAYS_SINCE_FIRST_VISIT',\n",
       "       'DAYS_SINCE_FIRST_PURCHASE', 'DAYS_SINCE_LAST_VISIT',\n",
       "       'DAYS_SINCE_LAST_PURCHASE', 'RECENT_VISIT', 'UNIQUE_PURCHASE_COUNT',\n",
       "       'MULTIPLE_BUYER', 'EVENT_NAME', 'EVENT_TIMESTAMP', 'ITEM_ID',\n",
       "       'PRICE_INFORMATION', 'DAYS_SINCE_INTERACTION', 'AVG_REVIEW_SCORE',\n",
       "       'STYLE', 'TAXONOMY_STYLE', 'COLOR_NAME', 'PRODUCT_CLASS',\n",
       "       'PRODUCT_SUBCLASS', 'TEAM', 'FRANCHISE', 'PRODUCT_GROUP', 'TARGET'],\n",
       "      dtype='object')"
      ]
     },
     "execution_count": 320,
     "metadata": {},
     "output_type": "execute_result"
    }
   ],
   "source": [
    "df.columns"
   ]
  },
  {
   "cell_type": "code",
   "execution_count": 321,
   "id": "6dd79ec9-f741-4e0d-a46e-123e36c4f68c",
   "metadata": {
    "tags": []
   },
   "outputs": [],
   "source": [
    "#num rows\n",
    "data_size = df.shape[0]\n",
    "\n",
    "train_split_ratio = int(.33 * data_size)\n",
    "\n",
    "df = df.sample(frac = 1)\n",
    "\n",
    "train = df[:-train_split_ratio].to_parquet(\"train.parquet\")\n",
    "valid = df[-train_split_ratio:].to_parquet(\"valid.parquet\")"
   ]
  },
  {
   "cell_type": "markdown",
   "id": "7b424279-225c-4eef-b583-0427bc954c57",
   "metadata": {},
   "source": [
    "# EDA"
   ]
  },
  {
   "cell_type": "code",
   "execution_count": null,
   "id": "770badc5-5a3d-4282-a455-fef1eff25209",
   "metadata": {
    "tags": []
   },
   "outputs": [],
   "source": []
  },
  {
   "cell_type": "code",
   "execution_count": null,
   "id": "74fc862f-90f9-4db2-858b-bc4e93925ab2",
   "metadata": {},
   "outputs": [],
   "source": []
  },
  {
   "cell_type": "markdown",
   "id": "da5efa1f-91e7-4c32-a882-6bbe6fe26555",
   "metadata": {},
   "source": [
    "# NVTabular"
   ]
  },
  {
   "cell_type": "code",
   "execution_count": 322,
   "id": "5f247a55-cbdd-4cce-8b47-7e939e0984e9",
   "metadata": {},
   "outputs": [],
   "source": [
    "#This is how to iniate a dataset using NVtabular an NVIDIA \n",
    "#optimized ETL/feature engineering(i think?) library\n",
    "#data = nvt.io.dataset.Dataset('data/reviews.csv')"
   ]
  },
  {
   "cell_type": "code",
   "execution_count": 323,
   "id": "c65d68b7-27c7-436e-9d49-58c91cc067fe",
   "metadata": {
    "tags": []
   },
   "outputs": [],
   "source": [
    "# df.columns"
   ]
  },
  {
   "cell_type": "code",
   "execution_count": 324,
   "id": "7d3c6c8f-282a-489f-8e5c-51411edc1435",
   "metadata": {
    "tags": []
   },
   "outputs": [],
   "source": [
    "categorical_user_features = ['COUNTRY', 'DERIVED_GENDER_BY_NAME']\n",
    "categorical_item_features = ['STYLE', 'TAXONOMY_STYLE', 'COLOR_NAME', 'PRODUCT_CLASS', 'PRODUCT_SUBCLASS', 'TEAM', 'FRANCHISE', 'PRODUCT_GROUP']"
   ]
  },
  {
   "cell_type": "code",
   "execution_count": 325,
   "id": "f941f6d0-41be-4177-aac5-a884aa7bb630",
   "metadata": {
    "tags": []
   },
   "outputs": [],
   "source": [
    "#Features needed to Transform still: FIRST_PURCHASE_AT, FIRST_VISIT_AT, LATEST_VISIT_AT\n",
    "# LATEST_PURCHASE_AT, EVENT_TIMESTAMP"
   ]
  },
  {
   "cell_type": "code",
   "execution_count": 326,
   "id": "c397eb73-c1bc-4e1b-838c-d72a85c2adb1",
   "metadata": {
    "tags": []
   },
   "outputs": [],
   "source": [
    "#DON'T FORGET TARGET ENCODING CATEGORICAL VALUES"
   ]
  },
  {
   "cell_type": "code",
   "execution_count": 327,
   "id": "74895def-f932-4e9c-b1f8-0d78da2b7571",
   "metadata": {
    "tags": []
   },
   "outputs": [],
   "source": [
    "user_id = [\"USER_ID\"] >> Categorify(dtype = \"int32\", out_path='categories') >> TagAsUserID()\n",
    "item_id = [\"ITEM_ID\"] >> Categorify(dtype = \"int32\", out_path='categories') >> TagAsItemID()\n",
    "\n",
    "target = (\n",
    "    nvt.ColumnSelector([\"TARGET\"])\n",
    "    >> LambdaOp(lambda col: (col > 0).astype(\"int32\"))\n",
    "    >> AddTags([\"binary_classification\", \"target\"])\n",
    "    >> Rename(name=\"INTERACTION_BINARY\")\n",
    ")\n",
    "\n",
    "item_features = categorical_item_features >> Categorify(dtype = \"int32\") >> TagAsItemFeatures()\n",
    "user_features = categorical_user_features >> Categorify(dtype = \"int32\") >> TagAsUserFeatures()"
   ]
  },
  {
   "cell_type": "code",
   "execution_count": 328,
   "id": "9d3d475a-df44-4291-bbd7-1f534e8d5c34",
   "metadata": {
    "tags": []
   },
   "outputs": [],
   "source": [
    "#Make this more succinct\n",
    "CLICKSTREAM_EVENTS_TOTAL = (\n",
    "    nvt.ColumnSelector(['CLICKSTREAM_EVENTS_TOTAL'])\n",
    "    >>FillMissing(1)\n",
    "    >>LogOp()\n",
    "    >>Normalize()\n",
    "    >>LambdaOp(lambda col: col.astype(\"float32\"))\n",
    "    >>TagAsUserFeatures()\n",
    ")\n",
    "\n",
    "#has the price changed over time?\n",
    "PRICE_INFORMATION = (\n",
    "    ['PRICE_INFORMATION']\n",
    "    >>FillMissing(1)\n",
    "    >>LogOp()\n",
    "    >>Normalize()\n",
    "    >>LambdaOp(lambda col: col.astype(\"float32\"))\n",
    "    >>TagAsItemFeatures()\n",
    ")\n",
    "\n",
    "AVG_REVIEW_SCORE = (\n",
    "    ['AVG_REVIEW_SCORE']\n",
    "    >>Normalize()\n",
    "    >>LambdaOp(lambda col: col**2)\n",
    "    >>TagAsItemFeatures()\n",
    ")\n",
    "\n",
    "INTERACTION_TIMESTAMP = (\n",
    "    nvt.ColumnSelector(['DAYS_SINCE_INTERACTION'])\n",
    "    #>>Normalize()\n",
    "    >>TagAsUserFeatures()\n",
    ")\n",
    "\n",
    "DAYS_SINCE_LAST_VISIT = (\n",
    "    nvt.ColumnSelector(['DAYS_SINCE_LAST_VISIT'])\n",
    "    >>TagAsUserFeatures()\n",
    ")\n"
   ]
  },
  {
   "cell_type": "code",
   "execution_count": 329,
   "id": "690179d7-afc5-4e32-998b-0ce599c38c9b",
   "metadata": {
    "tags": []
   },
   "outputs": [],
   "source": [
    "categorical_features = (categorical_item_features) #Just a place holder... redo with better categories\n",
    "user_cat_features = (user_features)\n",
    "label = nvt.ColumnSelector(['TARGET'])\n",
    "te_features = categorical_features >> TargetEncoding(label)\n",
    "user_feats = user_cat_features >> TargetEncoding(label)\n",
    "te_features_norm = te_features >> Normalize() >> LambdaOp(lambda col: col.astype('float32')) >> TagAsItemFeatures()\n",
    "user_cat_features_norm = user_feats >> Normalize() >> LambdaOp(lambda col: col.astype('float32')) >> TagAsItemFeatures()"
   ]
  },
  {
   "cell_type": "code",
   "execution_count": 331,
   "id": "19e65950-c396-4a0c-be31-65adaaa63418",
   "metadata": {
    "tags": []
   },
   "outputs": [
    {
     "name": "stderr",
     "output_type": "stream",
     "text": [
      "/Users/andrew/anaconda3/lib/python3.11/site-packages/merlin/io/dataset.py:267: UserWarning: Initializing an NVTabular Dataset in CPU mode.This is an experimental feature with extremely limited support!\n",
      "  warnings.warn(\n",
      "/Users/andrew/anaconda3/lib/python3.11/site-packages/merlin/io/parquet.py:343: UserWarning: Row group memory size (1221542611) (bytes) of parquet file is bigger than requested part_size (1073741824) for the NVTabular dataset.A row group memory size of 128 MB is generally recommended. You can find info on how to set the row group size of parquet files in https://nvidia-merlin.github.io/NVTabular/main/resources/troubleshooting.html#setting-the-row-group-size-for-the-parquet-files\n",
      "  warnings.warn(\n",
      "/Users/andrew/anaconda3/lib/python3.11/site-packages/merlin/io/dataset.py:267: UserWarning: Initializing an NVTabular Dataset in CPU mode.This is an experimental feature with extremely limited support!\n",
      "  warnings.warn(\n",
      "/Users/andrew/anaconda3/lib/python3.11/site-packages/merlin/io/dataset.py:267: UserWarning: Initializing an NVTabular Dataset in CPU mode.This is an experimental feature with extremely limited support!\n",
      "  warnings.warn(\n",
      "/Users/andrew/anaconda3/lib/python3.11/site-packages/merlin/io/dataset.py:267: UserWarning: Initializing an NVTabular Dataset in CPU mode.This is an experimental feature with extremely limited support!\n",
      "  warnings.warn(\n",
      "/Users/andrew/anaconda3/lib/python3.11/site-packages/merlin/io/dataset.py:267: UserWarning: Initializing an NVTabular Dataset in CPU mode.This is an experimental feature with extremely limited support!\n",
      "  warnings.warn(\n"
     ]
    }
   ],
   "source": [
    "output = (\n",
    "    user_id + \n",
    "    item_id +\n",
    "    target +\n",
    "    CLICKSTREAM_EVENTS_TOTAL + \n",
    "    te_features_norm +\n",
    "    user_cat_features_norm +\n",
    "    INTERACTION_TIMESTAMP +\n",
    "    DAYS_SINCE_LAST_VISIT + \n",
    "    #PRICE_INFORMATION << THIS CAUSES MODEL TO CRASH AND BURN\n",
    "    AVG_REVIEW_SCORE\n",
    ")\n",
    "\n",
    "workflow_fit_transform(output, 'train.parquet', 'valid.parquet', 'integration') #< What is integration"
   ]
  },
  {
   "cell_type": "code",
   "execution_count": 332,
   "id": "5261238e-74f6-42ab-b059-62ff5cd24f25",
   "metadata": {
    "tags": []
   },
   "outputs": [
    {
     "name": "stderr",
     "output_type": "stream",
     "text": [
      "/Users/andrew/anaconda3/lib/python3.11/site-packages/merlin/io/dataset.py:267: UserWarning: Initializing an NVTabular Dataset in CPU mode.This is an experimental feature with extremely limited support!\n",
      "  warnings.warn(\n",
      "/Users/andrew/anaconda3/lib/python3.11/site-packages/merlin/io/dataset.py:267: UserWarning: Initializing an NVTabular Dataset in CPU mode.This is an experimental feature with extremely limited support!\n",
      "  warnings.warn(\n"
     ]
    }
   ],
   "source": [
    "train = merlin.io.Dataset(\n",
    "    os.path.join(\"integration\", \"train\"), engine=\"parquet\"\n",
    ")\n",
    "valid = merlin.io.Dataset(\n",
    "    os.path.join(\"integration\", \"valid\"), engine=\"parquet\"\n",
    ")"
   ]
  },
  {
   "cell_type": "code",
   "execution_count": 333,
   "id": "c8bf22a2-9d99-4286-9ebf-5b37180417cc",
   "metadata": {
    "tags": []
   },
   "outputs": [
    {
     "data": {
      "text/html": [
       "<div>\n",
       "<style scoped>\n",
       "    .dataframe tbody tr th:only-of-type {\n",
       "        vertical-align: middle;\n",
       "    }\n",
       "\n",
       "    .dataframe tbody tr th {\n",
       "        vertical-align: top;\n",
       "    }\n",
       "\n",
       "    .dataframe thead th {\n",
       "        text-align: right;\n",
       "    }\n",
       "</style>\n",
       "<table border=\"1\" class=\"dataframe\">\n",
       "  <thead>\n",
       "    <tr style=\"text-align: right;\">\n",
       "      <th></th>\n",
       "      <th>USER_ID</th>\n",
       "      <th>ITEM_ID</th>\n",
       "      <th>INTERACTION_BINARY</th>\n",
       "      <th>CLICKSTREAM_EVENTS_TOTAL</th>\n",
       "      <th>TE_STYLE_TARGET</th>\n",
       "      <th>TE_TAXONOMY_STYLE_TARGET</th>\n",
       "      <th>TE_COLOR_NAME_TARGET</th>\n",
       "      <th>TE_PRODUCT_CLASS_TARGET</th>\n",
       "      <th>TE_PRODUCT_SUBCLASS_TARGET</th>\n",
       "      <th>TE_TEAM_TARGET</th>\n",
       "      <th>TE_FRANCHISE_TARGET</th>\n",
       "      <th>TE_PRODUCT_GROUP_TARGET</th>\n",
       "      <th>TE_COUNTRY_TARGET</th>\n",
       "      <th>TE_DERIVED_GENDER_BY_NAME_TARGET</th>\n",
       "      <th>DAYS_SINCE_INTERACTION</th>\n",
       "      <th>DAYS_SINCE_LAST_VISIT</th>\n",
       "      <th>AVG_REVIEW_SCORE</th>\n",
       "    </tr>\n",
       "  </thead>\n",
       "  <tbody>\n",
       "    <tr>\n",
       "      <th>0</th>\n",
       "      <td>4989</td>\n",
       "      <td>18</td>\n",
       "      <td>1</td>\n",
       "      <td>-0.551404</td>\n",
       "      <td>-0.206419</td>\n",
       "      <td>-0.214239</td>\n",
       "      <td>-0.187780</td>\n",
       "      <td>-0.309472</td>\n",
       "      <td>-0.962953</td>\n",
       "      <td>-0.834847</td>\n",
       "      <td>-0.290171</td>\n",
       "      <td>-0.002472</td>\n",
       "      <td>0.173142</td>\n",
       "      <td>1.355186</td>\n",
       "      <td>0.206437</td>\n",
       "      <td>142</td>\n",
       "      <td>0.025552</td>\n",
       "    </tr>\n",
       "    <tr>\n",
       "      <th>1</th>\n",
       "      <td>50014</td>\n",
       "      <td>170</td>\n",
       "      <td>1</td>\n",
       "      <td>-1.230923</td>\n",
       "      <td>-0.955813</td>\n",
       "      <td>-0.993507</td>\n",
       "      <td>-0.456919</td>\n",
       "      <td>1.595753</td>\n",
       "      <td>-0.673970</td>\n",
       "      <td>-0.911889</td>\n",
       "      <td>-0.443542</td>\n",
       "      <td>2.000844</td>\n",
       "      <td>-0.095425</td>\n",
       "      <td>-0.862568</td>\n",
       "      <td>0.094843</td>\n",
       "      <td>212</td>\n",
       "      <td>0.754467</td>\n",
       "    </tr>\n",
       "    <tr>\n",
       "      <th>2</th>\n",
       "      <td>1598</td>\n",
       "      <td>13</td>\n",
       "      <td>1</td>\n",
       "      <td>-0.011576</td>\n",
       "      <td>-0.206419</td>\n",
       "      <td>-0.214239</td>\n",
       "      <td>-0.113614</td>\n",
       "      <td>-0.309472</td>\n",
       "      <td>0.022617</td>\n",
       "      <td>-0.834847</td>\n",
       "      <td>-0.290171</td>\n",
       "      <td>-0.002472</td>\n",
       "      <td>0.173142</td>\n",
       "      <td>-0.754909</td>\n",
       "      <td>0.536754</td>\n",
       "      <td>29</td>\n",
       "      <td>0.154099</td>\n",
       "    </tr>\n",
       "    <tr>\n",
       "      <th>3</th>\n",
       "      <td>5481</td>\n",
       "      <td>16</td>\n",
       "      <td>1</td>\n",
       "      <td>-0.346325</td>\n",
       "      <td>-0.206419</td>\n",
       "      <td>-0.214239</td>\n",
       "      <td>-0.345105</td>\n",
       "      <td>-0.309472</td>\n",
       "      <td>-0.962953</td>\n",
       "      <td>-0.834847</td>\n",
       "      <td>-0.290171</td>\n",
       "      <td>-0.002472</td>\n",
       "      <td>0.173142</td>\n",
       "      <td>-0.754909</td>\n",
       "      <td>0.519157</td>\n",
       "      <td>59</td>\n",
       "      <td>0.888907</td>\n",
       "    </tr>\n",
       "    <tr>\n",
       "      <th>4</th>\n",
       "      <td>1967</td>\n",
       "      <td>7</td>\n",
       "      <td>1</td>\n",
       "      <td>0.959813</td>\n",
       "      <td>-0.285202</td>\n",
       "      <td>-0.394221</td>\n",
       "      <td>-0.014207</td>\n",
       "      <td>-0.369181</td>\n",
       "      <td>-0.004774</td>\n",
       "      <td>0.545901</td>\n",
       "      <td>0.407656</td>\n",
       "      <td>-0.068771</td>\n",
       "      <td>-0.095425</td>\n",
       "      <td>1.185661</td>\n",
       "      <td>0.064286</td>\n",
       "      <td>54</td>\n",
       "      <td>0.179927</td>\n",
       "    </tr>\n",
       "  </tbody>\n",
       "</table>\n",
       "</div>"
      ],
      "text/plain": [
       "   USER_ID  ITEM_ID  INTERACTION_BINARY  CLICKSTREAM_EVENTS_TOTAL  \\\n",
       "0     4989       18                   1                 -0.551404   \n",
       "1    50014      170                   1                 -1.230923   \n",
       "2     1598       13                   1                 -0.011576   \n",
       "3     5481       16                   1                 -0.346325   \n",
       "4     1967        7                   1                  0.959813   \n",
       "\n",
       "   TE_STYLE_TARGET  TE_TAXONOMY_STYLE_TARGET  TE_COLOR_NAME_TARGET  \\\n",
       "0        -0.206419                 -0.214239             -0.187780   \n",
       "1        -0.955813                 -0.993507             -0.456919   \n",
       "2        -0.206419                 -0.214239             -0.113614   \n",
       "3        -0.206419                 -0.214239             -0.345105   \n",
       "4        -0.285202                 -0.394221             -0.014207   \n",
       "\n",
       "   TE_PRODUCT_CLASS_TARGET  TE_PRODUCT_SUBCLASS_TARGET  TE_TEAM_TARGET  \\\n",
       "0                -0.309472                   -0.962953       -0.834847   \n",
       "1                 1.595753                   -0.673970       -0.911889   \n",
       "2                -0.309472                    0.022617       -0.834847   \n",
       "3                -0.309472                   -0.962953       -0.834847   \n",
       "4                -0.369181                   -0.004774        0.545901   \n",
       "\n",
       "   TE_FRANCHISE_TARGET  TE_PRODUCT_GROUP_TARGET  TE_COUNTRY_TARGET  \\\n",
       "0            -0.290171                -0.002472           0.173142   \n",
       "1            -0.443542                 2.000844          -0.095425   \n",
       "2            -0.290171                -0.002472           0.173142   \n",
       "3            -0.290171                -0.002472           0.173142   \n",
       "4             0.407656                -0.068771          -0.095425   \n",
       "\n",
       "   TE_DERIVED_GENDER_BY_NAME_TARGET  DAYS_SINCE_INTERACTION  \\\n",
       "0                          1.355186                0.206437   \n",
       "1                         -0.862568                0.094843   \n",
       "2                         -0.754909                0.536754   \n",
       "3                         -0.754909                0.519157   \n",
       "4                          1.185661                0.064286   \n",
       "\n",
       "   DAYS_SINCE_LAST_VISIT  AVG_REVIEW_SCORE  \n",
       "0                    142          0.025552  \n",
       "1                    212          0.754467  \n",
       "2                     29          0.154099  \n",
       "3                     59          0.888907  \n",
       "4                     54          0.179927  "
      ]
     },
     "execution_count": 333,
     "metadata": {},
     "output_type": "execute_result"
    }
   ],
   "source": [
    "valid.head()"
   ]
  },
  {
   "cell_type": "markdown",
   "id": "f8bcd359-0fbc-4ac2-b660-23d57e375134",
   "metadata": {},
   "source": [
    "## Model"
   ]
  },
  {
   "cell_type": "code",
   "execution_count": 334,
   "id": "7a04711c-f753-44ee-bb7b-8ec0c677805c",
   "metadata": {
    "tags": []
   },
   "outputs": [],
   "source": [
    "import tensorflow as tf\n",
    "model = mm.benchmark.NCFModel(\n",
    "    train.schema,\n",
    "    embedding_dim=64,\n",
    "    mlp_block=mm.MLPBlock([128, 64]),\n",
    "    prediction_tasks=mm.BinaryOutput(train.schema.select_by_tag(Tags.TARGET).column_names[0]),\n",
    ")"
   ]
  },
  {
   "cell_type": "code",
   "execution_count": 335,
   "id": "930c51fe-1b79-4b45-b5a3-fca24de8a0ad",
   "metadata": {
    "tags": []
   },
   "outputs": [],
   "source": [
    "def my_loss_fn(y_true, y_pred):\n",
    "    return tf.math.reduce_mean(tf.square(y_true - y_pred), axis=-1)\n",
    "#CAN I GET SOME TROUBLESHOOTING FOR CUSTOM LOSS TO PENALIZE FN MORE THAN FP"
   ]
  },
  {
   "cell_type": "code",
   "execution_count": 336,
   "id": "1e5abead-b598-451f-bd9f-8d80a61e89e1",
   "metadata": {
    "tags": []
   },
   "outputs": [
    {
     "name": "stdout",
     "output_type": "stream",
     "text": [
      "822/822 [==============================] - 55s 66ms/step - loss: 0.1056 - recall: 0.9703 - precision: 0.8777 - regularization_loss: 0.0000e+00 - loss_batch: 0.1056 - val_loss: 0.0946 - val_recall: 0.9615 - val_precision: 0.8924 - val_regularization_loss: 0.0000e+00 - val_loss_batch: 0.0942\n"
     ]
    }
   ],
   "source": [
    "loss = tf.keras.losses.MeanSquaredError()\n",
    "model.compile(optimizer=keras.optimizers.Adam(learning_rate = .0175), run_eagerly=True, loss = loss, metrics=[tf.keras.metrics.Recall(name=\"recall\"), tf.keras.metrics.Precision(name='precision')]);\n",
    "model.fit(train, validation_data=valid, batch_size=1024, epochs = 1); #Less epochs, more accurate valid... less accurate train"
   ]
  },
  {
   "cell_type": "code",
   "execution_count": 337,
   "id": "90be2dae-3fd6-4672-ba96-48aa37a071e6",
   "metadata": {
    "tags": []
   },
   "outputs": [],
   "source": [
    "# I Have 2 evals to compare when I make changes."
   ]
  },
  {
   "cell_type": "code",
   "execution_count": 338,
   "id": "df036392-40b6-4929-8bda-7262dd42ff72",
   "metadata": {
    "tags": []
   },
   "outputs": [
    {
     "name": "stdout",
     "output_type": "stream",
     "text": [
      "405/405 [==============================] - 6s 15ms/step - loss: 0.0946 - recall: 0.9615 - precision: 0.8924 - regularization_loss: 0.0000e+00 - loss_batch: 0.0946\n"
     ]
    },
    {
     "data": {
      "text/plain": [
       "{'loss': 0.09461532533168793,\n",
       " 'recall': 0.9615117311477661,\n",
       " 'precision': 0.8924192190170288,\n",
       " 'regularization_loss': 0.0,\n",
       " 'loss_batch': 0.09416771680116653}"
      ]
     },
     "execution_count": 338,
     "metadata": {},
     "output_type": "execute_result"
    }
   ],
   "source": [
    "model.evaluate(valid, batch_size = 1024, return_dict = True)"
   ]
  },
  {
   "cell_type": "code",
   "execution_count": 339,
   "id": "b261d9e5-55bf-43ac-bdd1-ee9c1d9d5283",
   "metadata": {
    "tags": []
   },
   "outputs": [
    {
     "name": "stdout",
     "output_type": "stream",
     "text": [
      "405/405 [==============================] - 6s 15ms/step - loss: 0.0946 - recall: 0.9615 - precision: 0.8924 - regularization_loss: 0.0000e+00 - loss_batch: 0.0946\n"
     ]
    },
    {
     "data": {
      "text/plain": [
       "{'loss': 0.09461532533168793,\n",
       " 'recall': 0.9615117311477661,\n",
       " 'precision': 0.8924192190170288,\n",
       " 'regularization_loss': 0.0,\n",
       " 'loss_batch': 0.09416771680116653}"
      ]
     },
     "execution_count": 339,
     "metadata": {},
     "output_type": "execute_result"
    }
   ],
   "source": [
    "model.evaluate(valid, batch_size = 1024, return_dict = True)"
   ]
  },
  {
   "cell_type": "markdown",
   "id": "1e5a4afd-1d11-4390-809f-107476ec31e7",
   "metadata": {},
   "source": [
    "# Model"
   ]
  },
  {
   "cell_type": "code",
   "execution_count": 340,
   "id": "d79976dd-8cb2-4a09-adcc-33f36e19a9d8",
   "metadata": {},
   "outputs": [
    {
     "name": "stdout",
     "output_type": "stream",
     "text": [
      "822/822 [==============================] - 11s 13ms/step - loss: 0.1035 - precision: 0.8787 - recall: 0.9670 - binary_accuracy: 0.8600 - auc: 0.8080 - regularization_loss: 0.0000e+00 - loss_batch: 0.1035\n",
      "405/405 [==============================] - 1s 1ms/step - loss: 0.0932 - precision: 0.8993 - recall: 0.9516 - binary_accuracy: 0.8697 - auc: 0.8636 - regularization_loss: 0.0000e+00 - loss_batch: 0.0932\n"
     ]
    }
   ],
   "source": [
    "model_fb = mm.DLRMModel(\n",
    "    train.schema,\n",
    "    embedding_dim = 64,\n",
    "    top_block = mm.MLPBlock([128, 64, 32]),\n",
    "    bottom_block = mm.MLPBlock([128, 64]),\n",
    ")\n",
    "\n",
    "recall = []\n",
    "precision = []\n",
    "\n",
    "model_fb.compile(optimizer = keras.optimizers.Adam(learning_rate = .0175), loss = loss)\n",
    "model_fb.fit(train, batch_size = 1024, epochs = 1) #Less epochs, more accurate valid... less accurate train\n",
    "x = model_fb.evaluate(valid, batch_size = 1024, return_dict = True)\n",
    "recall.append(x['recall'])\n",
    "precision.append(x['precision'])"
   ]
  },
  {
   "cell_type": "code",
   "execution_count": 341,
   "id": "6044064b-dc1e-49d8-b358-af264118b1f3",
   "metadata": {
    "tags": []
   },
   "outputs": [
    {
     "data": {
      "image/png": "[encoded data removed]",
      "text/plain": [
       "<Figure size 640x480 with 1 Axes>"
      ]
     },
     "metadata": {},
     "output_type": "display_data"
    }
   ],
   "source": [
    "plt.plot(recall)\n",
    "plt.plot(precision)\n",
    "plt.show()"
   ]
  },
  {
   "cell_type": "code",
   "execution_count": 342,
   "id": "b829f387-23e1-46d1-a463-3e6ebbfadc74",
   "metadata": {
    "tags": []
   },
   "outputs": [
    {
     "name": "stdout",
     "output_type": "stream",
     "text": [
      "405/405 [==============================] - 1s 1ms/step - loss: 0.0932 - precision: 0.8993 - recall: 0.9516 - binary_accuracy: 0.8697 - auc: 0.8636 - regularization_loss: 0.0000e+00 - loss_batch: 0.0932\n"
     ]
    },
    {
     "data": {
      "text/plain": [
       "{'loss': 0.09322012215852737,\n",
       " 'precision': 0.8992798924446106,\n",
       " 'recall': 0.9515860676765442,\n",
       " 'binary_accuracy': 0.8696870803833008,\n",
       " 'auc': 0.8636137843132019,\n",
       " 'regularization_loss': 0.0,\n",
       " 'loss_batch': 0.09437882155179977}"
      ]
     },
     "execution_count": 342,
     "metadata": {},
     "output_type": "execute_result"
    }
   ],
   "source": [
    "model_fb.evaluate(valid, batch_size = 1024, return_dict = True)"
   ]
  },
  {
   "cell_type": "code",
   "execution_count": 343,
   "id": "d96dea76-8815-4983-aaf4-fd0489754d6e",
   "metadata": {},
   "outputs": [
    {
     "name": "stdout",
     "output_type": "stream",
     "text": [
      "405/405 [==============================] - 1s 1ms/step - loss: 0.0932 - precision: 0.8993 - recall: 0.9516 - binary_accuracy: 0.8697 - auc: 0.8636 - regularization_loss: 0.0000e+00 - loss_batch: 0.0932\n"
     ]
    },
    {
     "data": {
      "text/plain": [
       "{'loss': 0.09322012215852737,\n",
       " 'precision': 0.8992798924446106,\n",
       " 'recall': 0.9515860676765442,\n",
       " 'binary_accuracy': 0.8696870803833008,\n",
       " 'auc': 0.8636137843132019,\n",
       " 'regularization_loss': 0.0,\n",
       " 'loss_batch': 0.09437882155179977}"
      ]
     },
     "execution_count": 343,
     "metadata": {},
     "output_type": "execute_result"
    }
   ],
   "source": [
    "model_fb.evaluate(valid, batch_size = 1024, return_dict = True)"
   ]
  },
  {
   "cell_type": "code",
   "execution_count": null,
   "id": "16f8575f-382e-4eb7-8d6f-27db5d376964",
   "metadata": {},
   "outputs": [],
   "source": []
  }
 ],
 "metadata": {
  "kernelspec": {
   "display_name": "Python 3 (ipykernel)",
   "language": "python",
   "name": "python3"
  },
  "language_info": {
   "codemirror_mode": {
    "name": "ipython",
    "version": 3
   },
   "file_extension": ".py",
   "mimetype": "text/x-python",
   "name": "python",
   "nbconvert_exporter": "python",
   "pygments_lexer": "ipython3",
   "version": "3.11.4"
  }
 },
 "nbformat": 4,
 "nbformat_minor": 5
}
