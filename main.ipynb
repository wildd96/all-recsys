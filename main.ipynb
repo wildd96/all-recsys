{
 "cells": [
  {
   "cell_type": "code",
   "execution_count": 27,
   "id": "a6164808-2b20-4d30-8f2a-3922335e7519",
   "metadata": {
    "tags": []
   },
   "outputs": [],
   "source": [
    "#This is a starting point\n",
    "#uncomment below to install merlin library\n",
    "#!pip install merlin, nvtabular, merlin.models\n",
    "#I had to downgrade keras to 12.2.0 there maybe issues regarding tensorflow in the future\n",
    "#run lines below if you have also have an error ab not finding a keras package\n",
    "\n",
    "#!pip uninstall keras\n",
    "#!pip install keras==2.12.0\n",
    "\n",
    "\n",
    "#These are the same imports from\n",
    "#https://github.com/NVIDIA-Merlin/models/blob/main/examples/02-Merlin-Models-and-NVTabular-integration.ipynb\n",
    "import os\n",
    "import pandas as pd\n",
    "import numpy as np\n",
    "import nvtabular as nvt\n",
    "import matplotlib.pyplot as plt\n",
    "import seaborn as sns\n",
    "import keras\n",
    "import polars as pl\n",
    "\n",
    "from sklearn.model_selection import train_test_split\n",
    "\n",
    "from merlin.models.utils.example_utils import workflow_fit_transform\n",
    "import merlin.io\n",
    "import tensorflow as tf\n",
    "\n",
    "import merlin.models.tf as mm\n",
    "from merlin.io.dataset import Dataset\n",
    "from nvtabular.ops import *\n",
    "from merlin.core.utils import download_file\n",
    "from merlin.schema.tags import Tags"
   ]
  },
  {
   "cell_type": "markdown",
   "id": "fed8d8ae-f403-4689-89fc-076f17da0266",
   "metadata": {},
   "source": [
    "### To-do"
   ]
  },
  {
   "cell_type": "markdown",
   "id": "769d4f8b-6d21-415a-bff4-df59e11ac481",
   "metadata": {},
   "source": [
    "1. Clean data << Prices on user_interactions are not what they should be... probably is more\n",
    "2. EDA\n",
    "3. Transform timestamps\n",
    "4. Find out why certain things are crashing the model\n",
    "5. Learn about models and optimizers"
   ]
  },
  {
   "cell_type": "markdown",
   "id": "a340cdef-e86d-43fe-ac78-a6ff62a25aed",
   "metadata": {},
   "source": [
    "# Load and split"
   ]
  },
  {
   "cell_type": "code",
   "execution_count": 28,
   "id": "032fb1a0-26b4-42c1-a348-b103f9d80e5e",
   "metadata": {},
   "outputs": [],
   "source": [
    "df = pd.read_csv('/Users/andrew/Desktop/projects/recsys_data/2023-10-05 9_23pm (2).csv').dropna()\n",
    "#  ^ This needs point to your local .csv too big for github\n",
    "\n",
    "#accidentally added an extra CLICKSTREAM_EVENTS_TOTAL column\n",
    "df['TARGET'] = 0\n",
    "\n",
    "#Different values for different event_names\n",
    "\n",
    "df.loc[df['EVENT_NAME'] == 'order', 'TARGET'] = 2\n",
    "df.loc[df['EVENT_NAME'] == 'product_viewed', 'TARGET'] = 1\n",
    "\n",
    "full_df = df\n",
    "\n",
    "df = df.sample(40000)"
   ]
  },
  {
   "cell_type": "code",
   "execution_count": 29,
   "id": "9b0c08d7-bc83-43c2-b826-6b84a5261ccb",
   "metadata": {
    "tags": []
   },
   "outputs": [
    {
     "data": {
      "text/plain": [
       "Index(['USER_ID', 'COUNTRY', 'DERIVED_GENDER_BY_NAME',\n",
       "       'CLICKSTREAM_EVENTS_TOTAL', 'FIRST_PURCHASE_AT', 'FIRST_VISIT_AT',\n",
       "       'LATEST_VISIT_AT', 'LATEST_PURCHASE_AT', 'DAYS_SINCE_FIRST_VISIT',\n",
       "       'DAYS_SINCE_FIRST_PURCHASE', 'DAYS_SINCE_LAST_VISIT',\n",
       "       'DAYS_SINCE_LAST_PURCHASE', 'RECENT_VISIT', 'UNIQUE_PURCHASE_COUNT',\n",
       "       'MULTIPLE_BUYER', 'EVENT_NAME', 'EVENT_TIMESTAMP', 'ITEM_ID',\n",
       "       'PRICE_INFORMATION', 'DAYS_SINCE_INTERACTION', 'AVG_REVIEW_SCORE',\n",
       "       'STYLE', 'TAXONOMY_STYLE', 'COLOR_NAME', 'PRODUCT_CLASS',\n",
       "       'PRODUCT_SUBCLASS', 'TEAM', 'FRANCHISE', 'PRODUCT_GROUP', 'TARGET'],\n",
       "      dtype='object')"
      ]
     },
     "execution_count": 29,
     "metadata": {},
     "output_type": "execute_result"
    }
   ],
   "source": [
    "df.columns"
   ]
  },
  {
   "cell_type": "code",
   "execution_count": 30,
   "id": "893eeb30-40a7-4791-83f6-4a1936fe4a21",
   "metadata": {
    "tags": []
   },
   "outputs": [],
   "source": [
    "negative_sample = df[['USER_ID', 'ITEM_ID', 'TARGET']]\n",
    "\n",
    "user_df = df[['USER_ID', 'ITEM_ID', 'COUNTRY', 'DERIVED_GENDER_BY_NAME', 'CLICKSTREAM_EVENTS_TOTAL', 'FIRST_PURCHASE_AT', 'FIRST_VISIT_AT',\n",
    "              'LATEST_VISIT_AT', 'LATEST_PURCHASE_AT', 'DAYS_SINCE_FIRST_VISIT', 'DAYS_SINCE_FIRST_PURCHASE', 'DAYS_SINCE_LAST_VISIT',\n",
    "              'DAYS_SINCE_LAST_PURCHASE', 'RECENT_VISIT']]\n",
    "item_df = df[['ITEM_ID', 'USER_ID', 'PRICE_INFORMATION', 'AVG_REVIEW_SCORE',\n",
    "              'STYLE', 'TAXONOMY_STYLE', 'COLOR_NAME', 'PRODUCT_CLASS',\n",
    "              'PRODUCT_SUBCLASS', 'TEAM', 'FRANCHISE', 'PRODUCT_GROUP']] #Took away timestamps and days since interaction"
   ]
  },
  {
   "cell_type": "code",
   "execution_count": 31,
   "id": "a6f0b4d3-d6d8-440b-98a7-89e9fc1c1383",
   "metadata": {
    "tags": []
   },
   "outputs": [],
   "source": [
    "sections = df.shape[0]//10000\n",
    "negative_data = []\n",
    "item_map = full_df['ITEM_ID'].unique()\n",
    "rng = np.random.default_rng()\n",
    "zero_multiplier = 1 #https://datascience.stackexchange.com/questions/6939/ratio-of-positive-to-negative-sample-in-data-set-for-best-classification\n",
    "#The above datascience stackexchange says 1:1 is a good ratio, i didn't look into it that much tho\n",
    "\n",
    "for chunk in np.array_split(df, sections):\n",
    "    user_id_counts = pd.value_counts(chunk.USER_ID)\n",
    "    item_ids = []\n",
    "    for user_id, count in user_id_counts.items():\n",
    "        item_ids.append(np.random.randint(low = 0, high = item_map.shape[0], size = count*zero_multiplier))\n",
    "    item_ids = np.concatenate(item_ids)\n",
    "    negative_data.append(pd.DataFrame({'USER_ID': np.repeat(user_id_counts.index, repeats = user_id_counts.values*zero_multiplier),\n",
    "                                       'ITEM_ID': item_map[item_ids],\n",
    "                                       'TARGET': 0}))\n",
    "negative_data.append(negative_sample)\n",
    "sample_data = pd.concat(negative_data)\n",
    "sample_data = sample_data.reset_index(drop = True)"
   ]
  },
  {
   "cell_type": "code",
   "execution_count": 32,
   "id": "9b706ec8-8100-4955-9e80-53cf449b0de3",
   "metadata": {
    "tags": []
   },
   "outputs": [],
   "source": [
    "#it was a battle to merge user info and item info with negatively sampled df can't promise its 100% correct"
   ]
  },
  {
   "cell_type": "code",
   "execution_count": 33,
   "id": "84da7081-ba01-4825-84a4-4dc1a5046ea1",
   "metadata": {
    "tags": []
   },
   "outputs": [],
   "source": [
    "df_subset = sample_data.merge(user_df, on = ['USER_ID', 'ITEM_ID'], how = 'outer').sort_values(['USER_ID', 'TARGET'], ascending=False).drop_duplicates(subset = ['USER_ID', 'ITEM_ID']).fillna(method='bfill')"
   ]
  },
  {
   "cell_type": "code",
   "execution_count": 34,
   "id": "6a576753-86db-4117-af30-8c893825ab37",
   "metadata": {
    "tags": []
   },
   "outputs": [],
   "source": [
    "df_subset = df_subset.merge(item_df, on = ['USER_ID', 'ITEM_ID'], how = 'outer').sort_values(['ITEM_ID', 'TARGET'], ascending=False).drop_duplicates(subset = ['USER_ID', 'ITEM_ID']).fillna(method='bfill')"
   ]
  },
  {
   "cell_type": "code",
   "execution_count": 35,
   "id": "e7437ef1-617b-4196-a0c2-cfd919420656",
   "metadata": {
    "tags": []
   },
   "outputs": [],
   "source": [
    "df = df_subset"
   ]
  },
  {
   "cell_type": "code",
   "execution_count": 36,
   "id": "23b013f6-8acc-41d4-9fa9-193ec7f1048a",
   "metadata": {
    "tags": []
   },
   "outputs": [
    {
     "data": {
      "text/plain": [
       "Index(['USER_ID', 'ITEM_ID', 'TARGET', 'COUNTRY', 'DERIVED_GENDER_BY_NAME',\n",
       "       'CLICKSTREAM_EVENTS_TOTAL', 'FIRST_PURCHASE_AT', 'FIRST_VISIT_AT',\n",
       "       'LATEST_VISIT_AT', 'LATEST_PURCHASE_AT', 'DAYS_SINCE_FIRST_VISIT',\n",
       "       'DAYS_SINCE_FIRST_PURCHASE', 'DAYS_SINCE_LAST_VISIT',\n",
       "       'DAYS_SINCE_LAST_PURCHASE', 'RECENT_VISIT', 'PRICE_INFORMATION',\n",
       "       'AVG_REVIEW_SCORE', 'STYLE', 'TAXONOMY_STYLE', 'COLOR_NAME',\n",
       "       'PRODUCT_CLASS', 'PRODUCT_SUBCLASS', 'TEAM', 'FRANCHISE',\n",
       "       'PRODUCT_GROUP'],\n",
       "      dtype='object')"
      ]
     },
     "execution_count": 36,
     "metadata": {},
     "output_type": "execute_result"
    }
   ],
   "source": [
    "df.columns"
   ]
  },
  {
   "cell_type": "code",
   "execution_count": 37,
   "id": "6dd79ec9-f741-4e0d-a46e-123e36c4f68c",
   "metadata": {
    "tags": []
   },
   "outputs": [],
   "source": [
    "#num rows\n",
    "data_size = df.shape[0]\n",
    "\n",
    "train_split_ratio = int(.33 * data_size)\n",
    "\n",
    "train = df[:-train_split_ratio].to_parquet(\"train.parquet\")\n",
    "valid = df[-train_split_ratio:].to_parquet(\"valid.parquet\")"
   ]
  },
  {
   "cell_type": "code",
   "execution_count": 38,
   "id": "d0ab6b8f-52dc-4246-b9f0-62751d2016ef",
   "metadata": {
    "tags": []
   },
   "outputs": [
    {
     "data": {
      "text/plain": [
       "0.4213125"
      ]
     },
     "execution_count": 38,
     "metadata": {},
     "output_type": "execute_result"
    }
   ],
   "source": [
    "len(sample_data[sample_data['TARGET'] > 0])/len(sample_data)"
   ]
  },
  {
   "cell_type": "markdown",
   "id": "7b424279-225c-4eef-b583-0427bc954c57",
   "metadata": {},
   "source": [
    "# EDA"
   ]
  },
  {
   "cell_type": "code",
   "execution_count": null,
   "id": "770badc5-5a3d-4282-a455-fef1eff25209",
   "metadata": {
    "tags": []
   },
   "outputs": [],
   "source": []
  },
  {
   "cell_type": "code",
   "execution_count": null,
   "id": "74fc862f-90f9-4db2-858b-bc4e93925ab2",
   "metadata": {},
   "outputs": [],
   "source": []
  },
  {
   "cell_type": "markdown",
   "id": "da5efa1f-91e7-4c32-a882-6bbe6fe26555",
   "metadata": {},
   "source": [
    "# NVTabular"
   ]
  },
  {
   "cell_type": "code",
   "execution_count": 39,
   "id": "5f247a55-cbdd-4cce-8b47-7e939e0984e9",
   "metadata": {},
   "outputs": [],
   "source": [
    "#This is how to iniate a dataset using NVtabular an NVIDIA \n",
    "#optimized ETL/feature engineering(i think?) library\n",
    "#data = nvt.io.dataset.Dataset('data/reviews.csv')"
   ]
  },
  {
   "cell_type": "code",
   "execution_count": 40,
   "id": "7d3c6c8f-282a-489f-8e5c-51411edc1435",
   "metadata": {
    "tags": []
   },
   "outputs": [],
   "source": [
    "categorical_user_features = ['COUNTRY']\n",
    "categorical_item_features = ['STYLE', 'TAXONOMY_STYLE', 'COLOR_NAME', 'PRODUCT_CLASS', 'PRODUCT_SUBCLASS', 'TEAM', 'FRANCHISE', 'PRODUCT_GROUP']"
   ]
  },
  {
   "cell_type": "code",
   "execution_count": 41,
   "id": "f941f6d0-41be-4177-aac5-a884aa7bb630",
   "metadata": {
    "tags": []
   },
   "outputs": [],
   "source": [
    "#Features needed to Transform still: FIRST_PURCHASE_AT, FIRST_VISIT_AT, LATEST_VISIT_AT\n",
    "# LATEST_PURCHASE_AT, EVENT_TIMESTAMP"
   ]
  },
  {
   "cell_type": "code",
   "execution_count": 42,
   "id": "c397eb73-c1bc-4e1b-838c-d72a85c2adb1",
   "metadata": {
    "tags": []
   },
   "outputs": [],
   "source": [
    "#DON'T FORGET TARGET ENCODING CATEGORICAL VALUES"
   ]
  },
  {
   "cell_type": "code",
   "execution_count": 43,
   "id": "74895def-f932-4e9c-b1f8-0d78da2b7571",
   "metadata": {
    "tags": []
   },
   "outputs": [],
   "source": [
    "user_id = [\"USER_ID\"] >> Categorify(dtype = \"int32\", out_path='categories') >> TagAsUserID()\n",
    "item_id = [\"ITEM_ID\"] >> Categorify(dtype = \"int32\", out_path='categories') >> TagAsItemID()\n",
    "\n",
    "target = (\n",
    "    #Turn categorical into continuous\n",
    "    nvt.ColumnSelector([\"TARGET\"])\n",
    "    #>> LambdaOp(lambda col: (col > 0).astype(\"int32\")) CHANGES ALL WEIGHTS TO 1 \n",
    "    >> AddTags([\"binary_classification\", \"target\"])\n",
    "    >> Rename(name=\"INTERACTION_BINARY\")\n",
    ")\n",
    "\n",
    "item_features = categorical_item_features >> Categorify(dtype = \"int32\") >> TagAsItemFeatures()\n",
    "user_features = categorical_user_features >> Categorify(dtype = \"int32\") >> TagAsUserFeatures()"
   ]
  },
  {
   "cell_type": "code",
   "execution_count": 44,
   "id": "9d3d475a-df44-4291-bbd7-1f534e8d5c34",
   "metadata": {
    "tags": []
   },
   "outputs": [],
   "source": [
    "#Make this more succinct\n",
    "CLICKSTREAM_EVENTS_TOTAL = (\n",
    "    nvt.ColumnSelector(['CLICKSTREAM_EVENTS_TOTAL'])\n",
    "    >>FillMissing(1)\n",
    "    >>LogOp()\n",
    "    >>Normalize()\n",
    "    >>LambdaOp(lambda col: col.astype(\"float32\"))\n",
    "    >>TagAsUserFeatures()\n",
    ")\n",
    "\n",
    "#has the price changed over time?\n",
    "PRICE_INFORMATION = (\n",
    "    ['PRICE_INFORMATION']\n",
    "    >>FillMissing(1)\n",
    "    >>LogOp()\n",
    "    >>Normalize()\n",
    "    >>LambdaOp(lambda col: col.astype(\"float32\"))\n",
    "    >>TagAsItemFeatures()\n",
    ")\n",
    "\n",
    "AVG_REVIEW_SCORE = (\n",
    "    ['AVG_REVIEW_SCORE']\n",
    "    >>Normalize()\n",
    "    >>LambdaOp(lambda col: col**2)\n",
    "    >>TagAsItemFeatures()\n",
    ")\n",
    "\n",
    "INTERACTION_TIMESTAMP = (\n",
    "    nvt.ColumnSelector(['DAYS_SINCE_INTERACTION'])\n",
    "    #>>Normalize()\n",
    "    >>TagAsUserFeatures()\n",
    ")\n",
    "\n",
    "DAYS_SINCE_LAST_VISIT = (\n",
    "    nvt.ColumnSelector(['DAYS_SINCE_LAST_VISIT'])\n",
    "    >>TagAsUserFeatures()\n",
    ")\n"
   ]
  },
  {
   "cell_type": "code",
   "execution_count": 45,
   "id": "690179d7-afc5-4e32-998b-0ce599c38c9b",
   "metadata": {
    "tags": []
   },
   "outputs": [],
   "source": [
    "categorical_features = (categorical_item_features) #Just a place holder... redo with better categories\n",
    "user_cat_features = (user_features)\n",
    "label = nvt.ColumnSelector(['TARGET'])\n",
    "te_features = categorical_features >> TargetEncoding(label)\n",
    "user_feats = user_cat_features >> TargetEncoding(label)\n",
    "te_features_norm = te_features >> Normalize() >> LambdaOp(lambda col: col.astype('float32')) >> TagAsItemFeatures()\n",
    "user_cat_features_norm = user_feats >> Normalize() >> LambdaOp(lambda col: col.astype('float32')) >> TagAsItemFeatures()"
   ]
  },
  {
   "cell_type": "code",
   "execution_count": 46,
   "id": "19e65950-c396-4a0c-be31-65adaaa63418",
   "metadata": {
    "tags": []
   },
   "outputs": [
    {
     "name": "stderr",
     "output_type": "stream",
     "text": [
      "/Users/andrew/anaconda3/lib/python3.11/site-packages/merlin/io/dataset.py:267: UserWarning: Initializing an NVTabular Dataset in CPU mode.This is an experimental feature with extremely limited support!\n",
      "  warnings.warn(\n",
      "/Users/andrew/anaconda3/lib/python3.11/site-packages/merlin/io/dataset.py:267: UserWarning: Initializing an NVTabular Dataset in CPU mode.This is an experimental feature with extremely limited support!\n",
      "  warnings.warn(\n",
      "/Users/andrew/anaconda3/lib/python3.11/site-packages/merlin/io/dataset.py:267: UserWarning: Initializing an NVTabular Dataset in CPU mode.This is an experimental feature with extremely limited support!\n",
      "  warnings.warn(\n",
      "/Users/andrew/anaconda3/lib/python3.11/site-packages/merlin/io/dataset.py:267: UserWarning: Initializing an NVTabular Dataset in CPU mode.This is an experimental feature with extremely limited support!\n",
      "  warnings.warn(\n",
      "/Users/andrew/anaconda3/lib/python3.11/site-packages/merlin/io/dataset.py:267: UserWarning: Initializing an NVTabular Dataset in CPU mode.This is an experimental feature with extremely limited support!\n",
      "  warnings.warn(\n"
     ]
    }
   ],
   "source": [
    "output = (\n",
    "    user_id + \n",
    "    item_id +\n",
    "    target +\n",
    "    CLICKSTREAM_EVENTS_TOTAL + \n",
    "    te_features +\n",
    "    user_feats +\n",
    "    # INTERACTION_TIMESTAMP +\n",
    "    DAYS_SINCE_LAST_VISIT + \n",
    "    #PRICE_INFORMATION + #<< THIS CAUSES MODEL TO CRASH AND BURN\n",
    "    AVG_REVIEW_SCORE\n",
    ")\n",
    "\n",
    "workflow_fit_transform(output, 'train.parquet', 'valid.parquet', 'integration') #< What is integration"
   ]
  },
  {
   "cell_type": "code",
   "execution_count": 47,
   "id": "5261238e-74f6-42ab-b059-62ff5cd24f25",
   "metadata": {
    "tags": []
   },
   "outputs": [
    {
     "name": "stderr",
     "output_type": "stream",
     "text": [
      "/Users/andrew/anaconda3/lib/python3.11/site-packages/merlin/io/dataset.py:267: UserWarning: Initializing an NVTabular Dataset in CPU mode.This is an experimental feature with extremely limited support!\n",
      "  warnings.warn(\n",
      "/Users/andrew/anaconda3/lib/python3.11/site-packages/merlin/io/dataset.py:267: UserWarning: Initializing an NVTabular Dataset in CPU mode.This is an experimental feature with extremely limited support!\n",
      "  warnings.warn(\n"
     ]
    }
   ],
   "source": [
    "train = merlin.io.Dataset(\n",
    "    os.path.join(\"integration\", \"train\"), engine=\"parquet\"\n",
    ")\n",
    "valid = merlin.io.Dataset(\n",
    "    os.path.join(\"integration\", \"valid\"), engine=\"parquet\"\n",
    ")"
   ]
  },
  {
   "cell_type": "code",
   "execution_count": 48,
   "id": "0041b930-fb81-4c43-8f59-6c7a62d14cfd",
   "metadata": {
    "tags": []
   },
   "outputs": [
    {
     "data": {
      "text/plain": [
       "<Axes: >"
      ]
     },
     "execution_count": 48,
     "metadata": {},
     "output_type": "execute_result"
    },
    {
     "data": {
      "image/png": "[encoded data removed]",
      "text/plain": [
       "<Figure size 640x480 with 2 Axes>"
      ]
     },
     "metadata": {},
     "output_type": "display_data"
    }
   ],
   "source": [
    "data = pl.read_parquet('integration/train/part_0.parquet').to_pandas().corr()\n",
    "sns.heatmap(data)"
   ]
  },
  {
   "cell_type": "code",
   "execution_count": 49,
   "id": "be49acc6-8b7d-4a94-8b3f-6dbc5e53b118",
   "metadata": {
    "tags": []
   },
   "outputs": [
    {
     "data": {
      "text/html": [
       "<div>\n",
       "<style scoped>\n",
       "    .dataframe tbody tr th:only-of-type {\n",
       "        vertical-align: middle;\n",
       "    }\n",
       "\n",
       "    .dataframe tbody tr th {\n",
       "        vertical-align: top;\n",
       "    }\n",
       "\n",
       "    .dataframe thead th {\n",
       "        text-align: right;\n",
       "    }\n",
       "</style>\n",
       "<table border=\"1\" class=\"dataframe\">\n",
       "  <thead>\n",
       "    <tr style=\"text-align: right;\">\n",
       "      <th></th>\n",
       "      <th>USER_ID</th>\n",
       "      <th>ITEM_ID</th>\n",
       "      <th>INTERACTION_BINARY</th>\n",
       "      <th>CLICKSTREAM_EVENTS_TOTAL</th>\n",
       "      <th>TE_STYLE_TARGET</th>\n",
       "      <th>TE_TAXONOMY_STYLE_TARGET</th>\n",
       "      <th>TE_COLOR_NAME_TARGET</th>\n",
       "      <th>TE_PRODUCT_CLASS_TARGET</th>\n",
       "      <th>TE_PRODUCT_SUBCLASS_TARGET</th>\n",
       "      <th>TE_TEAM_TARGET</th>\n",
       "      <th>TE_FRANCHISE_TARGET</th>\n",
       "      <th>TE_PRODUCT_GROUP_TARGET</th>\n",
       "      <th>TE_COUNTRY_TARGET</th>\n",
       "      <th>DAYS_SINCE_LAST_VISIT</th>\n",
       "      <th>AVG_REVIEW_SCORE</th>\n",
       "    </tr>\n",
       "  </thead>\n",
       "  <tbody>\n",
       "    <tr>\n",
       "      <th>USER_ID</th>\n",
       "      <td>1.000000</td>\n",
       "      <td>-0.004699</td>\n",
       "      <td>-0.023486</td>\n",
       "      <td>-0.254999</td>\n",
       "      <td>0.007154</td>\n",
       "      <td>0.006060</td>\n",
       "      <td>0.023341</td>\n",
       "      <td>0.007735</td>\n",
       "      <td>0.011771</td>\n",
       "      <td>-0.011301</td>\n",
       "      <td>0.005411</td>\n",
       "      <td>0.006529</td>\n",
       "      <td>-0.003903</td>\n",
       "      <td>0.081640</td>\n",
       "      <td>0.002299</td>\n",
       "    </tr>\n",
       "    <tr>\n",
       "      <th>ITEM_ID</th>\n",
       "      <td>-0.004699</td>\n",
       "      <td>1.000000</td>\n",
       "      <td>-0.591005</td>\n",
       "      <td>-0.035011</td>\n",
       "      <td>-0.526568</td>\n",
       "      <td>-0.534457</td>\n",
       "      <td>-0.659411</td>\n",
       "      <td>-0.394458</td>\n",
       "      <td>-0.430147</td>\n",
       "      <td>-0.142497</td>\n",
       "      <td>-0.501010</td>\n",
       "      <td>-0.382479</td>\n",
       "      <td>0.007176</td>\n",
       "      <td>0.033976</td>\n",
       "      <td>0.161952</td>\n",
       "    </tr>\n",
       "    <tr>\n",
       "      <th>INTERACTION_BINARY</th>\n",
       "      <td>-0.023486</td>\n",
       "      <td>-0.591005</td>\n",
       "      <td>1.000000</td>\n",
       "      <td>0.070995</td>\n",
       "      <td>0.426234</td>\n",
       "      <td>0.433228</td>\n",
       "      <td>0.529067</td>\n",
       "      <td>0.333303</td>\n",
       "      <td>0.357276</td>\n",
       "      <td>0.099687</td>\n",
       "      <td>0.407574</td>\n",
       "      <td>0.315087</td>\n",
       "      <td>-0.001810</td>\n",
       "      <td>-0.030590</td>\n",
       "      <td>-0.129347</td>\n",
       "    </tr>\n",
       "    <tr>\n",
       "      <th>CLICKSTREAM_EVENTS_TOTAL</th>\n",
       "      <td>-0.254999</td>\n",
       "      <td>-0.035011</td>\n",
       "      <td>0.070995</td>\n",
       "      <td>1.000000</td>\n",
       "      <td>0.008031</td>\n",
       "      <td>0.006972</td>\n",
       "      <td>0.010884</td>\n",
       "      <td>0.005390</td>\n",
       "      <td>0.010684</td>\n",
       "      <td>0.005222</td>\n",
       "      <td>0.004393</td>\n",
       "      <td>0.007882</td>\n",
       "      <td>0.009039</td>\n",
       "      <td>-0.530154</td>\n",
       "      <td>0.005247</td>\n",
       "    </tr>\n",
       "    <tr>\n",
       "      <th>TE_STYLE_TARGET</th>\n",
       "      <td>0.007154</td>\n",
       "      <td>-0.526568</td>\n",
       "      <td>0.426234</td>\n",
       "      <td>0.008031</td>\n",
       "      <td>1.000000</td>\n",
       "      <td>0.984777</td>\n",
       "      <td>0.731308</td>\n",
       "      <td>0.770429</td>\n",
       "      <td>0.843067</td>\n",
       "      <td>0.231902</td>\n",
       "      <td>0.956132</td>\n",
       "      <td>0.730708</td>\n",
       "      <td>0.005300</td>\n",
       "      <td>-0.050626</td>\n",
       "      <td>-0.294731</td>\n",
       "    </tr>\n",
       "    <tr>\n",
       "      <th>TE_TAXONOMY_STYLE_TARGET</th>\n",
       "      <td>0.006060</td>\n",
       "      <td>-0.534457</td>\n",
       "      <td>0.433228</td>\n",
       "      <td>0.006972</td>\n",
       "      <td>0.984777</td>\n",
       "      <td>1.000000</td>\n",
       "      <td>0.745529</td>\n",
       "      <td>0.758860</td>\n",
       "      <td>0.830138</td>\n",
       "      <td>0.234264</td>\n",
       "      <td>0.941290</td>\n",
       "      <td>0.719707</td>\n",
       "      <td>0.004698</td>\n",
       "      <td>-0.048247</td>\n",
       "      <td>-0.296715</td>\n",
       "    </tr>\n",
       "    <tr>\n",
       "      <th>TE_COLOR_NAME_TARGET</th>\n",
       "      <td>0.023341</td>\n",
       "      <td>-0.659411</td>\n",
       "      <td>0.529067</td>\n",
       "      <td>0.010884</td>\n",
       "      <td>0.731308</td>\n",
       "      <td>0.745529</td>\n",
       "      <td>1.000000</td>\n",
       "      <td>0.588008</td>\n",
       "      <td>0.629878</td>\n",
       "      <td>0.188213</td>\n",
       "      <td>0.697429</td>\n",
       "      <td>0.566957</td>\n",
       "      <td>-0.000165</td>\n",
       "      <td>-0.047686</td>\n",
       "      <td>-0.243708</td>\n",
       "    </tr>\n",
       "    <tr>\n",
       "      <th>TE_PRODUCT_CLASS_TARGET</th>\n",
       "      <td>0.007735</td>\n",
       "      <td>-0.394458</td>\n",
       "      <td>0.333303</td>\n",
       "      <td>0.005390</td>\n",
       "      <td>0.770429</td>\n",
       "      <td>0.758860</td>\n",
       "      <td>0.588008</td>\n",
       "      <td>1.000000</td>\n",
       "      <td>0.931428</td>\n",
       "      <td>0.474557</td>\n",
       "      <td>0.815113</td>\n",
       "      <td>0.951763</td>\n",
       "      <td>0.002820</td>\n",
       "      <td>-0.017700</td>\n",
       "      <td>-0.272868</td>\n",
       "    </tr>\n",
       "    <tr>\n",
       "      <th>TE_PRODUCT_SUBCLASS_TARGET</th>\n",
       "      <td>0.011771</td>\n",
       "      <td>-0.430147</td>\n",
       "      <td>0.357276</td>\n",
       "      <td>0.010684</td>\n",
       "      <td>0.843067</td>\n",
       "      <td>0.830138</td>\n",
       "      <td>0.629878</td>\n",
       "      <td>0.931428</td>\n",
       "      <td>1.000000</td>\n",
       "      <td>0.282311</td>\n",
       "      <td>0.876104</td>\n",
       "      <td>0.876542</td>\n",
       "      <td>0.003712</td>\n",
       "      <td>-0.036097</td>\n",
       "      <td>-0.267927</td>\n",
       "    </tr>\n",
       "    <tr>\n",
       "      <th>TE_TEAM_TARGET</th>\n",
       "      <td>-0.011301</td>\n",
       "      <td>-0.142497</td>\n",
       "      <td>0.099687</td>\n",
       "      <td>0.005222</td>\n",
       "      <td>0.231902</td>\n",
       "      <td>0.234264</td>\n",
       "      <td>0.188213</td>\n",
       "      <td>0.474557</td>\n",
       "      <td>0.282311</td>\n",
       "      <td>1.000000</td>\n",
       "      <td>0.239770</td>\n",
       "      <td>0.390854</td>\n",
       "      <td>0.003393</td>\n",
       "      <td>0.021327</td>\n",
       "      <td>-0.077839</td>\n",
       "    </tr>\n",
       "    <tr>\n",
       "      <th>TE_FRANCHISE_TARGET</th>\n",
       "      <td>0.005411</td>\n",
       "      <td>-0.501010</td>\n",
       "      <td>0.407574</td>\n",
       "      <td>0.004393</td>\n",
       "      <td>0.956132</td>\n",
       "      <td>0.941290</td>\n",
       "      <td>0.697429</td>\n",
       "      <td>0.815113</td>\n",
       "      <td>0.876104</td>\n",
       "      <td>0.239770</td>\n",
       "      <td>1.000000</td>\n",
       "      <td>0.771590</td>\n",
       "      <td>0.006135</td>\n",
       "      <td>-0.044492</td>\n",
       "      <td>-0.291540</td>\n",
       "    </tr>\n",
       "    <tr>\n",
       "      <th>TE_PRODUCT_GROUP_TARGET</th>\n",
       "      <td>0.006529</td>\n",
       "      <td>-0.382479</td>\n",
       "      <td>0.315087</td>\n",
       "      <td>0.007882</td>\n",
       "      <td>0.730708</td>\n",
       "      <td>0.719707</td>\n",
       "      <td>0.566957</td>\n",
       "      <td>0.951763</td>\n",
       "      <td>0.876542</td>\n",
       "      <td>0.390854</td>\n",
       "      <td>0.771590</td>\n",
       "      <td>1.000000</td>\n",
       "      <td>0.002462</td>\n",
       "      <td>-0.019098</td>\n",
       "      <td>-0.235089</td>\n",
       "    </tr>\n",
       "    <tr>\n",
       "      <th>TE_COUNTRY_TARGET</th>\n",
       "      <td>-0.003903</td>\n",
       "      <td>0.007176</td>\n",
       "      <td>-0.001810</td>\n",
       "      <td>0.009039</td>\n",
       "      <td>0.005300</td>\n",
       "      <td>0.004698</td>\n",
       "      <td>-0.000165</td>\n",
       "      <td>0.002820</td>\n",
       "      <td>0.003712</td>\n",
       "      <td>0.003393</td>\n",
       "      <td>0.006135</td>\n",
       "      <td>0.002462</td>\n",
       "      <td>1.000000</td>\n",
       "      <td>-0.006608</td>\n",
       "      <td>0.002366</td>\n",
       "    </tr>\n",
       "    <tr>\n",
       "      <th>DAYS_SINCE_LAST_VISIT</th>\n",
       "      <td>0.081640</td>\n",
       "      <td>0.033976</td>\n",
       "      <td>-0.030590</td>\n",
       "      <td>-0.530154</td>\n",
       "      <td>-0.050626</td>\n",
       "      <td>-0.048247</td>\n",
       "      <td>-0.047686</td>\n",
       "      <td>-0.017700</td>\n",
       "      <td>-0.036097</td>\n",
       "      <td>0.021327</td>\n",
       "      <td>-0.044492</td>\n",
       "      <td>-0.019098</td>\n",
       "      <td>-0.006608</td>\n",
       "      <td>1.000000</td>\n",
       "      <td>0.010954</td>\n",
       "    </tr>\n",
       "    <tr>\n",
       "      <th>AVG_REVIEW_SCORE</th>\n",
       "      <td>0.002299</td>\n",
       "      <td>0.161952</td>\n",
       "      <td>-0.129347</td>\n",
       "      <td>0.005247</td>\n",
       "      <td>-0.294731</td>\n",
       "      <td>-0.296715</td>\n",
       "      <td>-0.243708</td>\n",
       "      <td>-0.272868</td>\n",
       "      <td>-0.267927</td>\n",
       "      <td>-0.077839</td>\n",
       "      <td>-0.291540</td>\n",
       "      <td>-0.235089</td>\n",
       "      <td>0.002366</td>\n",
       "      <td>0.010954</td>\n",
       "      <td>1.000000</td>\n",
       "    </tr>\n",
       "  </tbody>\n",
       "</table>\n",
       "</div>"
      ],
      "text/plain": [
       "                             USER_ID   ITEM_ID  INTERACTION_BINARY  \\\n",
       "USER_ID                     1.000000 -0.004699           -0.023486   \n",
       "ITEM_ID                    -0.004699  1.000000           -0.591005   \n",
       "INTERACTION_BINARY         -0.023486 -0.591005            1.000000   \n",
       "CLICKSTREAM_EVENTS_TOTAL   -0.254999 -0.035011            0.070995   \n",
       "TE_STYLE_TARGET             0.007154 -0.526568            0.426234   \n",
       "TE_TAXONOMY_STYLE_TARGET    0.006060 -0.534457            0.433228   \n",
       "TE_COLOR_NAME_TARGET        0.023341 -0.659411            0.529067   \n",
       "TE_PRODUCT_CLASS_TARGET     0.007735 -0.394458            0.333303   \n",
       "TE_PRODUCT_SUBCLASS_TARGET  0.011771 -0.430147            0.357276   \n",
       "TE_TEAM_TARGET             -0.011301 -0.142497            0.099687   \n",
       "TE_FRANCHISE_TARGET         0.005411 -0.501010            0.407574   \n",
       "TE_PRODUCT_GROUP_TARGET     0.006529 -0.382479            0.315087   \n",
       "TE_COUNTRY_TARGET          -0.003903  0.007176           -0.001810   \n",
       "DAYS_SINCE_LAST_VISIT       0.081640  0.033976           -0.030590   \n",
       "AVG_REVIEW_SCORE            0.002299  0.161952           -0.129347   \n",
       "\n",
       "                            CLICKSTREAM_EVENTS_TOTAL  TE_STYLE_TARGET  \\\n",
       "USER_ID                                    -0.254999         0.007154   \n",
       "ITEM_ID                                    -0.035011        -0.526568   \n",
       "INTERACTION_BINARY                          0.070995         0.426234   \n",
       "CLICKSTREAM_EVENTS_TOTAL                    1.000000         0.008031   \n",
       "TE_STYLE_TARGET                             0.008031         1.000000   \n",
       "TE_TAXONOMY_STYLE_TARGET                    0.006972         0.984777   \n",
       "TE_COLOR_NAME_TARGET                        0.010884         0.731308   \n",
       "TE_PRODUCT_CLASS_TARGET                     0.005390         0.770429   \n",
       "TE_PRODUCT_SUBCLASS_TARGET                  0.010684         0.843067   \n",
       "TE_TEAM_TARGET                              0.005222         0.231902   \n",
       "TE_FRANCHISE_TARGET                         0.004393         0.956132   \n",
       "TE_PRODUCT_GROUP_TARGET                     0.007882         0.730708   \n",
       "TE_COUNTRY_TARGET                           0.009039         0.005300   \n",
       "DAYS_SINCE_LAST_VISIT                      -0.530154        -0.050626   \n",
       "AVG_REVIEW_SCORE                            0.005247        -0.294731   \n",
       "\n",
       "                            TE_TAXONOMY_STYLE_TARGET  TE_COLOR_NAME_TARGET  \\\n",
       "USER_ID                                     0.006060              0.023341   \n",
       "ITEM_ID                                    -0.534457             -0.659411   \n",
       "INTERACTION_BINARY                          0.433228              0.529067   \n",
       "CLICKSTREAM_EVENTS_TOTAL                    0.006972              0.010884   \n",
       "TE_STYLE_TARGET                             0.984777              0.731308   \n",
       "TE_TAXONOMY_STYLE_TARGET                    1.000000              0.745529   \n",
       "TE_COLOR_NAME_TARGET                        0.745529              1.000000   \n",
       "TE_PRODUCT_CLASS_TARGET                     0.758860              0.588008   \n",
       "TE_PRODUCT_SUBCLASS_TARGET                  0.830138              0.629878   \n",
       "TE_TEAM_TARGET                              0.234264              0.188213   \n",
       "TE_FRANCHISE_TARGET                         0.941290              0.697429   \n",
       "TE_PRODUCT_GROUP_TARGET                     0.719707              0.566957   \n",
       "TE_COUNTRY_TARGET                           0.004698             -0.000165   \n",
       "DAYS_SINCE_LAST_VISIT                      -0.048247             -0.047686   \n",
       "AVG_REVIEW_SCORE                           -0.296715             -0.243708   \n",
       "\n",
       "                            TE_PRODUCT_CLASS_TARGET  \\\n",
       "USER_ID                                    0.007735   \n",
       "ITEM_ID                                   -0.394458   \n",
       "INTERACTION_BINARY                         0.333303   \n",
       "CLICKSTREAM_EVENTS_TOTAL                   0.005390   \n",
       "TE_STYLE_TARGET                            0.770429   \n",
       "TE_TAXONOMY_STYLE_TARGET                   0.758860   \n",
       "TE_COLOR_NAME_TARGET                       0.588008   \n",
       "TE_PRODUCT_CLASS_TARGET                    1.000000   \n",
       "TE_PRODUCT_SUBCLASS_TARGET                 0.931428   \n",
       "TE_TEAM_TARGET                             0.474557   \n",
       "TE_FRANCHISE_TARGET                        0.815113   \n",
       "TE_PRODUCT_GROUP_TARGET                    0.951763   \n",
       "TE_COUNTRY_TARGET                          0.002820   \n",
       "DAYS_SINCE_LAST_VISIT                     -0.017700   \n",
       "AVG_REVIEW_SCORE                          -0.272868   \n",
       "\n",
       "                            TE_PRODUCT_SUBCLASS_TARGET  TE_TEAM_TARGET  \\\n",
       "USER_ID                                       0.011771       -0.011301   \n",
       "ITEM_ID                                      -0.430147       -0.142497   \n",
       "INTERACTION_BINARY                            0.357276        0.099687   \n",
       "CLICKSTREAM_EVENTS_TOTAL                      0.010684        0.005222   \n",
       "TE_STYLE_TARGET                               0.843067        0.231902   \n",
       "TE_TAXONOMY_STYLE_TARGET                      0.830138        0.234264   \n",
       "TE_COLOR_NAME_TARGET                          0.629878        0.188213   \n",
       "TE_PRODUCT_CLASS_TARGET                       0.931428        0.474557   \n",
       "TE_PRODUCT_SUBCLASS_TARGET                    1.000000        0.282311   \n",
       "TE_TEAM_TARGET                                0.282311        1.000000   \n",
       "TE_FRANCHISE_TARGET                           0.876104        0.239770   \n",
       "TE_PRODUCT_GROUP_TARGET                       0.876542        0.390854   \n",
       "TE_COUNTRY_TARGET                             0.003712        0.003393   \n",
       "DAYS_SINCE_LAST_VISIT                        -0.036097        0.021327   \n",
       "AVG_REVIEW_SCORE                             -0.267927       -0.077839   \n",
       "\n",
       "                            TE_FRANCHISE_TARGET  TE_PRODUCT_GROUP_TARGET  \\\n",
       "USER_ID                                0.005411                 0.006529   \n",
       "ITEM_ID                               -0.501010                -0.382479   \n",
       "INTERACTION_BINARY                     0.407574                 0.315087   \n",
       "CLICKSTREAM_EVENTS_TOTAL               0.004393                 0.007882   \n",
       "TE_STYLE_TARGET                        0.956132                 0.730708   \n",
       "TE_TAXONOMY_STYLE_TARGET               0.941290                 0.719707   \n",
       "TE_COLOR_NAME_TARGET                   0.697429                 0.566957   \n",
       "TE_PRODUCT_CLASS_TARGET                0.815113                 0.951763   \n",
       "TE_PRODUCT_SUBCLASS_TARGET             0.876104                 0.876542   \n",
       "TE_TEAM_TARGET                         0.239770                 0.390854   \n",
       "TE_FRANCHISE_TARGET                    1.000000                 0.771590   \n",
       "TE_PRODUCT_GROUP_TARGET                0.771590                 1.000000   \n",
       "TE_COUNTRY_TARGET                      0.006135                 0.002462   \n",
       "DAYS_SINCE_LAST_VISIT                 -0.044492                -0.019098   \n",
       "AVG_REVIEW_SCORE                      -0.291540                -0.235089   \n",
       "\n",
       "                            TE_COUNTRY_TARGET  DAYS_SINCE_LAST_VISIT  \\\n",
       "USER_ID                             -0.003903               0.081640   \n",
       "ITEM_ID                              0.007176               0.033976   \n",
       "INTERACTION_BINARY                  -0.001810              -0.030590   \n",
       "CLICKSTREAM_EVENTS_TOTAL             0.009039              -0.530154   \n",
       "TE_STYLE_TARGET                      0.005300              -0.050626   \n",
       "TE_TAXONOMY_STYLE_TARGET             0.004698              -0.048247   \n",
       "TE_COLOR_NAME_TARGET                -0.000165              -0.047686   \n",
       "TE_PRODUCT_CLASS_TARGET              0.002820              -0.017700   \n",
       "TE_PRODUCT_SUBCLASS_TARGET           0.003712              -0.036097   \n",
       "TE_TEAM_TARGET                       0.003393               0.021327   \n",
       "TE_FRANCHISE_TARGET                  0.006135              -0.044492   \n",
       "TE_PRODUCT_GROUP_TARGET              0.002462              -0.019098   \n",
       "TE_COUNTRY_TARGET                    1.000000              -0.006608   \n",
       "DAYS_SINCE_LAST_VISIT               -0.006608               1.000000   \n",
       "AVG_REVIEW_SCORE                     0.002366               0.010954   \n",
       "\n",
       "                            AVG_REVIEW_SCORE  \n",
       "USER_ID                             0.002299  \n",
       "ITEM_ID                             0.161952  \n",
       "INTERACTION_BINARY                 -0.129347  \n",
       "CLICKSTREAM_EVENTS_TOTAL            0.005247  \n",
       "TE_STYLE_TARGET                    -0.294731  \n",
       "TE_TAXONOMY_STYLE_TARGET           -0.296715  \n",
       "TE_COLOR_NAME_TARGET               -0.243708  \n",
       "TE_PRODUCT_CLASS_TARGET            -0.272868  \n",
       "TE_PRODUCT_SUBCLASS_TARGET         -0.267927  \n",
       "TE_TEAM_TARGET                     -0.077839  \n",
       "TE_FRANCHISE_TARGET                -0.291540  \n",
       "TE_PRODUCT_GROUP_TARGET            -0.235089  \n",
       "TE_COUNTRY_TARGET                   0.002366  \n",
       "DAYS_SINCE_LAST_VISIT               0.010954  \n",
       "AVG_REVIEW_SCORE                    1.000000  "
      ]
     },
     "execution_count": 49,
     "metadata": {},
     "output_type": "execute_result"
    }
   ],
   "source": [
    "data"
   ]
  },
  {
   "cell_type": "markdown",
   "id": "f8bcd359-0fbc-4ac2-b660-23d57e375134",
   "metadata": {},
   "source": [
    "## Model"
   ]
  },
  {
   "cell_type": "code",
   "execution_count": 134,
   "id": "1e5abead-b598-451f-bd9f-8d80a61e89e1",
   "metadata": {
    "tags": []
   },
   "outputs": [
    {
     "name": "stdout",
     "output_type": "stream",
     "text": [
      "7/7 [==============================] - 2s 222ms/step - loss: 0.5896 - recall: 0.3951 - precision: 0.6115 - regularization_loss: 0.0000e+00 - loss_batch: 0.6418 - val_loss: 0.7108 - val_recall: 0.9637 - val_precision: 0.4290 - val_regularization_loss: 0.0000e+00 - val_loss_batch: 0.6916\n",
      "25/25 [==============================] - 0s 1ms/step - loss: 0.7108 - recall: 0.9637 - precision: 0.4290 - regularization_loss: 0.0000e+00 - loss_batch: 0.7088\n",
      "7/7 [==============================] - 1s 55ms/step - loss: 0.5854 - recall: 0.4517 - precision: 0.5806 - regularization_loss: 0.0000e+00 - loss_batch: 0.6076 - val_loss: 0.6551 - val_recall: 0.5021 - val_precision: 0.5205 - val_regularization_loss: 0.0000e+00 - val_loss_batch: 0.6952\n",
      "25/25 [==============================] - 0s 1ms/step - loss: 0.6551 - recall: 0.5021 - precision: 0.5205 - regularization_loss: 0.0000e+00 - loss_batch: 0.6586\n",
      "7/7 [==============================] - 1s 54ms/step - loss: 0.5820 - recall: 0.4156 - precision: 0.6460 - regularization_loss: 0.0000e+00 - loss_batch: 0.6085 - val_loss: 0.6979 - val_recall: 0.9436 - val_precision: 0.4476 - val_regularization_loss: 0.0000e+00 - val_loss_batch: 0.6870\n",
      "25/25 [==============================] - 0s 1ms/step - loss: 0.6979 - recall: 0.9436 - precision: 0.4476 - regularization_loss: 0.0000e+00 - loss_batch: 0.6973\n",
      "7/7 [==============================] - 1s 55ms/step - loss: 0.5783 - recall: 0.4426 - precision: 0.6102 - regularization_loss: 0.0000e+00 - loss_batch: 0.5987 - val_loss: 0.6682 - val_recall: 0.2365 - val_precision: 0.5566 - val_regularization_loss: 0.0000e+00 - val_loss_batch: 0.7503\n",
      "25/25 [==============================] - 0s 1ms/step - loss: 0.6682 - recall: 0.2365 - precision: 0.5566 - regularization_loss: 0.0000e+00 - loss_batch: 0.6742\n",
      "7/7 [==============================] - 1s 56ms/step - loss: 0.5826 - recall: 0.4497 - precision: 0.5903 - regularization_loss: 0.0000e+00 - loss_batch: 0.6076 - val_loss: 0.6639 - val_recall: 0.5739 - val_precision: 0.4874 - val_regularization_loss: 0.0000e+00 - val_loss_batch: 0.6903\n",
      "25/25 [==============================] - 0s 1ms/step - loss: 0.6639 - recall: 0.5739 - precision: 0.4874 - regularization_loss: 0.0000e+00 - loss_batch: 0.6655\n",
      "7/7 [==============================] - 1s 54ms/step - loss: 0.6026 - recall: 0.2710 - precision: 0.5704 - regularization_loss: 0.0000e+00 - loss_batch: 0.6433 - val_loss: 0.6721 - val_recall: 0.0738 - val_precision: 0.6127 - val_regularization_loss: 0.0000e+00 - val_loss_batch: 0.7565\n",
      "25/25 [==============================] - 0s 1ms/step - loss: 0.6721 - recall: 0.0738 - precision: 0.6127 - regularization_loss: 0.0000e+00 - loss_batch: 0.6789\n",
      "7/7 [==============================] - 1s 54ms/step - loss: 0.5832 - recall: 0.4301 - precision: 0.6381 - regularization_loss: 0.0000e+00 - loss_batch: 0.6108 - val_loss: 0.6837 - val_recall: 0.9246 - val_precision: 0.4478 - val_regularization_loss: 0.0000e+00 - val_loss_batch: 0.6856\n",
      "25/25 [==============================] - 0s 1ms/step - loss: 0.6837 - recall: 0.9246 - precision: 0.4478 - regularization_loss: 0.0000e+00 - loss_batch: 0.6840\n",
      "7/7 [==============================] - 1s 53ms/step - loss: 0.5894 - recall: 0.3934 - precision: 0.6114 - regularization_loss: 0.0000e+00 - loss_batch: 0.6193 - val_loss: 0.6765 - val_recall: 0.7768 - val_precision: 0.4548 - val_regularization_loss: 0.0000e+00 - val_loss_batch: 0.6911\n",
      "25/25 [==============================] - 0s 1ms/step - loss: 0.6765 - recall: 0.7768 - precision: 0.4548 - regularization_loss: 0.0000e+00 - loss_batch: 0.6780\n",
      "7/7 [==============================] - 1s 56ms/step - loss: 0.5941 - recall: 0.3267 - precision: 0.5874 - regularization_loss: 0.0000e+00 - loss_batch: 0.6253 - val_loss: 0.6774 - val_recall: 0.7516 - val_precision: 0.4658 - val_regularization_loss: 0.0000e+00 - val_loss_batch: 0.6865\n",
      "25/25 [==============================] - 0s 1ms/step - loss: 0.6774 - recall: 0.7516 - precision: 0.4658 - regularization_loss: 0.0000e+00 - loss_batch: 0.6778\n"
     ]
    }
   ],
   "source": [
    "import tensorflow as tf\n",
    "\n",
    "recall = []\n",
    "precision = []\n",
    "rang = np.arange(1, 10)\n",
    "\n",
    "for i in rang:\n",
    "    model = mm.benchmark.NCFModel(\n",
    "        train.schema,\n",
    "        embedding_dim=64,\n",
    "        mlp_block=mm.MLPBlock([128, 64]),\n",
    "        prediction_tasks=mm.BinaryOutput(train.schema.select_by_tag(Tags.TARGET).column_names[0]),\n",
    "    )\n",
    "\n",
    "    loss=tf.keras.losses.BinaryCrossentropy()\n",
    "    model.compile(optimizer=keras.optimizers.Adam(learning_rate = .0175), loss = loss, run_eagerly=False, metrics=[tf.keras.metrics.Recall(name=\"recall\"), tf.keras.metrics.Precision(name='precision')]);\n",
    "    model.fit(train, validation_data=valid, batch_size=8000, epochs = 1); #Less epochs, more accurate valid... less accurate train\n",
    "    x = model.evaluate(valid, batch_size = 1024, return_dict = True)\n",
    "    recall.append(x['recall'])\n",
    "    precision.append(x['precision'])"
   ]
  },
  {
   "cell_type": "code",
   "execution_count": 135,
   "id": "ae9342d9-5b91-439a-be92-eac85678a05d",
   "metadata": {
    "tags": []
   },
   "outputs": [
    {
     "data": {
      "image/png": "[encoded data removed]",
      "text/plain": [
       "<Figure size 640x480 with 1 Axes>"
      ]
     },
     "metadata": {},
     "output_type": "display_data"
    }
   ],
   "source": [
    "plt.plot(rang, recall, label = 'recall')\n",
    "plt.plot(rang, precision, label = 'precision')\n",
    "plt.legend()\n",
    "plt.show()"
   ]
  },
  {
   "cell_type": "code",
   "execution_count": 125,
   "id": "daa805bc-465a-4133-a55d-c0948c75169d",
   "metadata": {
    "tags": []
   },
   "outputs": [],
   "source": [
    "preds = model.predict(train, batch_size = 1024)"
   ]
  },
  {
   "cell_type": "code",
   "execution_count": 126,
   "id": "65abedde-254e-4960-b288-3b3f5d8065d9",
   "metadata": {
    "tags": []
   },
   "outputs": [
    {
     "data": {
      "text/plain": [
       "(array([14532.,  2575.,  2016.,  1922.,  2651.,  6015.,  8741.,  8022.,\n",
       "         3961.,   321.]),\n",
       " array([3.78837954e-04, 8.54430497e-02, 1.70507267e-01, 2.55571485e-01,\n",
       "        3.40635687e-01, 4.25699919e-01, 5.10764122e-01, 5.95828354e-01,\n",
       "        6.80892587e-01, 7.65956759e-01, 8.51020992e-01]),\n",
       " <BarContainer object of 10 artists>)"
      ]
     },
     "execution_count": 126,
     "metadata": {},
     "output_type": "execute_result"
    },
    {
     "data": {
      "image/png": "[encoded data removed]",
      "text/plain": [
       "<Figure size 640x480 with 1 Axes>"
      ]
     },
     "metadata": {},
     "output_type": "display_data"
    }
   ],
   "source": [
    "plt.hist(preds)"
   ]
  },
  {
   "cell_type": "code",
   "execution_count": 55,
   "id": "df036392-40b6-4929-8bda-7262dd42ff72",
   "metadata": {
    "tags": []
   },
   "outputs": [
    {
     "name": "stdout",
     "output_type": "stream",
     "text": [
      "25/25 [==============================] - 0s 1ms/step - loss: 0.6838 - recall: 0.0000e+00 - precision: 0.0000e+00 - regularization_loss: 0.0000e+00 - loss_batch: 0.6858\n"
     ]
    },
    {
     "data": {
      "text/plain": [
       "{'loss': 0.6838032007217407,\n",
       " 'recall': 0.0,\n",
       " 'precision': 0.0,\n",
       " 'regularization_loss': 0.0,\n",
       " 'loss_batch': 0.7165533900260925}"
      ]
     },
     "execution_count": 55,
     "metadata": {},
     "output_type": "execute_result"
    }
   ],
   "source": [
    "model.evaluate(valid, batch_size = 1024, return_dict = True)"
   ]
  },
  {
   "cell_type": "code",
   "execution_count": 56,
   "id": "b261d9e5-55bf-43ac-bdd1-ee9c1d9d5283",
   "metadata": {
    "tags": []
   },
   "outputs": [
    {
     "name": "stdout",
     "output_type": "stream",
     "text": [
      "25/25 [==============================] - 0s 1ms/step - loss: 0.6838 - recall: 0.0000e+00 - precision: 0.0000e+00 - regularization_loss: 0.0000e+00 - loss_batch: 0.6858\n"
     ]
    },
    {
     "data": {
      "text/plain": [
       "{'loss': 0.6838032007217407,\n",
       " 'recall': 0.0,\n",
       " 'precision': 0.0,\n",
       " 'regularization_loss': 0.0,\n",
       " 'loss_batch': 0.7165533900260925}"
      ]
     },
     "execution_count": 56,
     "metadata": {},
     "output_type": "execute_result"
    }
   ],
   "source": [
    "model.evaluate(valid, batch_size = 1024, return_dict = True)"
   ]
  },
  {
   "cell_type": "markdown",
   "id": "1e5a4afd-1d11-4390-809f-107476ec31e7",
   "metadata": {},
   "source": [
    "# Model"
   ]
  },
  {
   "cell_type": "code",
   "execution_count": 110,
   "id": "d79976dd-8cb2-4a09-adcc-33f36e19a9d8",
   "metadata": {},
   "outputs": [
    {
     "name": "stdout",
     "output_type": "stream",
     "text": [
      "50/50 [==============================] - 1s 5ms/step - loss: 0.4625 - precision: 0.7120 - recall: 0.7999 - binary_accuracy: 0.7686 - auc: 0.8504 - regularization_loss: 0.0000e+00 - loss_batch: 0.4688\n",
      "25/25 [==============================] - 0s 2ms/step - loss: 0.6341 - precision: 0.5502 - recall: 0.7445 - binary_accuracy: 0.6370 - auc: 0.7174 - regularization_loss: 0.0000e+00 - loss_batch: 0.6428\n"
     ]
    }
   ],
   "source": [
    "recall = []\n",
    "precision = []\n",
    "\n",
    "arr = [\n",
    "    tf.keras.losses.BinaryCrossentropy(),\n",
    "    tf.keras.losses.BinaryFocalCrossentropy(),\n",
    "    tf.keras.losses.Hinge(),\n",
    "    tf.keras.losses.SquaredHinge()\n",
    "    \n",
    "]\n",
    "\n",
    "model_fb = mm.DLRMModel(\n",
    "    train.schema,\n",
    "    embedding_dim = 64,\n",
    "    top_block = mm.MLPBlock([128, 64, 32]),\n",
    "    bottom_block = mm.MLPBlock([128, 64]),\n",
    ")\n",
    "\n",
    "loss = arr[0]\n",
    "model_fb.compile(optimizer = keras.optimizers.Adam(learning_rate = .0175), loss = loss)\n",
    "model_fb.fit(train, batch_size = 1024, epochs = 1)\n",
    "x = model_fb.evaluate(valid, batch_size = 1024, return_dict = True)\n",
    "recall.append(x['auc'])\n",
    "\n",
    "preds_2 = model_fb.predict(valid, batch_size = 1024)"
   ]
  },
  {
   "cell_type": "code",
   "execution_count": 106,
   "id": "8dfe2fd6-1c22-42c8-9609-1e2d58fee5a2",
   "metadata": {
    "tags": []
   },
   "outputs": [
    {
     "data": {
      "text/plain": [
       "[<matplotlib.lines.Line2D at 0x15972c210>]"
      ]
     },
     "execution_count": 106,
     "metadata": {},
     "output_type": "execute_result"
    },
    {
     "data": {
      "image/png": "[encoded data removed]",
      "text/plain": [
       "<Figure size 640x480 with 1 Axes>"
      ]
     },
     "metadata": {},
     "output_type": "display_data"
    }
   ],
   "source": [
    "plt.plot(recall)"
   ]
  },
  {
   "cell_type": "code",
   "execution_count": 111,
   "id": "b489641c-51b4-4a33-8717-f7e09dcbc7df",
   "metadata": {
    "tags": []
   },
   "outputs": [
    {
     "data": {
      "text/plain": [
       "(array([  91.,    9.,  112., 1193., 3476., 4367., 1284., 2013., 6658.,\n",
       "        5795.]),\n",
       " array([0.04181208, 0.10306066, 0.16430922, 0.22555779, 0.28680634,\n",
       "        0.34805492, 0.40930349, 0.47055206, 0.53180063, 0.59304923,\n",
       "        0.65429777]),\n",
       " <BarContainer object of 10 artists>)"
      ]
     },
     "execution_count": 111,
     "metadata": {},
     "output_type": "execute_result"
    },
    {
     "data": {
      "image/png": "[encoded data removed]",
      "text/plain": [
       "<Figure size 640x480 with 1 Axes>"
      ]
     },
     "metadata": {},
     "output_type": "display_data"
    }
   ],
   "source": [
    "plt.hist(preds_2)"
   ]
  },
  {
   "cell_type": "code",
   "execution_count": 243,
   "id": "d96dea76-8815-4983-aaf4-fd0489754d6e",
   "metadata": {},
   "outputs": [
    {
     "name": "stdout",
     "output_type": "stream",
     "text": [
      "138/138 [==============================] - 0s 1ms/step - loss: nan - precision: 0.0000e+00 - recall: 0.0000e+00 - binary_accuracy: 0.9254 - auc: 0.7170 - regularization_loss: 0.0000e+00 - loss_batch: nan   \n"
     ]
    },
    {
     "data": {
      "text/plain": [
       "{'loss': nan,\n",
       " 'precision': 0.0,\n",
       " 'recall': 0.0,\n",
       " 'binary_accuracy': 0.9254040718078613,\n",
       " 'auc': 0.7170469760894775,\n",
       " 'regularization_loss': 0.0,\n",
       " 'loss_batch': nan}"
      ]
     },
     "execution_count": 243,
     "metadata": {},
     "output_type": "execute_result"
    }
   ],
   "source": [
    "model_fb.evaluate(valid, batch_size = 1024, return_dict = True)"
   ]
  },
  {
   "cell_type": "code",
   "execution_count": null,
   "id": "16f8575f-382e-4eb7-8d6f-27db5d376964",
   "metadata": {},
   "outputs": [],
   "source": []
  }
 ],
 "metadata": {
  "kernelspec": {
   "display_name": "Python 3 (ipykernel)",
   "language": "python",
   "name": "python3"
  },
  "language_info": {
   "codemirror_mode": {
    "name": "ipython",
    "version": 3
   },
   "file_extension": ".py",
   "mimetype": "text/x-python",
   "name": "python",
   "nbconvert_exporter": "python",
   "pygments_lexer": "ipython3",
   "version": "3.11.4"
  }
 },
 "nbformat": 4,
 "nbformat_minor": 5
}
