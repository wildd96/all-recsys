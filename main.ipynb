{
 "cells": [
  {
   "cell_type": "code",
   "execution_count": 1,
   "id": "a6164808-2b20-4d30-8f2a-3922335e7519",
   "metadata": {
    "tags": []
   },
   "outputs": [
    {
     "name": "stderr",
     "output_type": "stream",
     "text": [
      "/Users/andrew/anaconda3/lib/python3.11/site-packages/merlin/dtypes/mappings/triton.py:53: UserWarning: Triton dtype mappings did not load successfully due to an error: No module named 'tritonclient'\n",
      "  warn(f\"Triton dtype mappings did not load successfully due to an error: {exc.msg}\")\n"
     ]
    },
    {
     "name": "stdout",
     "output_type": "stream",
     "text": [
      "WARNING:tensorflow:Please fix your imports. Module tensorflow.python.training.tracking.data_structures has been moved to tensorflow.python.trackable.data_structures. The old module will be deleted in version 2.11.\n"
     ]
    }
   ],
   "source": [
    "#This is a starting point\n",
    "#uncomment below to install merlin library\n",
    "#!pip install merlin, nvtabular, merlin.models\n",
    "#I had to downgrade keras to 12.2.0 there maybe issues regarding tensorflow in the future\n",
    "#run lines below if you have also have an error ab not finding a keras package\n",
    "\n",
    "#pip uninstall keras\n",
    "#pip install keras==2.12.0\n",
    "\n",
    "\n",
    "#These are the same imports from\n",
    "#https://github.com/NVIDIA-Merlin/models/blob/main/examples/02-Merlin-Models-and-NVTabular-integration.ipynb\n",
    "import os\n",
    "import pandas as pd\n",
    "import numpy as np\n",
    "import nvtabular as nvt\n",
    "import matplotlib.pyplot as plt\n",
    "import seaborn as sns\n",
    "import keras\n",
    "import polars as pl\n",
    "\n",
    "from sklearn.model_selection import train_test_split\n",
    "\n",
    "from merlin.models.utils.example_utils import workflow_fit_transform\n",
    "import merlin.io\n",
    "import tensorflow as tf\n",
    "\n",
    "import merlin.models.tf as mm\n",
    "from merlin.dag.ops.subgraph import Subgraph\n",
    "from merlin.io.dataset import Dataset\n",
    "from nvtabular.ops import *\n",
    "from merlin.core.utils import download_file\n",
    "from merlin.schema.tags import Tags"
   ]
  },
  {
   "cell_type": "code",
   "execution_count": 2,
   "id": "fe9fcee3-4968-4ca0-892f-90fc69fd1211",
   "metadata": {
    "tags": []
   },
   "outputs": [],
   "source": [
    "pd.set_option('display.max_columns', None)"
   ]
  },
  {
   "cell_type": "code",
   "execution_count": 25,
   "id": "032fb1a0-26b4-42c1-a348-b103f9d80e5e",
   "metadata": {
    "tags": []
   },
   "outputs": [],
   "source": [
    "def read_target_sample():\n",
    "    df = pd.read_csv('/Users/andrew/Desktop/projects/recsys_data/2023-10-05 9_23pm (2).csv').dropna()\n",
    "    view_counts = df[df['EVENT_NAME'] == 'product_viewed'].groupby(['USER_ID', 'ITEM_ID'])['EVENT_NAME'].count().reset_index()\n",
    "    view_counts.rename(columns={'EVENT_NAME': 'VIEW_COUNT'}, inplace=True)\n",
    "\n",
    "    conversion_counts = df[(df['EVENT_NAME'] == 'order') | (df['EVENT_NAME'] == 'product_added')].groupby(['USER_ID', 'ITEM_ID'])['EVENT_NAME'].count().reset_index()\n",
    "    conversion_counts.rename(columns={'EVENT_NAME': 'CONVERSION_COUNT'}, inplace=True)\n",
    "\n",
    "    result_df = pd.merge(df, view_counts, on=['USER_ID', 'ITEM_ID'], how='left').fillna(0)\n",
    "    df = pd.merge(result_df, conversion_counts, on=['USER_ID', 'ITEM_ID'], how='left').fillna(0)\n",
    "    \n",
    "    df['EVENT_TIMESTAMP'] = pd.to_datetime(df['EVENT_TIMESTAMP'])\n",
    "\n",
    "    df = df.sort_values(['USER_ID', 'ITEM_ID', 'EVENT_TIMESTAMP'], ascending=[True, True, False])\n",
    "\n",
    "    df = df.drop_duplicates(['USER_ID', 'ITEM_ID'], keep='first')\n",
    "\n",
    "    df = df.reset_index(drop=True)\n",
    "    df['TIMESTAMP'] = df['EVENT_TIMESTAMP']\n",
    "    \n",
    "    df['CONVERSION_COUNT'] = np.where(df['CONVERSION_COUNT']<0.5,0,1)\n",
    "    \n",
    "    conversion_1_group = df[df['CONVERSION_COUNT'] == 1]\n",
    "    conversion_0_group = df[df['CONVERSION_COUNT'] == 0]\n",
    "\n",
    "    sample_size = min(len(conversion_1_group), len(conversion_0_group))\n",
    "\n",
    "    sampled_conversion_1 = conversion_1_group.sample(n=sample_size, random_state=42)\n",
    "\n",
    "    sampled_conversion_0 = conversion_0_group.sample(n=sample_size, random_state=42)\n",
    "\n",
    "    balanced_df = pd.concat([sampled_conversion_1, sampled_conversion_0])\n",
    "    \n",
    "    df = df.sample(frac = 1)\n",
    "\n",
    "    df = balanced_df.reset_index(drop=True)\n",
    "    \n",
    "    return df"
   ]
  },
  {
   "cell_type": "code",
   "execution_count": 5,
   "id": "e17ad9ba-cde7-4c22-87e4-362517e17458",
   "metadata": {
    "tags": []
   },
   "outputs": [],
   "source": [
    "from datetime import datetime, timezone, date\n",
    "\n",
    "def add_interact_decay(df, halflife = 90):\n",
    "    #Maybe I want to just use the latest time per item customer combo\n",
    "    now = datetime.now(timezone.utc)\n",
    "    df = df.groupby(['USER_ID', 'ITEM_ID']).size().reset_index(name='VIEWCOUNT').merge(df)\n",
    "    #df.groupby(['USER_ID'])['EVENT_TIMESTAMP'].max().reset_index(name='LATESTTIMESTAMP')\n",
    "    df['DAYSSINCE'] = (now - pd.to_datetime(df['TIMESTAMP'])).dt.days\n",
    "    df['DAYSSINCEDECAY'] = np.exp((-1/halflife) * df['DAYSSINCE'])\n",
    "    df['INTERACTIONDECAY'] = df['VIEW_COUNT'] * df['DAYSSINCEDECAY']\n",
    "    df = df.drop(columns = {\"TIMESTAMP\"})\n",
    "    return df"
   ]
  },
  {
   "cell_type": "code",
   "execution_count": 6,
   "id": "a6f0b4d3-d6d8-440b-98a7-89e9fc1c1383",
   "metadata": {
    "tags": []
   },
   "outputs": [],
   "source": [
    "def negative_sample(df, multiplier = 1):\n",
    "    negative_df = df[['USER_ID', 'ITEM_ID', 'TARGET', 'TIMESTAMP']]\n",
    "    sections = df.shape[0]//10000\n",
    "    negative_data = []\n",
    "    item_map = df['ITEM_ID'].unique()\n",
    "    rng = np.random.default_rng()\n",
    "    zero_multiplier = multiplier #https://datascience.stackexchange.com/questions/6939/ratio-of-positive-to-negative-sample-in-data-set-for-best-classification\n",
    "    #The above datascience stackexchange says 1:1 is a good ratio, i didn't look into it that much tho\n",
    "\n",
    "    for chunk in np.array_split(df, sections):\n",
    "        user_id_counts = pd.value_counts(chunk.USER_ID)\n",
    "        item_ids = []\n",
    "        for user_id, count in user_id_counts.items():\n",
    "            item_ids.append(np.random.randint(low = 0, high = item_map.shape[0], size = count*zero_multiplier))\n",
    "        item_ids = np.concatenate(item_ids)\n",
    "        negative_data.append(pd.DataFrame({'USER_ID': np.repeat(user_id_counts.index, repeats = user_id_counts.values*zero_multiplier),\n",
    "                                           'ITEM_ID': item_map[item_ids],\n",
    "                                           'TIMESTAMP': date(1970, 1, 1),\n",
    "                                           'TARGET': 0}))\n",
    "    negative_data.append(negative_df)\n",
    "    sample_data = pd.concat(negative_data)\n",
    "    sample_data = sample_data.reset_index(drop = True)\n",
    "    return sample_data"
   ]
  },
  {
   "cell_type": "markdown",
   "id": "21b75277-df6c-45f8-9865-16eedbbd7384",
   "metadata": {
    "tags": []
   },
   "source": [
    "### Merging TEST IN FUTURE"
   ]
  },
  {
   "cell_type": "code",
   "execution_count": 7,
   "id": "84da7081-ba01-4825-84a4-4dc1a5046ea1",
   "metadata": {
    "tags": []
   },
   "outputs": [],
   "source": [
    "def merge(negative_df, df):\n",
    "    item_df = df[['STYLE', 'USER_ID', 'PRICE_INFORMATION', 'AVG_REVIEW_SCORE',\n",
    "              'ITEM_ID', 'TAXONOMY_STYLE', 'COLOR_NAME', 'PRODUCT_CLASS',\n",
    "              'PRODUCT_SUBCLASS', 'TEAM', 'FRANCHISE', 'PRODUCT_GROUP', 'EVENT_NAME', 'EVENT_TIMESTAMP']]\n",
    "    \n",
    "    user_df = df[['USER_ID', 'ITEM_ID', 'COUNTRY', 'DERIVED_GENDER_BY_NAME', 'CLICKSTREAM_EVENTS_TOTAL', 'FIRST_PURCHASE_AT', 'FIRST_VISIT_AT',\n",
    "              'LATEST_VISIT_AT', 'LATEST_PURCHASE_AT']]\n",
    "    \n",
    "    df_subset = negative_df.merge(user_df, on = ['USER_ID', 'ITEM_ID'], how = 'left').sort_values(['USER_ID', 'TARGET'], ascending=False).drop_duplicates(subset = ['USER_ID', 'ITEM_ID']).fillna(method='ffill')\n",
    "    df_subset = df_subset.merge(item_df, on = ['USER_ID', 'ITEM_ID'], how = 'left').sort_values(['ITEM_ID', 'TARGET'], ascending=False).drop_duplicates(subset = ['USER_ID', 'ITEM_ID']).fillna(method='ffill')\n",
    "    return df_subset"
   ]
  },
  {
   "cell_type": "code",
   "execution_count": 8,
   "id": "6dd79ec9-f741-4e0d-a46e-123e36c4f68c",
   "metadata": {
    "tags": []
   },
   "outputs": [],
   "source": [
    "#num rows\n",
    "def train_valid_split_to_parquet(df, ratio = .2):\n",
    "    data_size = df.shape[0]\n",
    "\n",
    "    train_split_ratio = int(ratio * data_size)\n",
    "    \n",
    "    df = df.sample(frac = 1, random_state = 42)\n",
    "\n",
    "    train = df[:-train_split_ratio]\n",
    "    valid = df[-train_split_ratio:]\n",
    "    train.to_parquet(\"train.parquet\")\n",
    "    valid.to_parquet(\"valid.parquet\")\n",
    "    \n",
    "    return train, valid"
   ]
  },
  {
   "cell_type": "markdown",
   "id": "da5efa1f-91e7-4c32-a882-6bbe6fe26555",
   "metadata": {
    "tags": []
   },
   "source": [
    "# NVTabular"
   ]
  },
  {
   "cell_type": "code",
   "execution_count": 133,
   "id": "0fb38a1b-2988-470b-9092-1c3ee2863791",
   "metadata": {
    "tags": []
   },
   "outputs": [],
   "source": [
    "def nvtabular_pipeline():\n",
    "    \n",
    "    user_id = [\"USER_ID\"] >> Categorify(dtype = \"int32\", out_path='categories') >> TagAsUserID()\n",
    "    item_id = [\"ITEM_ID\"] >> Categorify(dtype = \"int32\", out_path='categories') >> TagAsItemID()\n",
    "    \n",
    "    target = [\"CONVERSION_COUNT\"] >> AddTags([\"binary_classification\", \"target\"]) >> Rename(name=\"INTERACTION_BINARY\")\n",
    "    \n",
    "    user_features = ([\"CLICKSTREAM_EVENTS_TOTAL\", \"COUNTRY\", \"DERIVED_GENDER_BY_NAME\"] >> Categorify() >> Normalize() >> TagAsUserFeatures())\n",
    "    \n",
    "    item_features = ([\n",
    "        \"STYLE\",\n",
    "        \"TAXONOMY_STYLE\",\n",
    "        \"COLOR_NAME\",\n",
    "        \"PRODUCT_SUBCLASS\",\n",
    "        \"TEAM\",\n",
    "        \"FRANCHISE\",\n",
    "        \"PRODUCT_GROUP\"\n",
    "    ] >> Categorify() >> Normalize() >> TagAsItemFeatures())\n",
    "    \n",
    "    decay = ['INTERACTIONDECAY'] >> Normalize() >> AddTags(['regression', 'target', 'continuous'])\n",
    "    \n",
    "    output = user_id + item_id + user_features + item_features + target + decay\n",
    "\n",
    "    workflow_fit_transform(output, 'train.parquet', 'valid.parquet', 'integration') \n",
    "    \n",
    "    train = merlin.io.Dataset(\n",
    "        os.path.join(\"integration\", \"train\"), engine=\"parquet\"\n",
    "    )\n",
    "    valid = merlin.io.Dataset(\n",
    "        os.path.join(\"integration\", \"valid\"), engine=\"parquet\"\n",
    "    )\n",
    "\n",
    "    return train, valid, output"
   ]
  },
  {
   "cell_type": "markdown",
   "id": "f8bcd359-0fbc-4ac2-b660-23d57e375134",
   "metadata": {
    "tags": []
   },
   "source": [
    "## Model"
   ]
  },
  {
   "cell_type": "code",
   "execution_count": 144,
   "id": "71ab792f-778e-4317-8fbe-b9166127d6e2",
   "metadata": {
    "tags": []
   },
   "outputs": [],
   "source": [
    "def preprocessing(order_weight = 1, added_weight = .5):\n",
    "    df = read_target_sample()\n",
    "    #neg_df = negative_sample(df)\n",
    "    #merged_df = merge(neg_df, df) #merge doesn't work right ofc\n",
    "    df1 = add_interact_decay(df)\n",
    "    train_valid_split_to_parquet(df1)\n",
    "    train, valid, output = nvtabular_pipeline()\n",
    "    return train, valid, output"
   ]
  },
  {
   "cell_type": "code",
   "execution_count": 183,
   "id": "3624bf45-4e6f-4107-9f4c-d006d1da3a35",
   "metadata": {},
   "outputs": [],
   "source": [
    "def dlrm(train, valid, epoch = 1, lr = .0175):\n",
    "    model = mm.DLRMModel(\n",
    "        train.schema,\n",
    "        embedding_dim=64,\n",
    "        bottom_block=mm.MLPBlock([128, 64]),\n",
    "        top_block=mm.MLPBlock([128, 64, 32]),\n",
    "        prediction_tasks=mm.BinaryOutput('INTERACTION_BINARY'),\n",
    "    )\n",
    "\n",
    "    model.compile(optimizer=keras.optimizers.Adam(learning_rate = lr), run_eagerly=False, metrics=[tf.keras.metrics.AUC(), mm.RecallAt(10), mm.NDCGAt(10)]);\n",
    "    model.fit(train, validation_data=valid, batch_size=1024, epochs = epoch); \n",
    "    print(model.evaluate(valid, batch_size=1024, return_dict=True))\n",
    "    return model.predict(valid, batch_size = 1024)"
   ]
  },
  {
   "cell_type": "code",
   "execution_count": 184,
   "id": "1e5abead-b598-451f-bd9f-8d80a61e89e1",
   "metadata": {
    "tags": []
   },
   "outputs": [],
   "source": [
    "def ncf_model(train, valid, lr = .0175, epoch = 1):\n",
    "    model = mm.benchmark.NCFModel(\n",
    "        train.schema,\n",
    "        embedding_dim=64,\n",
    "        mlp_block=mm.MLPBlock([128, 64]),\n",
    "        prediction_tasks=mm.BinaryOutput(train.schema.select_by_tag(Tags.TARGET).column_names[0]),\n",
    "    )\n",
    "\n",
    "    model.compile(optimizer=keras.optimizers.Adam(learning_rate = lr), run_eagerly=False, metrics=[tf.keras.metrics.AUC(), mm.RecallAt(10), mm.NDCGAt(10)]);\n",
    "    model.fit(train, validation_data=valid, batch_size=1024, epochs = epoch); #Less epochs, more accurate valid... less accurate train\n",
    "    print(model.evaluate(valid, batch_size = 1024, return_dict = True))\n",
    "    return model.predict(valid, batch_size = 1024)"
   ]
  },
  {
   "cell_type": "code",
   "execution_count": 185,
   "id": "6cbad8eb-03d4-4803-a76c-027293525d6e",
   "metadata": {
    "tags": []
   },
   "outputs": [
    {
     "name": "stdout",
     "output_type": "stream",
     "text": [
      "Epoch 1/2\n",
      "96/96 [==============================] - 2s 18ms/step - loss: 0.5688 - auc_25: 0.7616 - recall_at_10: 0.9409 - ndcg_at_10: 0.9472 - regularization_loss: 0.0000e+00 - loss_batch: 0.5687 - val_loss: 0.5519 - val_auc_25: 0.7813 - val_recall_at_10: 0.9917 - val_ndcg_at_10: 0.9942 - val_regularization_loss: 0.0000e+00 - val_loss_batch: 0.5530\n",
      "Epoch 2/2\n",
      "96/96 [==============================] - 1s 15ms/step - loss: 0.1209 - auc_25: 0.9914 - recall_at_10: 1.0000 - ndcg_at_10: 1.0000 - regularization_loss: 0.0000e+00 - loss_batch: 0.1197 - val_loss: 0.7953 - val_auc_25: 0.7168 - val_recall_at_10: 0.9708 - val_ndcg_at_10: 0.9785 - val_regularization_loss: 0.0000e+00 - val_loss_batch: 0.7220\n",
      "24/24 [==============================] - 0s 1ms/step - loss: 0.7953 - auc_25: 0.7168 - recall_at_10: 0.9895 - ndcg_at_10: 0.9928 - regularization_loss: 0.0000e+00 - loss_batch: 0.7922\n",
      "{'loss': 0.7953129410743713, 'auc_25': 0.7168427109718323, 'recall_at_10': 0.9833332896232605, 'ndcg_at_10': 0.9885290265083313, 'regularization_loss': 0.0, 'loss_batch': 0.7220244407653809}\n",
      "96/96 [==============================] - 2s 12ms/step - loss: 0.5810 - auc_26: 0.7469 - recall_at_10: 0.8609 - ndcg_at_10: 0.8586 - regularization_loss: 0.0000e+00 - loss_batch: 0.5807 - val_loss: 0.5543 - val_auc_26: 0.7810 - val_recall_at_10: 1.0000 - val_ndcg_at_10: 1.0000 - val_regularization_loss: 0.0000e+00 - val_loss_batch: 0.5596\n",
      "24/24 [==============================] - 0s 2ms/step - loss: 0.5543 - auc_26: 0.7810 - recall_at_10: 0.9948 - ndcg_at_10: 0.9966 - regularization_loss: 0.0000e+00 - loss_batch: 0.5546\n",
      "{'loss': 0.5543461441993713, 'auc_26': 0.7809768915176392, 'recall_at_10': 0.9916666150093079, 'ndcg_at_10': 0.9945885539054871, 'regularization_loss': 0.0, 'loss_batch': 0.559630811214447}\n"
     ]
    },
    {
     "data": {
      "image/png": "[encoded data removed]",
      "text/plain": [
       "<Figure size 640x480 with 1 Axes>"
      ]
     },
     "metadata": {},
     "output_type": "display_data"
    }
   ],
   "source": [
    "import warnings\n",
    "warnings.filterwarnings(\"ignore\")\n",
    "train, valid, output = preprocessing()\n",
    "pred = ncf_model(train, valid, lr = .0175,  epoch = 2)\n",
    "pred2 = dlrm(train, valid)\n",
    "plt.hist(pred2, density = True)\n",
    "plt.show()"
   ]
  },
  {
   "cell_type": "code",
   "execution_count": 186,
   "id": "f19c6bd5-2ddc-45ea-9437-21005010fc51",
   "metadata": {
    "tags": []
   },
   "outputs": [],
   "source": [
    "s = valid.head(-1)\n",
    "s['predicted_values'] = pred2[:-1]"
   ]
  },
  {
   "cell_type": "code",
   "execution_count": 187,
   "id": "3556c9b7-5aef-4c9e-a1c0-e87b7d19738c",
   "metadata": {
    "tags": []
   },
   "outputs": [
    {
     "data": {
      "image/png": "[encoded data removed]",
      "text/plain": [
       "<Figure size 640x480 with 1 Axes>"
      ]
     },
     "metadata": {},
     "output_type": "display_data"
    }
   ],
   "source": [
    "import seaborn as sns\n",
    "\n",
    "sns.violinplot(data = s, x = 'INTERACTION_BINARY', y = 'predicted_values')\n",
    "sns.lineplot(data = s, x = 'INTERACTION_BINARY', y = .5, color = 'r')\n",
    "\n",
    "plt.show()"
   ]
  },
  {
   "cell_type": "code",
   "execution_count": 188,
   "id": "3bb4c702-ddc0-4ff8-b1ff-ab20f36a31b2",
   "metadata": {},
   "outputs": [],
   "source": [
    "import sklearn\n",
    "\n",
    "false_pos, true_pos, _ = sklearn.metrics.roc_curve(s['INTERACTION_BINARY'], s['predicted_values'])"
   ]
  },
  {
   "cell_type": "code",
   "execution_count": 190,
   "id": "21be34bb-7730-4e18-905a-a1839e504792",
   "metadata": {
    "tags": []
   },
   "outputs": [
    {
     "data": {
      "text/plain": [
       "<Axes: >"
      ]
     },
     "execution_count": 190,
     "metadata": {},
     "output_type": "execute_result"
    },
    {
     "data": {
      "image/png": "[encoded data removed]",
      "text/plain": [
       "<Figure size 640x480 with 1 Axes>"
      ]
     },
     "metadata": {},
     "output_type": "display_data"
    }
   ],
   "source": [
    "sns.lineplot(x = false_pos, y = true_pos)\n",
    "sns.lineplot(x = false_pos, y = false_pos)"
   ]
  },
  {
   "cell_type": "code",
   "execution_count": 161,
   "id": "0be2c13e-3751-4c0f-b44b-5294b6b100e6",
   "metadata": {
    "tags": []
   },
   "outputs": [
    {
     "data": {
      "text/html": [
       "<div>\n",
       "<style scoped>\n",
       "    .dataframe tbody tr th:only-of-type {\n",
       "        vertical-align: middle;\n",
       "    }\n",
       "\n",
       "    .dataframe tbody tr th {\n",
       "        vertical-align: top;\n",
       "    }\n",
       "\n",
       "    .dataframe thead th {\n",
       "        text-align: right;\n",
       "    }\n",
       "</style>\n",
       "<table border=\"1\" class=\"dataframe\">\n",
       "  <thead>\n",
       "    <tr style=\"text-align: right;\">\n",
       "      <th></th>\n",
       "      <th>ITEM_ID</th>\n",
       "      <th>STYLE</th>\n",
       "      <th>TAXONOMY_STYLE</th>\n",
       "      <th>COLOR_NAME</th>\n",
       "      <th>PRODUCT_SUBCLASS</th>\n",
       "      <th>TEAM</th>\n",
       "      <th>FRANCHISE</th>\n",
       "      <th>PRODUCT_GROUP</th>\n",
       "    </tr>\n",
       "  </thead>\n",
       "  <tbody>\n",
       "    <tr>\n",
       "      <th>0</th>\n",
       "      <td>13</td>\n",
       "      <td>-0.717022</td>\n",
       "      <td>-0.655776</td>\n",
       "      <td>-0.815655</td>\n",
       "      <td>-0.603257</td>\n",
       "      <td>0.399469</td>\n",
       "      <td>-0.799885</td>\n",
       "      <td>-0.649354</td>\n",
       "    </tr>\n",
       "    <tr>\n",
       "      <th>1</th>\n",
       "      <td>47</td>\n",
       "      <td>-0.717022</td>\n",
       "      <td>-0.655776</td>\n",
       "      <td>-0.815655</td>\n",
       "      <td>-0.603257</td>\n",
       "      <td>0.399469</td>\n",
       "      <td>-0.799885</td>\n",
       "      <td>-0.649354</td>\n",
       "    </tr>\n",
       "    <tr>\n",
       "      <th>2</th>\n",
       "      <td>3</td>\n",
       "      <td>-0.790835</td>\n",
       "      <td>-0.766427</td>\n",
       "      <td>-0.897754</td>\n",
       "      <td>-0.603257</td>\n",
       "      <td>-0.943711</td>\n",
       "      <td>-0.507102</td>\n",
       "      <td>-0.649354</td>\n",
       "    </tr>\n",
       "    <tr>\n",
       "      <th>3</th>\n",
       "      <td>6</td>\n",
       "      <td>-0.790835</td>\n",
       "      <td>-0.766427</td>\n",
       "      <td>-0.733555</td>\n",
       "      <td>-0.603257</td>\n",
       "      <td>-0.943711</td>\n",
       "      <td>-0.507102</td>\n",
       "      <td>-0.649354</td>\n",
       "    </tr>\n",
       "    <tr>\n",
       "      <th>4</th>\n",
       "      <td>51</td>\n",
       "      <td>0.242544</td>\n",
       "      <td>0.229430</td>\n",
       "      <td>0.333738</td>\n",
       "      <td>-0.603257</td>\n",
       "      <td>-0.943711</td>\n",
       "      <td>0.664029</td>\n",
       "      <td>-0.649354</td>\n",
       "    </tr>\n",
       "  </tbody>\n",
       "</table>\n",
       "</div>"
      ],
      "text/plain": [
       "   ITEM_ID     STYLE  TAXONOMY_STYLE  COLOR_NAME  PRODUCT_SUBCLASS      TEAM  \\\n",
       "0       13 -0.717022       -0.655776   -0.815655         -0.603257  0.399469   \n",
       "1       47 -0.717022       -0.655776   -0.815655         -0.603257  0.399469   \n",
       "2        3 -0.790835       -0.766427   -0.897754         -0.603257 -0.943711   \n",
       "3        6 -0.790835       -0.766427   -0.733555         -0.603257 -0.943711   \n",
       "4       51  0.242544        0.229430    0.333738         -0.603257 -0.943711   \n",
       "\n",
       "   FRANCHISE  PRODUCT_GROUP  \n",
       "0  -0.799885      -0.649354  \n",
       "1  -0.799885      -0.649354  \n",
       "2  -0.507102      -0.649354  \n",
       "3  -0.507102      -0.649354  \n",
       "4   0.664029      -0.649354  "
      ]
     },
     "execution_count": 161,
     "metadata": {},
     "output_type": "execute_result"
    }
   ],
   "source": [
    "from merlin.models.utils.dataset import unique_rows_by_features\n",
    "\n",
    "candidate_features = unique_rows_by_features(train, Tags.ITEM, Tags.ITEM_ID)\n",
    "candidate_features.head()"
   ]
  },
  {
   "cell_type": "code",
   "execution_count": 162,
   "id": "0c913aa2-1ee3-4217-bc47-5ca6ecd81d09",
   "metadata": {
    "tags": []
   },
   "outputs": [
    {
     "ename": "AttributeError",
     "evalue": "'Model' object has no attribute 'to_top_k_encoder'",
     "output_type": "error",
     "traceback": [
      "\u001b[0;31m---------------------------------------------------------------------------\u001b[0m",
      "\u001b[0;31mAttributeError\u001b[0m                            Traceback (most recent call last)",
      "Cell \u001b[0;32mIn[162], line 2\u001b[0m\n\u001b[1;32m      1\u001b[0m topk \u001b[38;5;241m=\u001b[39m \u001b[38;5;241m20\u001b[39m\n\u001b[0;32m----> 2\u001b[0m topk_model \u001b[38;5;241m=\u001b[39m model\u001b[38;5;241m.\u001b[39mto_top_k_encoder(candidate_features, k\u001b[38;5;241m=\u001b[39mtopk, batch_size\u001b[38;5;241m=\u001b[39m\u001b[38;5;241m128\u001b[39m)\n\u001b[1;32m      4\u001b[0m \u001b[38;5;66;03m# we can set `metrics` param in the `compile(), if we want\u001b[39;00m\n\u001b[1;32m      5\u001b[0m topk_model\u001b[38;5;241m.\u001b[39mcompile(run_eagerly\u001b[38;5;241m=\u001b[39m\u001b[38;5;28;01mFalse\u001b[39;00m)\n",
      "\u001b[0;31mAttributeError\u001b[0m: 'Model' object has no attribute 'to_top_k_encoder'"
     ]
    }
   ],
   "source": [
    "topk = 20\n",
    "topk_model = model.to_top_k_encoder(candidate_features, k=topk, batch_size=128)\n",
    "\n",
    "# we can set `metrics` param in the `compile(), if we want\n",
    "topk_model.compile(run_eagerly=False)"
   ]
  },
  {
   "cell_type": "code",
   "execution_count": 155,
   "id": "eab5e9ef-9ebd-42e3-b829-eab8a1e6517a",
   "metadata": {
    "tags": []
   },
   "outputs": [],
   "source": [
    "eval_loader = mm.Loader(valid, batch_size=8, shuffle=False)\n",
    "batch = next(iter(eval_loader))"
   ]
  },
  {
   "cell_type": "code",
   "execution_count": 158,
   "id": "b87aa775-6a98-4264-8ff5-b40b0d2bac66",
   "metadata": {
    "tags": []
   },
   "outputs": [
    {
     "data": {
      "text/plain": [
       "<tf.Tensor: shape=(8,), dtype=int32, numpy=\n",
       "array([18387, 10155, 11093,     2, 12944,  8635,     2,     2],\n",
       "      dtype=int32)>"
      ]
     },
     "execution_count": 158,
     "metadata": {},
     "output_type": "execute_result"
    }
   ],
   "source": [
    "batch[0]['USER_ID']"
   ]
  },
  {
   "cell_type": "code",
   "execution_count": 159,
   "id": "61391d91-a135-4c3b-9ae2-d61010ea63e2",
   "metadata": {
    "tags": []
   },
   "outputs": [
    {
     "ename": "NameError",
     "evalue": "name 'topk_model' is not defined",
     "output_type": "error",
     "traceback": [
      "\u001b[0;31m---------------------------------------------------------------------------\u001b[0m",
      "\u001b[0;31mNameError\u001b[0m                                 Traceback (most recent call last)",
      "Cell \u001b[0;32mIn[159], line 1\u001b[0m\n\u001b[0;32m----> 1\u001b[0m topk_model(batch[\u001b[38;5;241m0\u001b[39m])\n",
      "\u001b[0;31mNameError\u001b[0m: name 'topk_model' is not defined"
     ]
    }
   ],
   "source": [
    "topk_model(batch[0])"
   ]
  },
  {
   "cell_type": "code",
   "execution_count": 153,
   "id": "b0920421-4172-40c4-ad31-7a3b9721e7f0",
   "metadata": {
    "tags": []
   },
   "outputs": [
    {
     "ename": "ValueError",
     "evalue": "No subgraph named item. Options are: dict_keys([])",
     "output_type": "error",
     "traceback": [
      "\u001b[0;31m---------------------------------------------------------------------------\u001b[0m",
      "\u001b[0;31mValueError\u001b[0m                                Traceback (most recent call last)",
      "Cell \u001b[0;32mIn[153], line 6\u001b[0m\n\u001b[1;32m      2\u001b[0m \u001b[38;5;28;01mfrom\u001b[39;00m \u001b[38;5;21;01mmerlin\u001b[39;00m\u001b[38;5;21;01m.\u001b[39;00m\u001b[38;5;21;01msystems\u001b[39;00m\u001b[38;5;21;01m.\u001b[39;00m\u001b[38;5;21;01mdag\u001b[39;00m\u001b[38;5;21;01m.\u001b[39;00m\u001b[38;5;21;01mops\u001b[39;00m\u001b[38;5;21;01m.\u001b[39;00m\u001b[38;5;21;01mworkflow\u001b[39;00m \u001b[38;5;28;01mimport\u001b[39;00m TransformWorkflow\n\u001b[1;32m      4\u001b[0m nvt_wkflow \u001b[38;5;241m=\u001b[39m nvt\u001b[38;5;241m.\u001b[39mWorkflow(output)\n\u001b[0;32m----> 6\u001b[0m workflow \u001b[38;5;241m=\u001b[39m  nvt\u001b[38;5;241m.\u001b[39mWorkflow([\u001b[38;5;124m\"\u001b[39m\u001b[38;5;124mITEM_ID\u001b[39m\u001b[38;5;124m\"\u001b[39m] \u001b[38;5;241m+\u001b[39m ([\u001b[38;5;124m'\u001b[39m\u001b[38;5;124mITEM_ID\u001b[39m\u001b[38;5;124m'\u001b[39m, \u001b[38;5;124m'\u001b[39m\u001b[38;5;124mSTYLE\u001b[39m\u001b[38;5;124m'\u001b[39m, \u001b[38;5;124m'\u001b[39m\u001b[38;5;124mTAXONOMY_STYLE\u001b[39m\u001b[38;5;124m'\u001b[39m, \u001b[38;5;124m'\u001b[39m\u001b[38;5;124mCOLOR_NAME\u001b[39m\u001b[38;5;124m'\u001b[39m, \u001b[38;5;124m'\u001b[39m\u001b[38;5;124mPRODUCT_SUBCLASS\u001b[39m\u001b[38;5;124m'\u001b[39m, \u001b[38;5;124m'\u001b[39m\u001b[38;5;124mTEAM\u001b[39m\u001b[38;5;124m'\u001b[39m, \u001b[38;5;124m'\u001b[39m\u001b[38;5;124mFRANCHISE\u001b[39m\u001b[38;5;124m'\u001b[39m, \u001b[38;5;124m'\u001b[39m\u001b[38;5;124mPRODUCT_GROUP\u001b[39m\u001b[38;5;124m'\u001b[39m] \u001b[38;5;241m>>\u001b[39m TransformWorkflow(nvt_wkflow\u001b[38;5;241m.\u001b[39mget_subworkflow(\u001b[38;5;124m\"\u001b[39m\u001b[38;5;124mitem\u001b[39m\u001b[38;5;124m\"\u001b[39m)) \u001b[38;5;241m>>\u001b[39m PredictTensorflow(model\u001b[38;5;241m.\u001b[39mfirst\u001b[38;5;241m.\u001b[39mitem_block())))\n\u001b[1;32m      7\u001b[0m item_embeddings \u001b[38;5;241m=\u001b[39m workflow\u001b[38;5;241m.\u001b[39mfit_transform(Dataset(item_features))\u001b[38;5;241m.\u001b[39mto_ddf()\u001b[38;5;241m.\u001b[39mcompute()\n",
      "File \u001b[0;32m~/anaconda3/lib/python3.11/site-packages/nvtabular/workflow/workflow.py:173\u001b[0m, in \u001b[0;36mWorkflow.get_subworkflow\u001b[0;34m(self, subgraph_name)\u001b[0m\n\u001b[1;32m    172\u001b[0m \u001b[38;5;28;01mdef\u001b[39;00m \u001b[38;5;21mget_subworkflow\u001b[39m(\u001b[38;5;28mself\u001b[39m, subgraph_name):\n\u001b[0;32m--> 173\u001b[0m     subgraph \u001b[38;5;241m=\u001b[39m \u001b[38;5;28mself\u001b[39m\u001b[38;5;241m.\u001b[39mgraph\u001b[38;5;241m.\u001b[39msubgraph(subgraph_name)\n\u001b[1;32m    174\u001b[0m     \u001b[38;5;28;01mreturn\u001b[39;00m Workflow(subgraph\u001b[38;5;241m.\u001b[39moutput_node)\n",
      "File \u001b[0;32m~/anaconda3/lib/python3.11/site-packages/merlin/dag/graph.py:57\u001b[0m, in \u001b[0;36mGraph.subgraph\u001b[0;34m(self, name)\u001b[0m\n\u001b[1;32m     55\u001b[0m \u001b[38;5;28;01mdef\u001b[39;00m \u001b[38;5;21msubgraph\u001b[39m(\u001b[38;5;28mself\u001b[39m, name: \u001b[38;5;28mstr\u001b[39m) \u001b[38;5;241m-\u001b[39m\u001b[38;5;241m>\u001b[39m \u001b[38;5;124m\"\u001b[39m\u001b[38;5;124mGraph\u001b[39m\u001b[38;5;124m\"\u001b[39m:\n\u001b[1;32m     56\u001b[0m     \u001b[38;5;28;01mif\u001b[39;00m name \u001b[38;5;129;01mnot\u001b[39;00m \u001b[38;5;129;01min\u001b[39;00m \u001b[38;5;28mself\u001b[39m\u001b[38;5;241m.\u001b[39msubgraphs:\n\u001b[0;32m---> 57\u001b[0m         \u001b[38;5;28;01mraise\u001b[39;00m \u001b[38;5;167;01mValueError\u001b[39;00m(\u001b[38;5;124mf\u001b[39m\u001b[38;5;124m\"\u001b[39m\u001b[38;5;124mNo subgraph named \u001b[39m\u001b[38;5;132;01m{\u001b[39;00mname\u001b[38;5;132;01m}\u001b[39;00m\u001b[38;5;124m. Options are: \u001b[39m\u001b[38;5;132;01m{\u001b[39;00m\u001b[38;5;28mself\u001b[39m\u001b[38;5;241m.\u001b[39msubgraphs\u001b[38;5;241m.\u001b[39mkeys()\u001b[38;5;132;01m}\u001b[39;00m\u001b[38;5;124m\"\u001b[39m)\n\u001b[1;32m     58\u001b[0m     \u001b[38;5;28;01mreturn\u001b[39;00m \u001b[38;5;28mself\u001b[39m\u001b[38;5;241m.\u001b[39msubgraphs[name]\n",
      "\u001b[0;31mValueError\u001b[0m: No subgraph named item. Options are: dict_keys([])"
     ]
    }
   ],
   "source": [
    "from merlin.systems.dag.ops.tensorflow import PredictTensorflow\n",
    "from merlin.systems.dag.ops.workflow import TransformWorkflow\n",
    "\n",
    "nvt_wkflow = nvt.Workflow(output)\n",
    "\n",
    "workflow =  nvt.Workflow([\"ITEM_ID\"] + (['ITEM_ID', 'STYLE', 'TAXONOMY_STYLE', 'COLOR_NAME', 'PRODUCT_SUBCLASS', 'TEAM', 'FRANCHISE', 'PRODUCT_GROUP'] >> TransformWorkflow(nvt_wkflow.get_subworkflow(\"item\")) >> PredictTensorflow(model.first.item_block())))\n",
    "item_embeddings = workflow.fit_transform(Dataset(item_features)).to_ddf().compute()"
   ]
  },
  {
   "cell_type": "code",
   "execution_count": 201,
   "id": "fb536e34-f640-4937-a1cc-31ef12ae3a9e",
   "metadata": {
    "tags": []
   },
   "outputs": [
    {
     "data": {
      "text/html": [
       "<div>\n",
       "<style scoped>\n",
       "    .dataframe tbody tr th:only-of-type {\n",
       "        vertical-align: middle;\n",
       "    }\n",
       "\n",
       "    .dataframe tbody tr th {\n",
       "        vertical-align: top;\n",
       "    }\n",
       "\n",
       "    .dataframe thead th {\n",
       "        text-align: right;\n",
       "    }\n",
       "</style>\n",
       "<table border=\"1\" class=\"dataframe\">\n",
       "  <thead>\n",
       "    <tr style=\"text-align: right;\">\n",
       "      <th></th>\n",
       "      <th>ITEM_ID</th>\n",
       "      <th>ITEM_ID_size</th>\n",
       "    </tr>\n",
       "  </thead>\n",
       "  <tbody>\n",
       "    <tr>\n",
       "      <th>3</th>\n",
       "      <td>color-womens-tree-breezers-jet-black</td>\n",
       "      <td>4009</td>\n",
       "    </tr>\n",
       "    <tr>\n",
       "      <th>4</th>\n",
       "      <td>color-mens-tree-runners-jet-black-black</td>\n",
       "      <td>3703</td>\n",
       "    </tr>\n",
       "    <tr>\n",
       "      <th>5</th>\n",
       "      <td>color-mens-wool-runners</td>\n",
       "      <td>2296</td>\n",
       "    </tr>\n",
       "    <tr>\n",
       "      <th>6</th>\n",
       "      <td>color-womens-tree-breezers-navy-night</td>\n",
       "      <td>2256</td>\n",
       "    </tr>\n",
       "    <tr>\n",
       "      <th>7</th>\n",
       "      <td>color-womens-tree-runners-jet-black-black</td>\n",
       "      <td>2210</td>\n",
       "    </tr>\n",
       "    <tr>\n",
       "      <th>...</th>\n",
       "      <td>...</td>\n",
       "      <td>...</td>\n",
       "    </tr>\n",
       "    <tr>\n",
       "      <th>436</th>\n",
       "      <td>color-womens-wool-dasher-fluffs-natural-white-...</td>\n",
       "      <td>1</td>\n",
       "    </tr>\n",
       "    <tr>\n",
       "      <th>437</th>\n",
       "      <td>color-womens-wool-cardi-nebula</td>\n",
       "      <td>1</td>\n",
       "    </tr>\n",
       "    <tr>\n",
       "      <th>438</th>\n",
       "      <td>color-womens-tree-loungers-peppercorn</td>\n",
       "      <td>1</td>\n",
       "    </tr>\n",
       "    <tr>\n",
       "      <th>439</th>\n",
       "      <td>color-mens-wool-pipers-dark-jungle-hazy-pine</td>\n",
       "      <td>1</td>\n",
       "    </tr>\n",
       "    <tr>\n",
       "      <th>440</th>\n",
       "      <td>color-womens-wool-runners-tuke-teal</td>\n",
       "      <td>1</td>\n",
       "    </tr>\n",
       "  </tbody>\n",
       "</table>\n",
       "<p>438 rows × 2 columns</p>\n",
       "</div>"
      ],
      "text/plain": [
       "                                               ITEM_ID  ITEM_ID_size\n",
       "3                 color-womens-tree-breezers-jet-black          4009\n",
       "4              color-mens-tree-runners-jet-black-black          3703\n",
       "5                              color-mens-wool-runners          2296\n",
       "6                color-womens-tree-breezers-navy-night          2256\n",
       "7            color-womens-tree-runners-jet-black-black          2210\n",
       "..                                                 ...           ...\n",
       "436  color-womens-wool-dasher-fluffs-natural-white-...             1\n",
       "437                     color-womens-wool-cardi-nebula             1\n",
       "438              color-womens-tree-loungers-peppercorn             1\n",
       "439       color-mens-wool-pipers-dark-jungle-hazy-pine             1\n",
       "440                color-womens-wool-runners-tuke-teal             1\n",
       "\n",
       "[438 rows x 2 columns]"
      ]
     },
     "execution_count": 201,
     "metadata": {},
     "output_type": "execute_result"
    }
   ],
   "source": [
    "import pandas as pd\n",
    "cwd = os.getcwd()\n",
    "pd.read_parquet('integration/workflow/integration/workflow/unique.ITEM_ID.parquet', engine='pyarrow')"
   ]
  },
  {
   "cell_type": "code",
   "execution_count": null,
   "id": "214088c3-cc28-4c67-83e1-630e3e92a1e3",
   "metadata": {},
   "outputs": [],
   "source": []
  }
 ],
 "metadata": {
  "kernelspec": {
   "display_name": "Python 3 (ipykernel)",
   "language": "python",
   "name": "python3"
  },
  "language_info": {
   "codemirror_mode": {
    "name": "ipython",
    "version": 3
   },
   "file_extension": ".py",
   "mimetype": "text/x-python",
   "name": "python",
   "nbconvert_exporter": "python",
   "pygments_lexer": "ipython3",
   "version": "3.11.4"
  }
 },
 "nbformat": 4,
 "nbformat_minor": 5
}
