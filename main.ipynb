{
 "cells": [
  {
   "cell_type": "code",
   "execution_count": 93,
   "id": "a6164808-2b20-4d30-8f2a-3922335e7519",
   "metadata": {
    "tags": []
   },
   "outputs": [],
   "source": [
    "#This is a starting point\n",
    "#uncomment below to install merlin library\n",
    "#!pip install merlin, nvtabular, merlin.models\n",
    "#I had to downgrade keras to 12.2.0 there maybe issues regarding tensorflow in the future\n",
    "#run lines below if you have also have an error ab not finding a keras package\n",
    "\n",
    "#pip uninstall keras\n",
    "#pip install keras==2.12.0\n",
    "\n",
    "\n",
    "#These are the same imports from\n",
    "#https://github.com/NVIDIA-Merlin/models/blob/main/examples/02-Merlin-Models-and-NVTabular-integration.ipynb\n",
    "import os\n",
    "import pandas as pd\n",
    "import numpy as np\n",
    "import nvtabular as nvt\n",
    "import matplotlib.pyplot as plt\n",
    "import seaborn as sns\n",
    "import keras\n",
    "import polars as pl\n",
    "\n",
    "from sklearn.model_selection import train_test_split\n",
    "\n",
    "from merlin.models.utils.example_utils import workflow_fit_transform\n",
    "import merlin.io\n",
    "import tensorflow as tf\n",
    "\n",
    "import merlin.models.tf as mm\n",
    "from merlin.io.dataset import Dataset\n",
    "from nvtabular.ops import *\n",
    "from merlin.core.utils import download_file\n",
    "from merlin.schema.tags import Tags"
   ]
  },
  {
   "cell_type": "markdown",
   "id": "fed8d8ae-f403-4689-89fc-076f17da0266",
   "metadata": {},
   "source": [
    "### To-do"
   ]
  },
  {
   "cell_type": "markdown",
   "id": "769d4f8b-6d21-415a-bff4-df59e11ac481",
   "metadata": {},
   "source": [
    "1. Clean data << Prices on user_interactions are not what they should be... probably is more\n",
    "2. EDA\n",
    "3. Transform timestamps\n",
    "4. Find out why certain things are crashing the model\n",
    "5. Learn about models and optimizers"
   ]
  },
  {
   "cell_type": "code",
   "execution_count": 94,
   "id": "b32ab8f2-b5f7-466d-9667-efcec8b4d8c1",
   "metadata": {
    "tags": []
   },
   "outputs": [],
   "source": [
    "file_path = '/Users/andrew/Desktop/projects/recsys_data/2023-10-05 9_23pm (2).csv'"
   ]
  },
  {
   "cell_type": "code",
   "execution_count": 95,
   "id": "032fb1a0-26b4-42c1-a348-b103f9d80e5e",
   "metadata": {
    "tags": []
   },
   "outputs": [],
   "source": [
    "def read_target_sample(file_path, sample_frac = 1, rand = 101, order_weight = 1, added_weight = .5):\n",
    "    df = pd.read_csv(file_path).dropna() \n",
    "    #After cleaning should not need dropna()\n",
    "    df['TARGET'] = 0\n",
    "    #Different values for different event_names\n",
    "    df.loc[df['EVENT_NAME'] == 'order', 'TARGET'] = order_weight\n",
    "    df.loc[df['EVENT_NAME'] == 'product_added', 'TARGET'] = added_weight\n",
    "\n",
    "    df = df[df['TARGET'] > 0]\n",
    "    df = df.sample(frac = sample_frac, random_state = rand)\n",
    "    return df"
   ]
  },
  {
   "cell_type": "markdown",
   "id": "2aa80e75-50b5-4d9c-b47a-3c2383d53bcc",
   "metadata": {},
   "source": [
    "# Cleaning"
   ]
  },
  {
   "cell_type": "markdown",
   "id": "f45e2ed7-cfef-42c5-b05c-481d70cd2c7c",
   "metadata": {},
   "source": [
    "# TRANSFORM USER DF"
   ]
  },
  {
   "cell_type": "markdown",
   "id": "7ee90926-f4d3-472a-a409-0433cb7ada8d",
   "metadata": {},
   "source": [
    "# TRANSFORM ITEM DF"
   ]
  },
  {
   "cell_type": "code",
   "execution_count": 9,
   "id": "7bc19904-6fde-4adc-9b07-1472cf066cd5",
   "metadata": {
    "tags": []
   },
   "outputs": [],
   "source": [
    "#Make sure these don't have weird 0 values (like num product_viewed < order), if they do get rid of them especially the last function"
   ]
  },
  {
   "cell_type": "code",
   "execution_count": 10,
   "id": "4a6a06c3-3b5a-43ba-85ad-68decff08bc0",
   "metadata": {
    "tags": []
   },
   "outputs": [],
   "source": [
    "def count_product_views(df):\n",
    "    \"\"\"\n",
    "    count num of times each user has viewed a unique STYLE\n",
    "    \n",
    "    return: a new column with the count of product views appended to each unique USER_ID and STYLE combination\n",
    "    \"\"\"\n",
    "    return df[df['EVENT_NAME'] == 'product_viewed'].groupby(['USER_ID', 'ITEM_ID']).size().reset_index(name='VIEWS')"
   ]
  },
  {
   "cell_type": "code",
   "execution_count": 11,
   "id": "fae6e5a9-7e0e-431d-819a-4d9dd25f78fd",
   "metadata": {
    "tags": []
   },
   "outputs": [],
   "source": [
    "def bought_ratio(df):\n",
    "    \"\"\"\n",
    "    for each unique item how many people bought divided by all people or len(unique(USER_ID))\n",
    "    \n",
    "    return: a new column with float proportion\n",
    "    \"\"\"\n",
    "    hold = df[df['EVENT_NAME'] == 'order'].groupby('ITEM_ID').size().reset_index(name='BUY_RATIO')\n",
    "    num_users = df['USER_ID'].nunique()\n",
    "    return hold"
   ]
  },
  {
   "cell_type": "code",
   "execution_count": 12,
   "id": "40f167d9-c7c1-4324-8d71-ab7e664d7a4d",
   "metadata": {
    "tags": []
   },
   "outputs": [],
   "source": [
    "def viewed_ratio(df):\n",
    "    \"\"\"\n",
    "    for each unique item how many people viewed divided by all people or len(unique(USER_ID))\n",
    "    \n",
    "    return: a new column with float proportion\n",
    "    \"\"\"\n",
    "    return df[df['EVENT_NAME'] == 'product_viewed'].groupby('ITEM_ID')['USER_ID'].nunique().reset_index(name='viewers')"
   ]
  },
  {
   "cell_type": "code",
   "execution_count": 13,
   "id": "d6909040-771c-4bdb-9853-8304899b86bd",
   "metadata": {
    "tags": []
   },
   "outputs": [],
   "source": [
    "def cart_ratio(df):\n",
    "    \"\"\"\n",
    "    for each unique item how many people added cart divided by all people or len(unique(USER_ID))\n",
    "    \n",
    "    return: a new column with float proportion\n",
    "    \"\"\"\n",
    "    cart_counts = df[df['EVENT_NAME'] == 'add_to_cart'].groupby('ITEM_ID')['USER_ID'].nunique()\n",
    "    total_users = df['USER_ID'].nunique()\n",
    "    cart_ratio = cart_counts / total_users\n",
    "    return cart_ratio"
   ]
  },
  {
   "cell_type": "code",
   "execution_count": 14,
   "id": "24683039-321e-405d-997e-99494c00e067",
   "metadata": {
    "tags": []
   },
   "outputs": [],
   "source": [
    "def viewed_to_bought_ratio(df):\n",
    "    \"\"\"\n",
    "    the number of views divided by bought... aka do people need to view it many times before buying it or not\n",
    "    \n",
    "    \"\"\"\n",
    "    bought_ratio_df = bought_ratio(df)\n",
    "    viewed_ratio_df = viewed_ratio(df)\n",
    "    viewed_to_bought_ratio = pd.merge(bought_ratio_df, viewed_ratio_df, on='ITEM_ID', how='left')\n",
    "    viewed_to_bought_ratio['buy_to_view_ratio'] = viewed_to_bought_ratio['viewers'] / viewed_to_bought_ratio['buyers']\n",
    "    return viewed_to_bought_ratio.dropna() # only function with nan values i had to drop"
   ]
  },
  {
   "cell_type": "code",
   "execution_count": 15,
   "id": "56bf6e5a",
   "metadata": {
    "tags": []
   },
   "outputs": [],
   "source": [
    "#viewed_to_bought_ratio(df).sort_values('buy_to_view_ratio', ascending=False)"
   ]
  },
  {
   "cell_type": "markdown",
   "id": "46942217-675a-48ec-8a65-8c62ff13ae6f",
   "metadata": {},
   "source": [
    "## I am going to try and feature engineer on item_df and user_df then merge with negative sampled df.\n",
    "\n",
    "## Also going to add in testing"
   ]
  },
  {
   "cell_type": "code",
   "execution_count": 39,
   "id": "a6f0b4d3-d6d8-440b-98a7-89e9fc1c1383",
   "metadata": {
    "tags": []
   },
   "outputs": [],
   "source": [
    "def negative_sample(df, multiplier = 1):\n",
    "    negative_df = df[['USER_ID', 'ITEM_ID', 'TARGET']]\n",
    "    sections = df.shape[0]//10000\n",
    "    negative_data = []\n",
    "    item_map = df['ITEM_ID'].unique()\n",
    "    rng = np.random.default_rng()\n",
    "    zero_multiplier = multiplier #https://datascience.stackexchange.com/questions/6939/ratio-of-positive-to-negative-sample-in-data-set-for-best-classification\n",
    "    #The above datascience stackexchange says 1:1 is a good ratio, i didn't look into it that much tho\n",
    "\n",
    "    for chunk in np.array_split(df, sections):\n",
    "        user_id_counts = pd.value_counts(chunk.USER_ID)\n",
    "        item_ids = []\n",
    "        for user_id, count in user_id_counts.items():\n",
    "            item_ids.append(np.random.randint(low = 0, high = item_map.shape[0], size = count*zero_multiplier))\n",
    "        item_ids = np.concatenate(item_ids)\n",
    "        negative_data.append(pd.DataFrame({'USER_ID': np.repeat(user_id_counts.index, repeats = user_id_counts.values*zero_multiplier),\n",
    "                                           'ITEM_ID': item_map[item_ids],\n",
    "                                           'TARGET': 0}))\n",
    "    negative_data.append(negative_df)\n",
    "    sample_data = pd.concat(negative_data)\n",
    "    sample_data = sample_data.reset_index(drop = True)\n",
    "    return sample_data"
   ]
  },
  {
   "cell_type": "markdown",
   "id": "21b75277-df6c-45f8-9865-16eedbbd7384",
   "metadata": {},
   "source": [
    "### Merging TEST IN FUTURE"
   ]
  },
  {
   "cell_type": "code",
   "execution_count": 43,
   "id": "84da7081-ba01-4825-84a4-4dc1a5046ea1",
   "metadata": {
    "tags": []
   },
   "outputs": [],
   "source": [
    "def merge(negative_df, df):\n",
    "    item_df = df[['STYLE', 'USER_ID', 'PRICE_INFORMATION', 'AVG_REVIEW_SCORE',\n",
    "              'ITEM_ID', 'TAXONOMY_STYLE', 'COLOR_NAME', 'PRODUCT_CLASS',\n",
    "              'PRODUCT_SUBCLASS', 'TEAM', 'FRANCHISE', 'PRODUCT_GROUP', 'EVENT_NAME']]\n",
    "    \n",
    "    user_df = df[['USER_ID', 'ITEM_ID', 'COUNTRY', 'DERIVED_GENDER_BY_NAME', 'CLICKSTREAM_EVENTS_TOTAL', 'FIRST_PURCHASE_AT', 'FIRST_VISIT_AT',\n",
    "              'LATEST_VISIT_AT', 'LATEST_PURCHASE_AT']]\n",
    "    \n",
    "    df_subset = negative_df.merge(user_df, on = ['USER_ID', 'ITEM_ID'], how = 'outer').sort_values(['USER_ID', 'TARGET'], ascending=False).drop_duplicates(subset = ['USER_ID', 'ITEM_ID']).fillna(method='bfill')\n",
    "    df_subset = df_subset.merge(item_df, on = ['USER_ID', 'ITEM_ID'], how = 'outer').sort_values(['ITEM_ID', 'TARGET'], ascending=False).drop_duplicates(subset = ['USER_ID', 'ITEM_ID']).fillna(method='bfill')\n",
    "    return df_subset"
   ]
  },
  {
   "cell_type": "code",
   "execution_count": 97,
   "id": "6dd79ec9-f741-4e0d-a46e-123e36c4f68c",
   "metadata": {
    "tags": []
   },
   "outputs": [],
   "source": [
    "#num rows\n",
    "def train_valid_split_to_parquet(df, ratio = .2):\n",
    "    data_size = df.shape[0]\n",
    "\n",
    "    train_split_ratio = int(ratio * data_size)\n",
    "\n",
    "    train = df[:-train_split_ratio].to_parquet(\"train.parquet\")\n",
    "    valid = df[-train_split_ratio:].to_parquet(\"valid.parquet\")"
   ]
  },
  {
   "cell_type": "markdown",
   "id": "da5efa1f-91e7-4c32-a882-6bbe6fe26555",
   "metadata": {},
   "source": [
    "# NVTabular"
   ]
  },
  {
   "cell_type": "code",
   "execution_count": 78,
   "id": "0fb38a1b-2988-470b-9092-1c3ee2863791",
   "metadata": {
    "tags": []
   },
   "outputs": [],
   "source": [
    "def nvtabular_pipeline():\n",
    "    categorical_user_features = ['COUNTRY']\n",
    "    categorical_item_features = ['STYLE', 'TAXONOMY_STYLE', 'COLOR_NAME', 'PRODUCT_CLASS', 'PRODUCT_SUBCLASS', 'TEAM', 'FRANCHISE', 'PRODUCT_GROUP']\n",
    "    user_id = [\"USER_ID\"] >> Categorify(dtype = \"int32\", out_path='categories') >> TagAsUserID()\n",
    "    item_id = [\"ITEM_ID\"] >> Categorify(dtype = \"int32\", out_path='categories') >> TagAsItemID()\n",
    "    item_features = categorical_item_features >> Categorify(dtype = \"int32\") >> TagAsItemFeatures()\n",
    "    user_features = categorical_user_features >> Categorify(dtype = \"int32\") >> TagAsUserFeatures()\n",
    "    \n",
    "    target = (\n",
    "        #Turn categorical into continuous\n",
    "        nvt.ColumnSelector([\"TARGET\"])\n",
    "        #>> LambdaOp(lambda col: (col > 0).astype(\"int32\")) CHANGES ALL WEIGHTS TO 1 \n",
    "        >> AddTags([\"categorical_classification\", \"target\"]) #categorical look into it\n",
    "        >> Rename(name=\"INTERACTION_BINARY\")\n",
    "    )\n",
    "    \n",
    "    CLICKSTREAM_EVENTS_TOTAL = (\n",
    "        nvt.ColumnSelector(['CLICKSTREAM_EVENTS_TOTAL'])\n",
    "        >>FillMissing(1)\n",
    "        >>LogOp()\n",
    "        >>Normalize()\n",
    "        >>LambdaOp(lambda col: col.astype(\"float32\"))\n",
    "        >>TagAsUserFeatures()\n",
    "    )\n",
    "\n",
    "    PRICE_INFORMATION = (\n",
    "        ['PRICE_INFORMATION']\n",
    "        >>FillMissing(1)\n",
    "        >>LogOp()\n",
    "        >>Normalize()\n",
    "        >>LambdaOp(lambda col: col.astype(\"float32\"))\n",
    "        >>TagAsItemFeatures()\n",
    "    )\n",
    "\n",
    "    AVG_REVIEW_SCORE = (\n",
    "        ['AVG_REVIEW_SCORE']\n",
    "        >>Normalize()\n",
    "        >>LambdaOp(lambda col: col**2)\n",
    "        >>TagAsItemFeatures()\n",
    "    )\n",
    "\n",
    "    INTERACTION_TIMESTAMP = (\n",
    "        nvt.ColumnSelector(['DAYS_SINCE_INTERACTION'])\n",
    "        #>>Normalize()\n",
    "        >>TagAsUserFeatures()\n",
    "    )\n",
    "\n",
    "    DAYS_SINCE_LAST_VISIT = (\n",
    "        nvt.ColumnSelector(['DAYS_SINCE_LAST_VISIT'])\n",
    "        >>TagAsUserFeatures()\n",
    "    )\n",
    "    categorical_features = (categorical_item_features) #Just a place holder... redo with better categories\n",
    "    user_cat_features = (user_features)\n",
    "    label = nvt.ColumnSelector(['TARGET'])\n",
    "    te_features = categorical_features >> TargetEncoding(label)\n",
    "    user_feats = user_cat_features >> TargetEncoding(label)\n",
    "    te_features_norm = te_features >> Normalize() >> LambdaOp(lambda col: col.astype('float32')) >> TagAsItemFeatures()\n",
    "    user_cat_features_norm = user_feats >> Normalize() >> LambdaOp(lambda col: col.astype('float32')) >> TagAsItemFeatures()\n",
    "    output = (\n",
    "        user_id + \n",
    "        item_id +\n",
    "        target +\n",
    "        CLICKSTREAM_EVENTS_TOTAL + \n",
    "        te_features +\n",
    "        user_feats +\n",
    "        # INTERACTION_TIMESTAMP +\n",
    "        # DAYS_SINCE_LAST_VISIT + \n",
    "        #PRICE_INFORMATION + #<< THIS CAUSES MODEL TO CRASH AND BURN\n",
    "        AVG_REVIEW_SCORE\n",
    "    )\n",
    "\n",
    "    workflow_fit_transform(output, 'train.parquet', 'valid.parquet', 'integration') \n",
    "    train = merlin.io.Dataset(\n",
    "        os.path.join(\"integration\", \"train\"), engine=\"parquet\"\n",
    "    )\n",
    "    valid = merlin.io.Dataset(\n",
    "        os.path.join(\"integration\", \"valid\"), engine=\"parquet\"\n",
    "    )\n",
    "    return train,valid"
   ]
  },
  {
   "cell_type": "markdown",
   "id": "f8bcd359-0fbc-4ac2-b660-23d57e375134",
   "metadata": {},
   "source": [
    "## Model"
   ]
  },
  {
   "cell_type": "code",
   "execution_count": 100,
   "id": "71ab792f-778e-4317-8fbe-b9166127d6e2",
   "metadata": {
    "tags": []
   },
   "outputs": [],
   "source": [
    "def preprocessing():\n",
    "    df = read_target_sample(file_path)\n",
    "    neg_df = negative_sample(df)\n",
    "    merged_df = merge(neg_df, df) #merge doesn't work right ofc\n",
    "    train_valid_split_to_parquet(merged_df)\n",
    "    train, valid = nvtabular_pipeline()\n",
    "    return train, valid"
   ]
  },
  {
   "cell_type": "code",
   "execution_count": 101,
   "id": "1e5abead-b598-451f-bd9f-8d80a61e89e1",
   "metadata": {
    "tags": []
   },
   "outputs": [],
   "source": [
    "def ncf_model(train, valid, lr = .0175, epoch = 1):\n",
    "    model = mm.benchmark.NCFModel(\n",
    "        train.schema,\n",
    "        embedding_dim=64,\n",
    "        mlp_block=mm.MLPBlock([128, 64]),\n",
    "        prediction_tasks=mm.BinaryOutput(train.schema.select_by_tag(Tags.TARGET).column_names[0]),\n",
    "    )\n",
    "\n",
    "    model.compile(optimizer=keras.optimizers.Adam(learning_rate = lr), run_eagerly=False, metrics=[mm.RecallAt(), mm.NDCGAt()]);\n",
    "    model.fit(train, validation_data=valid, batch_size=1024, epochs = epoch); #Less epochs, more accurate valid... less accurate train\n",
    "    print(model.evaluate(valid, batch_size = 1024, return_dict = True))"
   ]
  },
  {
   "cell_type": "code",
   "execution_count": 102,
   "id": "6cbad8eb-03d4-4803-a76c-027293525d6e",
   "metadata": {
    "tags": []
   },
   "outputs": [
    {
     "name": "stderr",
     "output_type": "stream",
     "text": [
      "/Users/andrew/anaconda3/lib/python3.11/site-packages/merlin/io/dataset.py:267: UserWarning: Initializing an NVTabular Dataset in CPU mode.This is an experimental feature with extremely limited support!\n",
      "  warnings.warn(\n",
      "/Users/andrew/anaconda3/lib/python3.11/site-packages/merlin/io/dataset.py:267: UserWarning: Initializing an NVTabular Dataset in CPU mode.This is an experimental feature with extremely limited support!\n",
      "  warnings.warn(\n",
      "/Users/andrew/anaconda3/lib/python3.11/site-packages/merlin/io/dataset.py:267: UserWarning: Initializing an NVTabular Dataset in CPU mode.This is an experimental feature with extremely limited support!\n",
      "  warnings.warn(\n",
      "/Users/andrew/anaconda3/lib/python3.11/site-packages/merlin/io/dataset.py:267: UserWarning: Initializing an NVTabular Dataset in CPU mode.This is an experimental feature with extremely limited support!\n",
      "  warnings.warn(\n",
      "/Users/andrew/anaconda3/lib/python3.11/site-packages/merlin/io/dataset.py:267: UserWarning: Initializing an NVTabular Dataset in CPU mode.This is an experimental feature with extremely limited support!\n",
      "  warnings.warn(\n",
      "/Users/andrew/anaconda3/lib/python3.11/site-packages/merlin/io/dataset.py:267: UserWarning: Initializing an NVTabular Dataset in CPU mode.This is an experimental feature with extremely limited support!\n",
      "  warnings.warn(\n",
      "/Users/andrew/anaconda3/lib/python3.11/site-packages/merlin/io/dataset.py:267: UserWarning: Initializing an NVTabular Dataset in CPU mode.This is an experimental feature with extremely limited support!\n",
      "  warnings.warn(\n"
     ]
    },
    {
     "name": "stdout",
     "output_type": "stream",
     "text": [
      "129/129 [==============================] - 3s 14ms/step - loss: 0.3796 - recall_at_10: 0.9031 - ndcg_at_10: 0.9034 - regularization_loss: 0.0000e+00 - loss_batch: 0.3884 - val_loss: 0.6909 - val_recall_at_10: 0.6379 - val_ndcg_at_10: 0.6332 - val_regularization_loss: 0.0000e+00 - val_loss_batch: 0.4890\n",
      "33/33 [==============================] - 0s 1ms/step - loss: 0.6909 - recall_at_10: 0.3865 - ndcg_at_10: 0.3836 - regularization_loss: 0.0000e+00 - loss_batch: 0.6805\n",
      "{'loss': 0.6909409761428833, 'recall_at_10': 0.4000000059604645, 'ndcg_at_10': 0.39299237728118896, 'regularization_loss': 0.0, 'loss_batch': 0.48897385597229004}\n"
     ]
    }
   ],
   "source": [
    "x1, x2 = preprocessing()\n",
    "ncf_model(x1, x2)"
   ]
  },
  {
   "cell_type": "code",
   "execution_count": 30,
   "id": "daa805bc-465a-4133-a55d-c0948c75169d",
   "metadata": {
    "tags": []
   },
   "outputs": [],
   "source": [
    "def ncf_pred_hist():\n",
    "    preds = model.predict(valid, batch_size = 1024)"
   ]
  },
  {
   "cell_type": "code",
   "execution_count": 31,
   "id": "65abedde-254e-4960-b288-3b3f5d8065d9",
   "metadata": {
    "tags": []
   },
   "outputs": [
    {
     "data": {
      "text/plain": [
       "(array([0.01432651, 0.10112829, 0.64974927, 2.41865162, 5.47356873,\n",
       "        9.3712216 , 6.11657611, 3.16447276, 0.4997423 , 0.01769745]),\n",
       " array([0.15684295, 0.19277909, 0.22871524, 0.26465139, 0.30058753,\n",
       "        0.33652368, 0.37245983, 0.40839598, 0.44433212, 0.48026827,\n",
       "        0.51620442]),\n",
       " <BarContainer object of 10 artists>)"
      ]
     },
     "execution_count": 31,
     "metadata": {},
     "output_type": "execute_result"
    },
    {
     "data": {
      "image/png": "[encoded data removed]",
      "text/plain": [
       "<Figure size 640x480 with 1 Axes>"
      ]
     },
     "metadata": {},
     "output_type": "display_data"
    }
   ],
   "source": [
    "plt.hist(preds, density = True)"
   ]
  },
  {
   "cell_type": "markdown",
   "id": "1e5a4afd-1d11-4390-809f-107476ec31e7",
   "metadata": {},
   "source": [
    "# Model"
   ]
  },
  {
   "cell_type": "code",
   "execution_count": 86,
   "id": "d79976dd-8cb2-4a09-adcc-33f36e19a9d8",
   "metadata": {
    "tags": []
   },
   "outputs": [],
   "source": [
    "def dlrm_model():\n",
    "    model_fb = mm.DLRMModel(\n",
    "        train.schema,\n",
    "        embedding_dim = 64,\n",
    "        top_block = mm.MLPBlock([128, 64, 32]),\n",
    "        bottom_block = mm.MLPBlock([128, 64]),\n",
    "    )\n",
    "\n",
    "    model_fb.compile(optimizer = keras.optimizers.Adam(learning_rate = .0175), metrics=[mm.RecallAt(5), mm.NDCGAt(5)])\n",
    "    model_fb.fit(train, batch_size = 1024, epochs = 1)\n",
    "    print(model_fb.evaluate(valid, batch_size = 1024, return_dict = True))\n",
    "\n"
   ]
  },
  {
   "cell_type": "code",
   "execution_count": 89,
   "id": "83392dda-4910-4df7-a505-e745731ba675",
   "metadata": {
    "tags": []
   },
   "outputs": [
    {
     "name": "stdout",
     "output_type": "stream",
     "text": [
      "130/130 [==============================] - 3s 13ms/step - loss: 0.3728 - recall_at_10: 0.8828 - ndcg_at_10: 0.8863 - regularization_loss: 0.0000e+00 - loss_batch: 0.3677 - val_loss: 0.7304 - val_recall_at_10: 0.7697 - val_ndcg_at_10: 0.7685 - val_regularization_loss: 0.0000e+00 - val_loss_batch: 0.4716\n",
      "33/33 [==============================] - 0s 1ms/step - loss: 0.7304 - recall_at_10: 0.4124 - ndcg_at_10: 0.4118 - regularization_loss: 0.0000e+00 - loss_batch: 0.7171\n",
      "{'loss': 0.7303604483604431, 'recall_at_10': 0.4227272570133209, 'ndcg_at_10': 0.40844476222991943, 'regularization_loss': 0.0, 'loss_batch': 0.4715523421764374}\n"
     ]
    }
   ],
   "source": [
    "ncf_model(train, valid)"
   ]
  },
  {
   "cell_type": "code",
   "execution_count": 85,
   "id": "b489641c-51b4-4a33-8717-f7e09dcbc7df",
   "metadata": {
    "tags": []
   },
   "outputs": [
    {
     "ename": "NameError",
     "evalue": "name 'model_fb' is not defined",
     "output_type": "error",
     "traceback": [
      "\u001b[0;31m---------------------------------------------------------------------------\u001b[0m",
      "\u001b[0;31mNameError\u001b[0m                                 Traceback (most recent call last)",
      "Cell \u001b[0;32mIn[85], line 1\u001b[0m\n\u001b[0;32m----> 1\u001b[0m preds_2 \u001b[38;5;241m=\u001b[39m model_fb\u001b[38;5;241m.\u001b[39mpredict(valid, batch_size \u001b[38;5;241m=\u001b[39m \u001b[38;5;241m1024\u001b[39m)\n\u001b[1;32m      2\u001b[0m plt\u001b[38;5;241m.\u001b[39mhist(preds_2, density \u001b[38;5;241m=\u001b[39m \u001b[38;5;28;01mTrue\u001b[39;00m)\n",
      "\u001b[0;31mNameError\u001b[0m: name 'model_fb' is not defined"
     ]
    }
   ],
   "source": [
    "preds_2 = model_fb.predict(valid, batch_size = 1024)\n",
    "plt.hist(preds_2, density = True)"
   ]
  },
  {
   "cell_type": "code",
   "execution_count": null,
   "id": "16f8575f-382e-4eb7-8d6f-27db5d376964",
   "metadata": {},
   "outputs": [],
   "source": []
  }
 ],
 "metadata": {
  "kernelspec": {
   "display_name": "Python 3 (ipykernel)",
   "language": "python",
   "name": "python3"
  },
  "language_info": {
   "codemirror_mode": {
    "name": "ipython",
    "version": 3
   },
   "file_extension": ".py",
   "mimetype": "text/x-python",
   "name": "python",
   "nbconvert_exporter": "python",
   "pygments_lexer": "ipython3",
   "version": "3.11.4"
  }
 },
 "nbformat": 4,
 "nbformat_minor": 5
}
