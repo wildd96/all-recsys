{
 "cells": [
  {
   "cell_type": "code",
   "execution_count": 5,
   "id": "a6164808-2b20-4d30-8f2a-3922335e7519",
   "metadata": {
    "tags": []
   },
   "outputs": [],
   "source": [
    "#This is a starting point\n",
    "#uncomment below to install merlin library\n",
    "#!pip install merlin, nvtabular, merlin.models\n",
    "#I had to downgrade keras to 12.2.0 there maybe issues regarding tensorflow in the future\n",
    "#run lines below if you have also have an error ab not finding a keras package\n",
    "\n",
    "#!pip uninstall keras\n",
    "#!pip install keras==2.12.0\n",
    "\n",
    "\n",
    "#These are the same imports from\n",
    "#https://github.com/NVIDIA-Merlin/models/blob/main/examples/02-Merlin-Models-and-NVTabular-integration.ipynb\n",
    "\n",
    "import os\n",
    "import pandas as pd\n",
    "import nvtabular as nvt\n",
    "import matplotlib.pyplot as plt\n",
    "\n",
    "from merlin.models.utils.example_utils import workflow_fit_transform\n",
    "import merlin.io\n",
    "\n",
    "import merlin.models.tf as mm\n",
    "\n",
    "from nvtabular import ops\n",
    "from merlin.core.utils import download_file\n",
    "from merlin.schema.tags import Tags"
   ]
  },
  {
   "cell_type": "markdown",
   "id": "7b424279-225c-4eef-b583-0427bc954c57",
   "metadata": {},
   "source": [
    "# EDA"
   ]
  },
  {
   "cell_type": "code",
   "execution_count": 18,
   "id": "95493f8f-f037-4bc2-b737-3e3cb0c14967",
   "metadata": {
    "tags": []
   },
   "outputs": [
    {
     "data": {
      "image/png": "[encoded data removed]",
      "text/plain": [
       "<Figure size 640x480 with 1 Axes>"
      ]
     },
     "metadata": {},
     "output_type": "display_data"
    }
   ],
   "source": [
    "df = pd.read_csv('snowflake_tables/2023-10-05 9_23pm.csv')\n",
    "plt.hist(df['LOG_CLICKSTREAM_EVENTS_TOTAL'], bins = 100);"
   ]
  },
  {
   "cell_type": "code",
   "execution_count": null,
   "id": "032fb1a0-26b4-42c1-a348-b103f9d80e5e",
   "metadata": {},
   "outputs": [],
   "source": []
  },
  {
   "cell_type": "markdown",
   "id": "da5efa1f-91e7-4c32-a882-6bbe6fe26555",
   "metadata": {},
   "source": [
    "# NVTabular"
   ]
  },
  {
   "cell_type": "code",
   "execution_count": null,
   "id": "5f247a55-cbdd-4cce-8b47-7e939e0984e9",
   "metadata": {},
   "outputs": [],
   "source": [
    "#This is how to iniate a dataset using NVtabular an NVIDIA \n",
    "#optimized ETL/feature engineering(i think?) library\n",
    "#data = nvt.io.dataset.Dataset('data/reviews.csv')\n",
    "\n",
    "data = pd.read_csv(\"data/reviews.csv\")\n",
    "data_size = data.shape[0]\n",
    "train_split_ratio = int(.2 * data_size)\n",
    "\n",
    "train_data = data[train_split_ratio:]\n",
    "valid_data = data[:train_split_ratio]"
   ]
  },
  {
   "cell_type": "markdown",
   "id": "1e5a4afd-1d11-4390-809f-107476ec31e7",
   "metadata": {},
   "source": [
    "# Model"
   ]
  },
  {
   "cell_type": "code",
   "execution_count": 8,
   "id": "79d329a2-d750-4f71-8f28-78d33414a716",
   "metadata": {
    "tags": []
   },
   "outputs": [
    {
     "name": "stderr",
     "output_type": "stream",
     "text": [
      "/Users/andrew/anaconda3/envs/allbirds-recsys/lib/python3.11/site-packages/merlin/io/dataset.py:267: UserWarning: Initializing an NVTabular Dataset in CPU mode.This is an experimental feature with extremely limited support!\n",
      "  warnings.warn(\n"
     ]
    },
    {
     "ename": "ValueError",
     "evalue": "('Binary classification task requires a column with a ', '`Tags.BINARY_CLASSIFICATION` tag.')",
     "output_type": "error",
     "traceback": [
      "\u001b[0;31m---------------------------------------------------------------------------\u001b[0m",
      "\u001b[0;31mValueError\u001b[0m                                Traceback (most recent call last)",
      "Cell \u001b[0;32mIn[8], line 12\u001b[0m\n\u001b[1;32m      4\u001b[0m train \u001b[38;5;241m=\u001b[39m Dataset(train_data)\n\u001b[1;32m      5\u001b[0m valid \u001b[38;5;241m=\u001b[39m Dataset(valid_data)\n\u001b[1;32m      7\u001b[0m model \u001b[38;5;241m=\u001b[39m mm\u001b[38;5;241m.\u001b[39mDLRMModel(\n\u001b[1;32m      8\u001b[0m     train\u001b[38;5;241m.\u001b[39mschema,                                                   \u001b[38;5;66;03m# 1\u001b[39;00m\n\u001b[1;32m      9\u001b[0m     embedding_dim\u001b[38;5;241m=\u001b[39m\u001b[38;5;241m64\u001b[39m,\n\u001b[1;32m     10\u001b[0m     bottom_block\u001b[38;5;241m=\u001b[39mmm\u001b[38;5;241m.\u001b[39mMLPBlock([\u001b[38;5;241m128\u001b[39m, \u001b[38;5;241m64\u001b[39m]),                            \u001b[38;5;66;03m# 2\u001b[39;00m\n\u001b[1;32m     11\u001b[0m     top_block\u001b[38;5;241m=\u001b[39mmm\u001b[38;5;241m.\u001b[39mMLPBlock([\u001b[38;5;241m128\u001b[39m, \u001b[38;5;241m64\u001b[39m, \u001b[38;5;241m32\u001b[39m]),\n\u001b[0;32m---> 12\u001b[0m     prediction_tasks\u001b[38;5;241m=\u001b[39mmm\u001b[38;5;241m.\u001b[39mBinaryClassificationTask(train\u001b[38;5;241m.\u001b[39mschema)      \u001b[38;5;66;03m# 3\u001b[39;00m\n\u001b[1;32m     13\u001b[0m )\n\u001b[1;32m     15\u001b[0m model\u001b[38;5;241m.\u001b[39mcompile(optimizer\u001b[38;5;241m=\u001b[39m\u001b[38;5;124m\"\u001b[39m\u001b[38;5;124madagrad\u001b[39m\u001b[38;5;124m\"\u001b[39m, run_eagerly\u001b[38;5;241m=\u001b[39m\u001b[38;5;28;01mFalse\u001b[39;00m)\n\u001b[1;32m     16\u001b[0m model\u001b[38;5;241m.\u001b[39mfit(train, validation_data\u001b[38;5;241m=\u001b[39mvalid, batch_size\u001b[38;5;241m=\u001b[39m\u001b[38;5;241m1024\u001b[39m)\n",
      "File \u001b[0;32m~/anaconda3/envs/allbirds-recsys/lib/python3.11/site-packages/merlin/models/tf/prediction_tasks/classification.py:69\u001b[0m, in \u001b[0;36mBinaryClassificationTask.__init__\u001b[0;34m(self, target, task_name, task_block, **kwargs)\u001b[0m\n\u001b[1;32m     67\u001b[0m target_name \u001b[38;5;241m=\u001b[39m target\u001b[38;5;241m.\u001b[39mselect_by_tag(Tags\u001b[38;5;241m.\u001b[39mBINARY_CLASSIFICATION)\n\u001b[1;32m     68\u001b[0m \u001b[38;5;28;01mif\u001b[39;00m \u001b[38;5;129;01mnot\u001b[39;00m target_name\u001b[38;5;241m.\u001b[39mcolumn_names:\n\u001b[0;32m---> 69\u001b[0m     \u001b[38;5;28;01mraise\u001b[39;00m \u001b[38;5;167;01mValueError\u001b[39;00m(\n\u001b[1;32m     70\u001b[0m         \u001b[38;5;124m\"\u001b[39m\u001b[38;5;124mBinary classification task requires a column with a \u001b[39m\u001b[38;5;124m\"\u001b[39m,\n\u001b[1;32m     71\u001b[0m         \u001b[38;5;124m\"\u001b[39m\u001b[38;5;124m`Tags.BINARY_CLASSIFICATION` tag.\u001b[39m\u001b[38;5;124m\"\u001b[39m,\n\u001b[1;32m     72\u001b[0m     )\n\u001b[1;32m     73\u001b[0m \u001b[38;5;28;01melif\u001b[39;00m \u001b[38;5;28mlen\u001b[39m(target_name\u001b[38;5;241m.\u001b[39mcolumn_names) \u001b[38;5;241m>\u001b[39m \u001b[38;5;241m1\u001b[39m:\n\u001b[1;32m     74\u001b[0m     \u001b[38;5;28;01mraise\u001b[39;00m \u001b[38;5;167;01mValueError\u001b[39;00m(\n\u001b[1;32m     75\u001b[0m         \u001b[38;5;124m\"\u001b[39m\u001b[38;5;124mBinary classification task requires a single column with a \u001b[39m\u001b[38;5;124m\"\u001b[39m,\n\u001b[1;32m     76\u001b[0m         \u001b[38;5;124m\"\u001b[39m\u001b[38;5;124m`Tags.BINARY_CLASSIFICATION` tag. \u001b[39m\u001b[38;5;124m\"\u001b[39m,\n\u001b[1;32m     77\u001b[0m         \u001b[38;5;124m\"\u001b[39m\u001b[38;5;124mFound \u001b[39m\u001b[38;5;132;01m{}\u001b[39;00m\u001b[38;5;124m columns. \u001b[39m\u001b[38;5;124m\"\u001b[39m\u001b[38;5;241m.\u001b[39mformat(\u001b[38;5;28mlen\u001b[39m(target_name\u001b[38;5;241m.\u001b[39mcolumn_names)),\n\u001b[1;32m     78\u001b[0m         \u001b[38;5;124m\"\u001b[39m\u001b[38;5;124mPlease specify the column name with the `target` argument.\u001b[39m\u001b[38;5;124m\"\u001b[39m,\n\u001b[1;32m     79\u001b[0m     )\n",
      "\u001b[0;31mValueError\u001b[0m: ('Binary classification task requires a column with a ', '`Tags.BINARY_CLASSIFICATION` tag.')"
     ]
    }
   ],
   "source": [
    "import merlin.models.tf as mm\n",
    "from merlin.io.dataset import Dataset\n",
    "\n",
    "train = Dataset(train_data)\n",
    "valid = Dataset(valid_data)\n",
    "\n",
    "model = mm.DLRMModel(\n",
    "    train.schema,                                                   # 1\n",
    "    embedding_dim=64,\n",
    "    bottom_block=mm.MLPBlock([128, 64]),                            # 2\n",
    "    top_block=mm.MLPBlock([128, 64, 32]),\n",
    "    prediction_tasks=mm.BinaryClassificationTask(train.schema)      # 3\n",
    ")\n",
    "\n",
    "model.compile(optimizer=\"adagrad\", run_eagerly=False)\n",
    "model.fit(train, validation_data=valid, batch_size=1024)\n",
    "eval_metrics = model.evaluate(valid, batch_size=1024, return_dict=True)"
   ]
  },
  {
   "cell_type": "code",
   "execution_count": null,
   "id": "5cedc2fe-7756-4f09-8e26-4d6f2a9278ab",
   "metadata": {},
   "outputs": [],
   "source": []
  }
 ],
 "metadata": {
  "kernelspec": {
   "display_name": "Python 3 (ipykernel)",
   "language": "python",
   "name": "python3"
  },
  "language_info": {
   "codemirror_mode": {
    "name": "ipython",
    "version": 3
   },
   "file_extension": ".py",
   "mimetype": "text/x-python",
   "name": "python",
   "nbconvert_exporter": "python",
   "pygments_lexer": "ipython3",
   "version": "3.11.4"
  }
 },
 "nbformat": 4,
 "nbformat_minor": 5
}
